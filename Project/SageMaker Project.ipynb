{
 "cells": [
  {
   "cell_type": "markdown",
   "metadata": {},
   "source": [
    "# Creating a Sentiment Analysis Web App\n",
    "## Using PyTorch and SageMaker\n",
    "\n",
    "_Deep Learning Nanodegree Program | Deployment_\n",
    "\n",
    "---\n",
    "\n",
    "Now that we have a basic understanding of how SageMaker works we will try to use it to construct a complete project from end to end. Our goal will be to have a simple web page which a user can use to enter a movie review. The web page will then send the review off to our deployed model which will predict the sentiment of the entered review.\n",
    "\n",
    "## Instructions\n",
    "\n",
    "Some template code has already been provided for you, and you will need to implement additional functionality to successfully complete this notebook. You will not need to modify the included code beyond what is requested. Sections that begin with '**TODO**' in the header indicate that you need to complete or implement some portion within them. Instructions will be provided for each section and the specifics of the implementation are marked in the code block with a `# TODO: ...` comment. Please be sure to read the instructions carefully!\n",
    "\n",
    "In addition to implementing code, there will be questions for you to answer which relate to the task and your implementation. Each section where you will answer a question is preceded by a '**Question:**' header. Carefully read each question and provide your answer below the '**Answer:**' header by editing the Markdown cell.\n",
    "\n",
    "> **Note**: Code and Markdown cells can be executed using the **Shift+Enter** keyboard shortcut. In addition, a cell can be edited by typically clicking it (double-click for Markdown cells) or by pressing **Enter** while it is highlighted.\n",
    "\n",
    "## General Outline\n",
    "\n",
    "Recall the general outline for SageMaker projects using a notebook instance.\n",
    "\n",
    "1. Download or otherwise retrieve the data.\n",
    "2. Process / Prepare the data.\n",
    "3. Upload the processed data to S3.\n",
    "4. Train a chosen model.\n",
    "5. Test the trained model (typically using a batch transform job).\n",
    "6. Deploy the trained model.\n",
    "7. Use the deployed model.\n",
    "\n",
    "For this project, you will be following the steps in the general outline with some modifications. \n",
    "\n",
    "First, you will not be testing the model in its own step. You will still be testing the model, however, you will do it by deploying your model and then using the deployed model by sending the test data to it. One of the reasons for doing this is so that you can make sure that your deployed model is working correctly before moving forward.\n",
    "\n",
    "In addition, you will deploy and use your trained model a second time. In the second iteration you will customize the way that your trained model is deployed by including some of your own code. In addition, your newly deployed model will be used in the sentiment analysis web app."
   ]
  },
  {
   "cell_type": "markdown",
   "metadata": {},
   "source": [
    "## Step 1: Downloading the data\n",
    "\n",
    "As in the XGBoost in SageMaker notebook, we will be using the [IMDb dataset](http://ai.stanford.edu/~amaas/data/sentiment/)\n",
    "\n",
    "> Maas, Andrew L., et al. [Learning Word Vectors for Sentiment Analysis](http://ai.stanford.edu/~amaas/data/sentiment/). In _Proceedings of the 49th Annual Meeting of the Association for Computational Linguistics: Human Language Technologies_. Association for Computational Linguistics, 2011."
   ]
  },
  {
   "cell_type": "code",
   "execution_count": 1,
   "metadata": {},
   "outputs": [
    {
     "name": "stdout",
     "output_type": "stream",
     "text": [
      "--2019-09-16 17:02:39--  http://ai.stanford.edu/~amaas/data/sentiment/aclImdb_v1.tar.gz\n",
      "Resolving ai.stanford.edu (ai.stanford.edu)... 171.64.68.10\n",
      "Connecting to ai.stanford.edu (ai.stanford.edu)|171.64.68.10|:80... connected.\n",
      "HTTP request sent, awaiting response... 200 OK\n",
      "Length: 84125825 (80M) [application/x-gzip]\n",
      "Saving to: ‘../data/aclImdb_v1.tar.gz’\n",
      "\n",
      "../data/aclImdb_v1. 100%[===================>]  80.23M  5.87MB/s    in 19s     \n",
      "\n",
      "2019-09-16 17:02:59 (4.14 MB/s) - ‘../data/aclImdb_v1.tar.gz’ saved [84125825/84125825]\n",
      "\n"
     ]
    }
   ],
   "source": [
    "%mkdir ../data\n",
    "!wget -O ../data/aclImdb_v1.tar.gz http://ai.stanford.edu/~amaas/data/sentiment/aclImdb_v1.tar.gz\n",
    "!tar -zxf ../data/aclImdb_v1.tar.gz -C ../data"
   ]
  },
  {
   "cell_type": "markdown",
   "metadata": {},
   "source": [
    "## Step 2: Preparing and Processing the data\n",
    "\n",
    "Also, as in the XGBoost notebook, we will be doing some initial data processing. The first few steps are the same as in the XGBoost example. To begin with, we will read in each of the reviews and combine them into a single input structure. Then, we will split the dataset into a training set and a testing set."
   ]
  },
  {
   "cell_type": "code",
   "execution_count": 3,
   "metadata": {},
   "outputs": [],
   "source": [
    "import os\n",
    "import glob\n",
    "\n",
    "def read_imdb_data(data_dir='../data/aclImdb'):\n",
    "    data = {}\n",
    "    labels = {}\n",
    "    \n",
    "    for data_type in ['train', 'test']:\n",
    "        data[data_type] = {}\n",
    "        labels[data_type] = {}\n",
    "        \n",
    "        for sentiment in ['pos', 'neg']:\n",
    "            data[data_type][sentiment] = []\n",
    "            labels[data_type][sentiment] = []\n",
    "            \n",
    "            path = os.path.join(data_dir, data_type, sentiment, '*.txt')\n",
    "            files = glob.glob(path)\n",
    "            \n",
    "            for f in files:\n",
    "                with open(f) as review:\n",
    "                    data[data_type][sentiment].append(review.read())\n",
    "                    # Here we represent a positive review by '1' and a negative review by '0'\n",
    "                    labels[data_type][sentiment].append(1 if sentiment == 'pos' else 0)\n",
    "                    \n",
    "            assert len(data[data_type][sentiment]) == len(labels[data_type][sentiment]), \\\n",
    "                    \"{}/{} data size does not match labels size\".format(data_type, sentiment)\n",
    "                \n",
    "    return data, labels"
   ]
  },
  {
   "cell_type": "code",
   "execution_count": 4,
   "metadata": {},
   "outputs": [
    {
     "name": "stdout",
     "output_type": "stream",
     "text": [
      "IMDB reviews: train = 12500 pos / 12500 neg, test = 12500 pos / 12500 neg\n"
     ]
    }
   ],
   "source": [
    "data, labels = read_imdb_data()\n",
    "print(\"IMDB reviews: train = {} pos / {} neg, test = {} pos / {} neg\".format(\n",
    "            len(data['train']['pos']), len(data['train']['neg']),\n",
    "            len(data['test']['pos']), len(data['test']['neg'])))"
   ]
  },
  {
   "cell_type": "markdown",
   "metadata": {},
   "source": [
    "Now that we've read the raw training and testing data from the downloaded dataset, we will combine the positive and negative reviews and shuffle the resulting records."
   ]
  },
  {
   "cell_type": "code",
   "execution_count": 5,
   "metadata": {},
   "outputs": [],
   "source": [
    "from sklearn.utils import shuffle\n",
    "\n",
    "def prepare_imdb_data(data, labels):\n",
    "    \"\"\"Prepare training and test sets from IMDb movie reviews.\"\"\"\n",
    "    \n",
    "    #Combine positive and negative reviews and labels\n",
    "    data_train = data['train']['pos'] + data['train']['neg']\n",
    "    data_test = data['test']['pos'] + data['test']['neg']\n",
    "    labels_train = labels['train']['pos'] + labels['train']['neg']\n",
    "    labels_test = labels['test']['pos'] + labels['test']['neg']\n",
    "    \n",
    "    #Shuffle reviews and corresponding labels within training and test sets\n",
    "    data_train, labels_train = shuffle(data_train, labels_train)\n",
    "    data_test, labels_test = shuffle(data_test, labels_test)\n",
    "    \n",
    "    # Return a unified training data, test data, training labels, test labets\n",
    "    return data_train, data_test, labels_train, labels_test"
   ]
  },
  {
   "cell_type": "code",
   "execution_count": 6,
   "metadata": {},
   "outputs": [
    {
     "name": "stdout",
     "output_type": "stream",
     "text": [
      "IMDb reviews (combined): train = 25000, test = 25000\n"
     ]
    }
   ],
   "source": [
    "train_X, test_X, train_y, test_y = prepare_imdb_data(data, labels)\n",
    "print(\"IMDb reviews (combined): train = {}, test = {}\".format(len(train_X), len(test_X)))"
   ]
  },
  {
   "cell_type": "markdown",
   "metadata": {},
   "source": [
    "Now that we have our training and testing sets unified and prepared, we should do a quick check and see an example of the data our model will be trained on. This is generally a good idea as it allows you to see how each of the further processing steps affects the reviews and it also ensures that the data has been loaded correctly."
   ]
  },
  {
   "cell_type": "code",
   "execution_count": 7,
   "metadata": {},
   "outputs": [
    {
     "name": "stdout",
     "output_type": "stream",
     "text": [
      "Director Paul Verhoeven's American vehicles are of varied quality, but most of the films he made in his native country are indisputable masterworks. This is the story of alcoholic (and bi-sexual) writer who moves in with a beautiful rich and very strange woman. But the lady does not know that he is only interested in meeting the woman's handsome male lover. In the meantime, the writer is plagued with strange visions - at first they look like hallucinations triggered by alcohol abuse, but he soon begins to realize that he is actually experiencing some kind of premonitions. Fascinating Hitchcockian thriller, very original and provocative. I love films that make you think they are about something, but then you realize they are about something completely different. This is one of those movies; a thriller during the first half, and a quasi-religious surrealist saga during the second half. Very erotic, original and blasphemous, not for kids or people that go to church every Sunday. Great cinematography by future director Jan de Bont. Highly Reommended!\n",
      "1\n"
     ]
    }
   ],
   "source": [
    "print(train_X[100])\n",
    "print(train_y[100])"
   ]
  },
  {
   "cell_type": "markdown",
   "metadata": {},
   "source": [
    "The first step in processing the reviews is to make sure that any html tags that appear should be removed. In addition we wish to tokenize our input, that way words such as *entertained* and *entertaining* are considered the same with regard to sentiment analysis."
   ]
  },
  {
   "cell_type": "code",
   "execution_count": 8,
   "metadata": {},
   "outputs": [],
   "source": [
    "import nltk\n",
    "from nltk.corpus import stopwords\n",
    "from nltk.stem.porter import *\n",
    "\n",
    "import re\n",
    "from bs4 import BeautifulSoup\n",
    "\n",
    "def review_to_words(review):\n",
    "    nltk.download(\"stopwords\", quiet=True)\n",
    "    stemmer = PorterStemmer()\n",
    "    \n",
    "    text = BeautifulSoup(review, \"html.parser\").get_text() # Remove HTML tags\n",
    "    text = re.sub(r\"[^a-zA-Z0-9]\", \" \", text.lower()) # Convert to lower case\n",
    "    words = text.split() # Split string into words\n",
    "    words = [w for w in words if w not in stopwords.words(\"english\")] # Remove stopwords\n",
    "    words = [PorterStemmer().stem(w) for w in words] # stem\n",
    "    \n",
    "    return words"
   ]
  },
  {
   "cell_type": "markdown",
   "metadata": {},
   "source": [
    "The `review_to_words` method defined above uses `BeautifulSoup` to remove any html tags that appear and uses the `nltk` package to tokenize the reviews. As a check to ensure we know how everything is working, try applying `review_to_words` to one of the reviews in the training set."
   ]
  },
  {
   "cell_type": "code",
   "execution_count": 9,
   "metadata": {},
   "outputs": [
    {
     "name": "stdout",
     "output_type": "stream",
     "text": [
      "['director', 'paul', 'verhoeven', 'american', 'vehicl', 'vari', 'qualiti', 'film', 'made', 'nativ', 'countri', 'indisput', 'masterwork', 'stori', 'alcohol', 'bi', 'sexual', 'writer', 'move', 'beauti', 'rich', 'strang', 'woman', 'ladi', 'know', 'interest', 'meet', 'woman', 'handsom', 'male', 'lover', 'meantim', 'writer', 'plagu', 'strang', 'vision', 'first', 'look', 'like', 'hallucin', 'trigger', 'alcohol', 'abus', 'soon', 'begin', 'realiz', 'actual', 'experienc', 'kind', 'premonit', 'fascin', 'hitchcockian', 'thriller', 'origin', 'provoc', 'love', 'film', 'make', 'think', 'someth', 'realiz', 'someth', 'complet', 'differ', 'one', 'movi', 'thriller', 'first', 'half', 'quasi', 'religi', 'surrealist', 'saga', 'second', 'half', 'erot', 'origin', 'blasphem', 'kid', 'peopl', 'go', 'church', 'everi', 'sunday', 'great', 'cinematographi', 'futur', 'director', 'jan', 'de', 'bont', 'highli', 'reommend']\n"
     ]
    }
   ],
   "source": [
    "# TODO: Apply review_to_words to a review (train_X[100] or any other review)\n",
    "#DONE\n",
    "words = review_to_words(train_X[100])\n",
    "print(words)"
   ]
  },
  {
   "cell_type": "markdown",
   "metadata": {},
   "source": [
    "**Question:** Above we mentioned that `review_to_words` method removes html formatting and allows us to tokenize the words found in a review, for example, converting *entertained* and *entertaining* into *entertain* so that they are treated as though they are the same word. What else, if anything, does this method do to the input?"
   ]
  },
  {
   "cell_type": "markdown",
   "metadata": {},
   "source": [
    "**Answer:** Converts everything to lowercase\n"
   ]
  },
  {
   "cell_type": "markdown",
   "metadata": {},
   "source": [
    "The method below applies the `review_to_words` method to each of the reviews in the training and testing datasets. In addition it caches the results. This is because performing this processing step can take a long time. This way if you are unable to complete the notebook in the current session, you can come back without needing to process the data a second time."
   ]
  },
  {
   "cell_type": "code",
   "execution_count": 10,
   "metadata": {},
   "outputs": [],
   "source": [
    "import pickle\n",
    "\n",
    "cache_dir = os.path.join(\"../cache\", \"sentiment_analysis\")  # where to store cache files\n",
    "os.makedirs(cache_dir, exist_ok=True)  # ensure cache directory exists\n",
    "\n",
    "def preprocess_data(data_train, data_test, labels_train, labels_test,\n",
    "                    cache_dir=cache_dir, cache_file=\"preprocessed_data.pkl\"):\n",
    "    \"\"\"Convert each review to words; read from cache if available.\"\"\"\n",
    "\n",
    "    # If cache_file is not None, try to read from it first\n",
    "    cache_data = None\n",
    "    if cache_file is not None:\n",
    "        try:\n",
    "            with open(os.path.join(cache_dir, cache_file), \"rb\") as f:\n",
    "                cache_data = pickle.load(f)\n",
    "            print(\"Read preprocessed data from cache file:\", cache_file)\n",
    "        except:\n",
    "            pass  # unable to read from cache, but that's okay\n",
    "    \n",
    "    # If cache is missing, then do the heavy lifting\n",
    "    if cache_data is None:\n",
    "        # Preprocess training and test data to obtain words for each review\n",
    "        #words_train = list(map(review_to_words, data_train))\n",
    "        #words_test = list(map(review_to_words, data_test))\n",
    "        words_train = [review_to_words(review) for review in data_train]\n",
    "        words_test = [review_to_words(review) for review in data_test]\n",
    "        \n",
    "        # Write to cache file for future runs\n",
    "        if cache_file is not None:\n",
    "            cache_data = dict(words_train=words_train, words_test=words_test,\n",
    "                              labels_train=labels_train, labels_test=labels_test)\n",
    "            with open(os.path.join(cache_dir, cache_file), \"wb\") as f:\n",
    "                pickle.dump(cache_data, f)\n",
    "            print(\"Wrote preprocessed data to cache file:\", cache_file)\n",
    "    else:\n",
    "        # Unpack data loaded from cache file\n",
    "        words_train, words_test, labels_train, labels_test = (cache_data['words_train'],\n",
    "                cache_data['words_test'], cache_data['labels_train'], cache_data['labels_test'])\n",
    "    \n",
    "    return words_train, words_test, labels_train, labels_test"
   ]
  },
  {
   "cell_type": "code",
   "execution_count": 11,
   "metadata": {},
   "outputs": [
    {
     "name": "stdout",
     "output_type": "stream",
     "text": [
      "Read preprocessed data from cache file: preprocessed_data.pkl\n"
     ]
    }
   ],
   "source": [
    "# Preprocess data\n",
    "train_X, test_X, train_y, test_y = preprocess_data(train_X, test_X, train_y, test_y)"
   ]
  },
  {
   "cell_type": "code",
   "execution_count": 12,
   "metadata": {},
   "outputs": [
    {
     "data": {
      "text/plain": [
       "['john',\n",
       " 'huston',\n",
       " 'wise',\n",
       " 'blood',\n",
       " 'horrifi',\n",
       " 'misrepresent',\n",
       " 'flanneri',\n",
       " 'connor',\n",
       " 'book',\n",
       " 'could',\n",
       " 'imagin',\n",
       " 'utterli',\n",
       " 'terribl',\n",
       " 'act',\n",
       " 'perform',\n",
       " 'oh',\n",
       " 'done',\n",
       " 'purpos',\n",
       " 'get',\n",
       " 'music',\n",
       " 'score',\n",
       " 'suit',\n",
       " 'episod',\n",
       " 'rockford',\n",
       " 'file',\n",
       " 'film',\n",
       " 'revolt',\n",
       " 'view',\n",
       " 'ill',\n",
       " 'outset',\n",
       " 'fact',\n",
       " 'expect',\n",
       " 'pleasant',\n",
       " 'experi',\n",
       " 'misrepresent',\n",
       " 'southern',\n",
       " 'charact',\n",
       " 'ridicul',\n",
       " 'fraudul',\n",
       " 'southern',\n",
       " 'drawl',\n",
       " 'lilt',\n",
       " 'comed',\n",
       " 'way',\n",
       " 'faith',\n",
       " 'portray',\n",
       " 'inexcus',\n",
       " 'right',\n",
       " 'end',\n",
       " 'complet',\n",
       " 'devoid',\n",
       " 'charact',\n",
       " 'sentiment',\n",
       " 'fail',\n",
       " 'everi',\n",
       " 'place',\n",
       " 'connor',\n",
       " 'book',\n",
       " 'shine',\n",
       " 'reson',\n",
       " 'actor',\n",
       " 'portray',\n",
       " 'southern',\n",
       " 'policemen',\n",
       " 'may',\n",
       " 'well',\n",
       " 'eat',\n",
       " 'smother',\n",
       " 'hot',\n",
       " 'dog',\n",
       " 'nyc',\n",
       " 'street',\n",
       " 'stand',\n",
       " 'quot',\n",
       " 'godfath',\n",
       " 'one',\n",
       " 'redeem',\n",
       " 'act',\n",
       " 'perform',\n",
       " 'ned',\n",
       " 'beatti',\n",
       " 'live',\n",
       " 'dead',\n",
       " 'represent',\n",
       " 'hoover',\n",
       " 'shoat',\n",
       " 'religi',\n",
       " 'con',\n",
       " 'artist',\n",
       " 'hear',\n",
       " 'moat',\n",
       " 'preach',\n",
       " 'church',\n",
       " 'christ',\n",
       " 'without',\n",
       " 'christ',\n",
       " 'see',\n",
       " 'dollar',\n",
       " 'sign',\n",
       " 'busi',\n",
       " 'opportun',\n",
       " 'connor',\n",
       " 'power',\n",
       " 'book',\n",
       " 'well',\n",
       " 'known',\n",
       " 'creepi',\n",
       " 'religi',\n",
       " 'undercurr',\n",
       " 'jibe',\n",
       " 'seemingli',\n",
       " 'lifeless',\n",
       " 'cadav',\n",
       " 'faith',\n",
       " 'mr',\n",
       " 'huston',\n",
       " 'film',\n",
       " 'shame',\n",
       " 'mockeri',\n",
       " 'author',\n",
       " 'intent',\n",
       " 'understood',\n",
       " 'fan',\n",
       " 'may',\n",
       " 'bold',\n",
       " 'say',\n",
       " 'acknowledg',\n",
       " 'know',\n",
       " 'exactli',\n",
       " 'author',\n",
       " 'wish',\n",
       " 'convey',\n",
       " 'enough',\n",
       " 'affect',\n",
       " 'work',\n",
       " 'desir',\n",
       " 'remain',\n",
       " 'fan',\n",
       " 'view',\n",
       " 'wise',\n",
       " 'blood',\n",
       " 'way',\n",
       " 'mr',\n",
       " 'huston',\n",
       " 'appar',\n",
       " 'would',\n",
       " 'thrown',\n",
       " 'trash',\n",
       " 'flanneri',\n",
       " 'sake',\n",
       " 'mine',\n",
       " 'forgiv',\n",
       " 'john',\n",
       " 'huston',\n",
       " 'forget',\n",
       " 'take',\n",
       " 'time']"
      ]
     },
     "execution_count": 12,
     "metadata": {},
     "output_type": "execute_result"
    }
   ],
   "source": [
    "train_X[0]"
   ]
  },
  {
   "cell_type": "markdown",
   "metadata": {},
   "source": [
    "## Transform the data\n",
    "\n",
    "In the XGBoost notebook we transformed the data from its word representation to a bag-of-words feature representation. For the model we are going to construct in this notebook we will construct a feature representation which is very similar. To start, we will represent each word as an integer. Of course, some of the words that appear in the reviews occur very infrequently and so likely don't contain much information for the purposes of sentiment analysis. The way we will deal with this problem is that we will fix the size of our working vocabulary and we will only include the words that appear most frequently. We will then combine all of the infrequent words into a single category and, in our case, we will label it as `1`.\n",
    "\n",
    "Since we will be using a recurrent neural network, it will be convenient if the length of each review is the same. To do this, we will fix a size for our reviews and then pad short reviews with the category 'no word' (which we will label `0`) and truncate long reviews."
   ]
  },
  {
   "cell_type": "markdown",
   "metadata": {},
   "source": [
    "### (TODO) Create a word dictionary\n",
    "\n",
    "To begin with, we need to construct a way to map words that appear in the reviews to integers. Here we fix the size of our vocabulary (including the 'no word' and 'infrequent' categories) to be `5000` but you may wish to change this to see how it affects the model.\n",
    "\n",
    "> **TODO:** Complete the implementation for the `build_dict()` method below. Note that even though the vocab_size is set to `5000`, we only want to construct a mapping for the most frequently appearing `4998` words. This is because we want to reserve the special labels `0` for 'no word' and `1` for 'infrequent word'."
   ]
  },
  {
   "cell_type": "code",
   "execution_count": 14,
   "metadata": {},
   "outputs": [],
   "source": [
    "import numpy as np\n",
    "import collections\n",
    "import operator\n",
    "from sklearn.externals import joblib\n",
    "\n",
    "\n",
    "def build_dict(data, vocab_size = 5000):\n",
    "    \"\"\"Construct and return a dictionary mapping each of the most frequently appearing words to a unique integer.\"\"\"\n",
    "    \n",
    "    # TODO: Determine how often each word appears in `data`. Note that `data` is a list of sentences and that a\n",
    "    #  DONE     sentence is a list of words.\n",
    "    \n",
    "    word_count = {} # A dict storing the words that appear in the reviews along with how often they occur\n",
    "    \n",
    "    \n",
    "    for sentns in data:\n",
    "        for wrd in sentns:\n",
    "            word_count[wrd] = word_count.get(wrd, 0) +1 \n",
    "        \n",
    "    \n",
    "    # TODO: Sort the words found in `data` so that sorted_words[0] is the most frequently appearing word and\n",
    "    #       sorted_words[-1] is the least frequently appearing word.\n",
    "    \n",
    "    sorted_dict = sorted(word_count.items(), key=lambda x: x[1], reverse=True)\n",
    "    #print(word_count.items())\n",
    "    word_dict = {} # This is what we are building, a dictionary that translates words into integers\n",
    "    for idx, word in enumerate(sorted_dict[:vocab_size - 2]): # The -2 is so that we save room for the 'no word'\n",
    "        word_dict[word[0]] = idx + 2                              # 'infrequent' labels\n",
    "        \n",
    "    return word_dict"
   ]
  },
  {
   "cell_type": "code",
   "execution_count": 15,
   "metadata": {},
   "outputs": [
    {
     "name": "stdout",
     "output_type": "stream",
     "text": [
      "{'movi': 2, 'film': 3, 'one': 4, 'like': 5, 'time': 6, 'good': 7, 'make': 8, 'charact': 9, 'get': 10, 'see': 11, 'watch': 12, 'stori': 13, 'even': 14, 'would': 15, 'realli': 16, 'well': 17, 'scene': 18, 'look': 19, 'show': 20, 'much': 21, 'end': 22, 'peopl': 23, 'bad': 24, 'go': 25, 'great': 26, 'also': 27, 'first': 28, 'love': 29, 'think': 30, 'way': 31, 'act': 32, 'play': 33, 'made': 34, 'thing': 35, 'could': 36, 'know': 37, 'say': 38, 'seem': 39, 'work': 40, 'plot': 41, 'two': 42, 'actor': 43, 'year': 44, 'come': 45, 'mani': 46, 'seen': 47, 'take': 48, 'want': 49, 'life': 50, 'never': 51, 'littl': 52, 'best': 53, 'tri': 54, 'man': 55, 'ever': 56, 'give': 57, 'better': 58, 'still': 59, 'perform': 60, 'find': 61, 'feel': 62, 'part': 63, 'back': 64, 'use': 65, 'someth': 66, 'director': 67, 'actual': 68, 'interest': 69, 'lot': 70, 'real': 71, 'old': 72, 'cast': 73, 'though': 74, 'live': 75, 'star': 76, 'enjoy': 77, 'guy': 78, 'anoth': 79, 'new': 80, 'role': 81, 'noth': 82, '10': 83, 'funni': 84, 'music': 85, 'point': 86, 'start': 87, 'set': 88, 'girl': 89, 'origin': 90, 'day': 91, 'world': 92, 'everi': 93, 'believ': 94, 'turn': 95, 'quit': 96, 'us': 97, 'direct': 98, 'thought': 99, 'fact': 100, 'minut': 101, 'horror': 102, 'kill': 103, 'action': 104, 'comedi': 105, 'pretti': 106, 'young': 107, 'wonder': 108, 'happen': 109, 'around': 110, 'got': 111, 'effect': 112, 'right': 113, 'long': 114, 'howev': 115, 'big': 116, 'line': 117, 'famili': 118, 'enough': 119, 'seri': 120, 'may': 121, 'need': 122, 'fan': 123, 'bit': 124, 'script': 125, 'beauti': 126, 'person': 127, 'becom': 128, 'without': 129, 'must': 130, 'alway': 131, 'friend': 132, 'tell': 133, 'reason': 134, 'saw': 135, 'last': 136, 'final': 137, 'kid': 138, 'almost': 139, 'put': 140, 'least': 141, 'sure': 142, 'done': 143, 'whole': 144, 'place': 145, 'complet': 146, 'kind': 147, 'expect': 148, 'differ': 149, 'shot': 150, 'far': 151, 'mean': 152, 'anyth': 153, 'book': 154, 'laugh': 155, 'might': 156, 'name': 157, 'sinc': 158, 'begin': 159, '2': 160, 'probabl': 161, 'woman': 162, 'help': 163, 'entertain': 164, 'let': 165, 'screen': 166, 'call': 167, 'tv': 168, 'moment': 169, 'away': 170, 'read': 171, 'yet': 172, 'rather': 173, 'worst': 174, 'run': 175, 'fun': 176, 'lead': 177, 'hard': 178, 'audienc': 179, 'idea': 180, 'anyon': 181, 'episod': 182, 'american': 183, 'found': 184, 'appear': 185, 'bore': 186, 'especi': 187, 'although': 188, 'hope': 189, 'keep': 190, 'cours': 191, 'anim': 192, 'job': 193, 'goe': 194, 'move': 195, 'sens': 196, 'dvd': 197, 'version': 198, 'war': 199, 'money': 200, 'someon': 201, 'mind': 202, 'mayb': 203, 'problem': 204, 'true': 205, 'hous': 206, 'everyth': 207, 'nice': 208, 'second': 209, 'rate': 210, 'three': 211, 'night': 212, 'face': 213, 'follow': 214, 'recommend': 215, 'main': 216, 'product': 217, 'worth': 218, 'leav': 219, 'human': 220, 'special': 221, 'excel': 222, 'togeth': 223, 'wast': 224, 'everyon': 225, 'sound': 226, 'john': 227, 'hand': 228, '1': 229, 'father': 230, 'later': 231, 'eye': 232, 'said': 233, 'view': 234, 'instead': 235, 'review': 236, 'boy': 237, 'high': 238, 'hour': 239, 'miss': 240, 'classic': 241, 'talk': 242, 'wife': 243, 'understand': 244, 'left': 245, 'care': 246, 'black': 247, 'death': 248, 'open': 249, 'murder': 250, 'write': 251, 'half': 252, 'head': 253, 'rememb': 254, 'chang': 255, 'viewer': 256, 'fight': 257, 'gener': 258, 'surpris': 259, 'short': 260, 'includ': 261, 'die': 262, 'fall': 263, 'less': 264, 'els': 265, 'entir': 266, 'piec': 267, 'involv': 268, 'pictur': 269, 'simpli': 270, 'power': 271, 'home': 272, 'top': 273, 'total': 274, 'usual': 275, 'budget': 276, 'attempt': 277, 'suppos': 278, 'releas': 279, 'hollywood': 280, 'terribl': 281, 'song': 282, 'men': 283, 'possibl': 284, 'featur': 285, 'portray': 286, 'disappoint': 287, 'poor': 288, '3': 289, 'coupl': 290, 'camera': 291, 'stupid': 292, 'dead': 293, 'wrong': 294, 'produc': 295, 'low': 296, 'either': 297, 'video': 298, 'aw': 299, 'definit': 300, 'except': 301, 'rest': 302, 'given': 303, 'absolut': 304, 'women': 305, 'lack': 306, 'word': 307, 'writer': 308, 'titl': 309, 'talent': 310, 'decid': 311, 'full': 312, 'perfect': 313, 'along': 314, 'style': 315, 'close': 316, 'truli': 317, 'school': 318, 'emot': 319, 'save': 320, 'sex': 321, 'age': 322, 'next': 323, 'bring': 324, 'mr': 325, 'case': 326, 'killer': 327, 'heart': 328, 'comment': 329, 'sort': 330, 'creat': 331, 'perhap': 332, 'came': 333, 'brother': 334, 'sever': 335, 'joke': 336, 'art': 337, 'dialogu': 338, 'game': 339, 'small': 340, 'base': 341, 'flick': 342, 'written': 343, 'sequenc': 344, 'meet': 345, 'earli': 346, 'often': 347, 'other': 348, 'mother': 349, 'develop': 350, 'humor': 351, 'actress': 352, 'consid': 353, 'dark': 354, 'guess': 355, 'amaz': 356, 'unfortun': 357, 'light': 358, 'lost': 359, 'exampl': 360, 'cinema': 361, 'drama': 362, 'white': 363, 'ye': 364, 'experi': 365, 'imagin': 366, 'mention': 367, 'stop': 368, 'natur': 369, 'forc': 370, 'manag': 371, 'felt': 372, 'present': 373, 'cut': 374, 'children': 375, 'fail': 376, 'son': 377, 'qualiti': 378, 'car': 379, 'support': 380, 'ask': 381, 'hit': 382, 'side': 383, 'voic': 384, 'extrem': 385, 'impress': 386, 'evil': 387, 'wors': 388, 'stand': 389, 'went': 390, 'certainli': 391, 'basic': 392, 'oh': 393, 'overal': 394, 'favorit': 395, 'horribl': 396, 'mysteri': 397, 'number': 398, 'type': 399, 'danc': 400, 'wait': 401, 'hero': 402, '5': 403, 'alreadi': 404, 'learn': 405, 'matter': 406, '4': 407, 'michael': 408, 'genr': 409, 'fine': 410, 'despit': 411, 'throughout': 412, 'walk': 413, 'success': 414, 'histori': 415, 'question': 416, 'zombi': 417, 'town': 418, 'realiz': 419, 'relationship': 420, 'child': 421, 'past': 422, 'daughter': 423, 'late': 424, 'b': 425, 'wish': 426, 'credit': 427, 'hate': 428, 'event': 429, 'theme': 430, 'touch': 431, 'citi': 432, 'today': 433, 'sometim': 434, 'behind': 435, 'god': 436, 'twist': 437, 'sit': 438, 'stay': 439, 'annoy': 440, 'deal': 441, 'abl': 442, 'rent': 443, 'pleas': 444, 'edit': 445, 'blood': 446, 'deserv': 447, 'anyway': 448, 'comic': 449, 'appar': 450, 'soon': 451, 'gave': 452, 'etc': 453, 'level': 454, 'slow': 455, 'chanc': 456, 'score': 457, 'bodi': 458, 'brilliant': 459, 'incred': 460, 'figur': 461, 'situat': 462, 'major': 463, 'self': 464, 'stuff': 465, 'decent': 466, 'element': 467, 'dream': 468, 'return': 469, 'obvious': 470, 'order': 471, 'continu': 472, 'pace': 473, 'ridicul': 474, 'happi': 475, 'add': 476, 'group': 477, 'highli': 478, 'thank': 479, 'ladi': 480, 'novel': 481, 'pain': 482, 'speak': 483, 'career': 484, 'shoot': 485, 'strang': 486, 'heard': 487, 'sad': 488, 'husband': 489, 'polic': 490, 'import': 491, 'break': 492, 'took': 493, 'cannot': 494, 'strong': 495, 'robert': 496, 'predict': 497, 'violenc': 498, 'hilari': 499, 'recent': 500, 'countri': 501, 'known': 502, 'particularli': 503, 'pick': 504, 'documentari': 505, 'season': 506, 'critic': 507, 'jame': 508, 'compar': 509, 'obviou': 510, 'alon': 511, 'told': 512, 'state': 513, 'visual': 514, 'rock': 515, 'offer': 516, 'exist': 517, 'theater': 518, 'opinion': 519, 'gore': 520, 'crap': 521, 'hold': 522, 'result': 523, 'hear': 524, 'room': 525, 'realiti': 526, 'effort': 527, 'clich': 528, 'thriller': 529, 'caus': 530, 'serious': 531, 'explain': 532, 'sequel': 533, 'king': 534, 'local': 535, 'ago': 536, 'none': 537, 'hell': 538, 'note': 539, 'allow': 540, 'sister': 541, 'david': 542, 'simpl': 543, 'femal': 544, 'deliv': 545, 'ok': 546, 'class': 547, 'convinc': 548, 'check': 549, 'suspens': 550, 'win': 551, 'oscar': 552, 'buy': 553, 'huge': 554, 'valu': 555, 'sexual': 556, 'cool': 557, 'scari': 558, 'excit': 559, 'similar': 560, 'exactli': 561, 'apart': 562, 'provid': 563, 'shown': 564, 'avoid': 565, 'seriou': 566, 'english': 567, 'taken': 568, 'whose': 569, 'cinematographi': 570, 'shock': 571, 'polit': 572, 'spoiler': 573, 'offic': 574, 'across': 575, 'middl': 576, 'street': 577, 'pass': 578, 'messag': 579, 'somewhat': 580, 'silli': 581, 'charm': 582, 'modern': 583, 'filmmak': 584, 'confus': 585, 'form': 586, 'tale': 587, 'singl': 588, 'jack': 589, 'mostli': 590, 'attent': 591, 'carri': 592, 'william': 593, 'sing': 594, 'five': 595, 'subject': 596, 'prove': 597, 'richard': 598, 'team': 599, 'stage': 600, 'unlik': 601, 'cop': 602, 'georg': 603, 'monster': 604, 'televis': 605, 'earth': 606, 'cover': 607, 'villain': 608, 'pay': 609, 'marri': 610, 'toward': 611, 'build': 612, 'parent': 613, 'pull': 614, 'due': 615, 'respect': 616, 'fill': 617, 'dialog': 618, 'four': 619, 'remind': 620, 'futur': 621, 'typic': 622, 'weak': 623, '7': 624, 'cheap': 625, 'intellig': 626, 'atmospher': 627, 'british': 628, '80': 629, 'clearli': 630, 'dog': 631, 'non': 632, 'paul': 633, 'artist': 634, '8': 635, 'fast': 636, 'knew': 637, 'crime': 638, 'easili': 639, 'escap': 640, 'doubt': 641, 'adult': 642, 'detail': 643, 'date': 644, 'fire': 645, 'romant': 646, 'member': 647, 'drive': 648, 'gun': 649, 'straight': 650, 'fit': 651, 'beyond': 652, 'attack': 653, 'imag': 654, 'upon': 655, 'posit': 656, 'whether': 657, 'peter': 658, 'fantast': 659, 'captur': 660, 'appreci': 661, 'aspect': 662, 'ten': 663, 'plan': 664, 'discov': 665, 'remain': 666, 'period': 667, 'near': 668, 'realist': 669, 'air': 670, 'mark': 671, 'red': 672, 'dull': 673, 'adapt': 674, 'within': 675, 'spend': 676, 'lose': 677, 'color': 678, 'materi': 679, 'chase': 680, 'mari': 681, 'storylin': 682, 'forget': 683, 'bunch': 684, 'clear': 685, 'lee': 686, 'victim': 687, 'nearli': 688, 'box': 689, 'york': 690, 'inspir': 691, 'match': 692, 'mess': 693, 'finish': 694, 'standard': 695, 'easi': 696, 'truth': 697, 'busi': 698, 'suffer': 699, 'dramat': 700, 'bill': 701, 'space': 702, 'western': 703, 'e': 704, 'list': 705, 'battl': 706, 'notic': 707, 'de': 708, 'french': 709, 'ad': 710, '9': 711, 'tom': 712, 'larg': 713, 'among': 714, 'eventu': 715, 'train': 716, 'accept': 717, 'agre': 718, 'spirit': 719, 'soundtrack': 720, 'third': 721, 'teenag': 722, 'soldier': 723, 'adventur': 724, 'sorri': 725, 'suggest': 726, 'drug': 727, 'famou': 728, 'cri': 729, 'babi': 730, 'normal': 731, 'troubl': 732, 'ultim': 733, 'contain': 734, 'certain': 735, 'cultur': 736, 'romanc': 737, 'rare': 738, 'lame': 739, 'somehow': 740, 'mix': 741, 'disney': 742, 'gone': 743, 'cartoon': 744, 'student': 745, 'fear': 746, 'reveal': 747, 'kept': 748, 'suck': 749, 'attract': 750, 'appeal': 751, 'premis': 752, 'greatest': 753, 'design': 754, 'secret': 755, 'shame': 756, 'throw': 757, 'scare': 758, 'copi': 759, 'wit': 760, 'america': 761, 'admit': 762, 'brought': 763, 'relat': 764, 'particular': 765, 'screenplay': 766, 'whatev': 767, 'pure': 768, '70': 769, 'averag': 770, 'harri': 771, 'master': 772, 'describ': 773, 'male': 774, 'treat': 775, '20': 776, 'fantasi': 777, 'issu': 778, 'warn': 779, 'inde': 780, 'forward': 781, 'background': 782, 'project': 783, 'free': 784, 'japanes': 785, 'memor': 786, 'poorli': 787, 'award': 788, 'locat': 789, 'amus': 790, 'potenti': 791, 'struggl': 792, 'magic': 793, 'weird': 794, 'societi': 795, 'okay': 796, 'accent': 797, 'doctor': 798, 'imdb': 799, 'hot': 800, 'water': 801, 'express': 802, 'dr': 803, '30': 804, 'alien': 805, 'odd': 806, 'crazi': 807, 'choic': 808, 'fiction': 809, 'studio': 810, 'control': 811, 'becam': 812, 'masterpiec': 813, 'fli': 814, 'difficult': 815, 'joe': 816, 'scream': 817, 'costum': 818, 'lover': 819, 'uniqu': 820, 'refer': 821, 'remak': 822, 'girlfriend': 823, 'vampir': 824, 'prison': 825, 'execut': 826, 'wear': 827, 'jump': 828, 'unless': 829, 'wood': 830, 'creepi': 831, 'cheesi': 832, 'superb': 833, 'otherwis': 834, 'parti': 835, 'roll': 836, 'ghost': 837, 'mad': 838, 'public': 839, 'depict': 840, 'badli': 841, 'moral': 842, 'earlier': 843, 'week': 844, 'jane': 845, 'dumb': 846, 'fi': 847, 'grow': 848, 'flaw': 849, 'deep': 850, 'sci': 851, 'maker': 852, 'cat': 853, 'footag': 854, 'older': 855, 'connect': 856, 'plenti': 857, 'bother': 858, 'outsid': 859, 'stick': 860, 'gay': 861, 'catch': 862, 'co': 863, 'plu': 864, 'popular': 865, 'equal': 866, 'social': 867, 'disturb': 868, 'quickli': 869, 'perfectli': 870, 'dress': 871, 'era': 872, '90': 873, 'mistak': 874, 'lie': 875, 'ride': 876, 'previou': 877, 'combin': 878, 'band': 879, 'concept': 880, 'rich': 881, 'surviv': 882, 'answer': 883, 'front': 884, 'sweet': 885, 'christma': 886, 'insid': 887, 'eat': 888, 'concern': 889, 'bare': 890, 'beat': 891, 'ben': 892, 'listen': 893, 'c': 894, 'serv': 895, 'term': 896, 'meant': 897, 'german': 898, 'la': 899, 'hardli': 900, 'stereotyp': 901, 'innoc': 902, 'law': 903, 'desper': 904, 'promis': 905, 'memori': 906, 'intent': 907, 'cute': 908, 'inform': 909, 'variou': 910, 'steal': 911, 'brain': 912, 'post': 913, 'tone': 914, 'island': 915, 'amount': 916, 'compani': 917, 'nuditi': 918, 'track': 919, 'claim': 920, 'store': 921, '50': 922, 'flat': 923, 'hair': 924, 'land': 925, 'univers': 926, 'kick': 927, 'fairli': 928, 'scott': 929, 'danger': 930, 'player': 931, 'crew': 932, 'step': 933, 'plain': 934, 'toni': 935, 'share': 936, 'tast': 937, 'centuri': 938, 'engag': 939, 'achiev': 940, 'travel': 941, 'cold': 942, 'suit': 943, 'rip': 944, 'record': 945, 'sadli': 946, 'manner': 947, 'spot': 948, 'tension': 949, 'wrote': 950, 'fascin': 951, 'intens': 952, 'familiar': 953, 'burn': 954, 'remark': 955, 'depth': 956, 'destroy': 957, 'histor': 958, 'sleep': 959, 'purpos': 960, 'languag': 961, 'ruin': 962, 'ignor': 963, 'delight': 964, 'italian': 965, 'unbeliev': 966, 'collect': 967, 'abil': 968, 'soul': 969, 'clever': 970, 'detect': 971, 'violent': 972, 'rape': 973, 'reach': 974, 'door': 975, 'trash': 976, 'scienc': 977, 'liter': 978, 'reveng': 979, 'caught': 980, 'commun': 981, 'creatur': 982, 'approach': 983, 'trip': 984, 'intrigu': 985, 'fashion': 986, 'paint': 987, 'introduc': 988, 'skill': 989, 'channel': 990, 'complex': 991, 'camp': 992, 'christian': 993, 'extra': 994, 'hole': 995, 'limit': 996, 'mental': 997, 'ann': 998, 'immedi': 999, 'comput': 1000, 'slightli': 1001, '6': 1002, 'mere': 1003, 'million': 1004, 'conclus': 1005, 'slasher': 1006, 'imposs': 1007, 'suddenli': 1008, 'teen': 1009, 'crimin': 1010, 'neither': 1011, 'spent': 1012, 'physic': 1013, 'nation': 1014, 'respons': 1015, 'planet': 1016, 'receiv': 1017, 'fake': 1018, 'blue': 1019, 'sick': 1020, 'bizarr': 1021, 'embarrass': 1022, 'indian': 1023, '15': 1024, 'ring': 1025, 'drop': 1026, 'pop': 1027, 'drag': 1028, 'haunt': 1029, 'pointless': 1030, 'suspect': 1031, 'edg': 1032, 'search': 1033, 'handl': 1034, 'biggest': 1035, 'common': 1036, 'faith': 1037, 'arriv': 1038, 'hurt': 1039, 'technic': 1040, 'angel': 1041, 'dad': 1042, 'genuin': 1043, 'awesom': 1044, 'f': 1045, 'solid': 1046, 'colleg': 1047, 'focu': 1048, 'former': 1049, 'van': 1050, 'count': 1051, 'tear': 1052, 'heavi': 1053, 'rais': 1054, 'wall': 1055, 'laughabl': 1056, 'visit': 1057, 'younger': 1058, 'sign': 1059, 'excus': 1060, 'fair': 1061, 'cult': 1062, 'tough': 1063, 'motion': 1064, 'key': 1065, 'desir': 1066, 'super': 1067, 'stun': 1068, 'addit': 1069, 'exploit': 1070, 'cloth': 1071, 'smith': 1072, 'tortur': 1073, 'race': 1074, 'davi': 1075, 'author': 1076, 'cross': 1077, 'jim': 1078, 'consist': 1079, 'focus': 1080, 'compel': 1081, 'minor': 1082, 'chemistri': 1083, 'pathet': 1084, 'commit': 1085, 'park': 1086, 'tradit': 1087, 'frank': 1088, 'obsess': 1089, 'grade': 1090, 'asid': 1091, '60': 1092, 'brutal': 1093, 'somewher': 1094, 'steve': 1095, 'opportun': 1096, 'grant': 1097, 'explor': 1098, 'depress': 1099, 'u': 1100, 'rule': 1101, 'honest': 1102, 'besid': 1103, 'anti': 1104, 'dub': 1105, 'intend': 1106, 'trailer': 1107, 'bar': 1108, 'west': 1109, 'longer': 1110, 'regard': 1111, 'scientist': 1112, 'decad': 1113, 'judg': 1114, 'silent': 1115, 'creativ': 1116, 'armi': 1117, 'wild': 1118, 'stewart': 1119, 'south': 1120, 'g': 1121, 'draw': 1122, 'road': 1123, 'govern': 1124, 'boss': 1125, 'ex': 1126, 'practic': 1127, 'motiv': 1128, 'festiv': 1129, 'surprisingli': 1130, 'gang': 1131, 'club': 1132, 'redeem': 1133, 'london': 1134, 'green': 1135, 'page': 1136, 'machin': 1137, 'display': 1138, 'militari': 1139, 'idiot': 1140, 'aliv': 1141, 'repeat': 1142, 'thrill': 1143, 'nobodi': 1144, 'folk': 1145, 'yeah': 1146, '100': 1147, '40': 1148, 'garbag': 1149, 'journey': 1150, 'smile': 1151, 'ground': 1152, 'tire': 1153, 'mood': 1154, 'bought': 1155, 'sam': 1156, 'stone': 1157, 'cost': 1158, 'noir': 1159, 'mouth': 1160, 'agent': 1161, 'terrif': 1162, 'utterli': 1163, 'requir': 1164, 'area': 1165, 'honestli': 1166, 'sexi': 1167, 'geniu': 1168, 'report': 1169, 'glad': 1170, 'humour': 1171, 'investig': 1172, 'enter': 1173, 'serial': 1174, 'passion': 1175, 'narr': 1176, 'occasion': 1177, 'climax': 1178, 'marriag': 1179, 'industri': 1180, 'studi': 1181, 'nowher': 1182, 'center': 1183, 'charli': 1184, 'ship': 1185, 'demon': 1186, 'bear': 1187, 'loos': 1188, 'hors': 1189, 'wow': 1190, 'hang': 1191, 'graphic': 1192, 'giant': 1193, 'admir': 1194, 'send': 1195, 'damn': 1196, 'loud': 1197, 'rel': 1198, 'subtl': 1199, 'nake': 1200, 'profession': 1201, 'blow': 1202, 'bottom': 1203, 'insult': 1204, 'batman': 1205, 'r': 1206, 'boyfriend': 1207, 'doubl': 1208, 'kelli': 1209, 'initi': 1210, 'frame': 1211, 'gem': 1212, 'opera': 1213, 'church': 1214, 'affect': 1215, 'challeng': 1216, 'cinemat': 1217, 'drawn': 1218, 'fulli': 1219, 'nightmar': 1220, 'seek': 1221, 'j': 1222, 'l': 1223, 'evid': 1224, 'conflict': 1225, 'arm': 1226, 'essenti': 1227, 'christoph': 1228, 'grace': 1229, 'wind': 1230, 'henri': 1231, 'narrat': 1232, 'assum': 1233, 'witch': 1234, 'hunt': 1235, 'push': 1236, 'wise': 1237, 'chri': 1238, 'nomin': 1239, 'repres': 1240, 'month': 1241, 'sceneri': 1242, 'hide': 1243, 'affair': 1244, 'avail': 1245, 'thu': 1246, 'smart': 1247, 'justic': 1248, 'bond': 1249, 'flashback': 1250, 'outstand': 1251, 'interview': 1252, 'presenc': 1253, 'constantli': 1254, 'satisfi': 1255, 'bed': 1256, 'central': 1257, 'iron': 1258, 'sell': 1259, 'content': 1260, 'gag': 1261, 'everybodi': 1262, 'slowli': 1263, 'hotel': 1264, 'hire': 1265, 'system': 1266, 'thrown': 1267, 'hey': 1268, 'charl': 1269, 'individu': 1270, 'adam': 1271, 'allen': 1272, 'jone': 1273, 'mediocr': 1274, 'ray': 1275, 'lesson': 1276, 'billi': 1277, 'cameo': 1278, 'photographi': 1279, 'fellow': 1280, 'pari': 1281, 'strike': 1282, 'rise': 1283, 'brief': 1284, 'absurd': 1285, 'independ': 1286, 'neg': 1287, 'phone': 1288, 'impact': 1289, 'ill': 1290, 'born': 1291, 'model': 1292, 'angl': 1293, 'fresh': 1294, 'spoil': 1295, 'likabl': 1296, 'abus': 1297, 'hill': 1298, 'discuss': 1299, 'sight': 1300, 'ahead': 1301, 'sent': 1302, 'photograph': 1303, 'shine': 1304, 'occur': 1305, 'logic': 1306, 'blame': 1307, 'bruce': 1308, 'mainli': 1309, 'skip': 1310, 'forev': 1311, 'commerci': 1312, 'segment': 1313, 'surround': 1314, 'teacher': 1315, 'held': 1316, 'zero': 1317, 'blond': 1318, 'trap': 1319, 'resembl': 1320, 'summer': 1321, 'satir': 1322, 'six': 1323, 'fool': 1324, 'ball': 1325, 'queen': 1326, 'twice': 1327, 'sub': 1328, 'tragedi': 1329, 'pack': 1330, 'reaction': 1331, 'bomb': 1332, 'hospit': 1333, 'will': 1334, 'protagonist': 1335, 'sport': 1336, 'mile': 1337, 'drink': 1338, 'trust': 1339, 'vote': 1340, 'jerri': 1341, 'mom': 1342, 'encount': 1343, 'plane': 1344, 'program': 1345, 'current': 1346, 'station': 1347, 'al': 1348, 'martin': 1349, 'celebr': 1350, 'choos': 1351, 'join': 1352, 'round': 1353, 'favourit': 1354, 'field': 1355, 'lord': 1356, 'tragic': 1357, 'robot': 1358, 'jean': 1359, 'vision': 1360, 'tie': 1361, 'arthur': 1362, 'random': 1363, 'fortun': 1364, 'roger': 1365, 'psycholog': 1366, 'intern': 1367, 'dread': 1368, 'nonsens': 1369, 'prefer': 1370, 'improv': 1371, 'epic': 1372, 'legend': 1373, 'pleasur': 1374, 'highlight': 1375, 'formula': 1376, 'dollar': 1377, 'tape': 1378, '11': 1379, 'object': 1380, 'wide': 1381, 'gorgeou': 1382, 'thin': 1383, 'porn': 1384, 'fox': 1385, 'influenc': 1386, 'ugli': 1387, 'buddi': 1388, 'nasti': 1389, 'prepar': 1390, 'ii': 1391, 'warm': 1392, 'supposedli': 1393, 'reflect': 1394, 'progress': 1395, 'youth': 1396, 'worthi': 1397, 'latter': 1398, 'unusu': 1399, 'length': 1400, 'crash': 1401, 'superior': 1402, 'seven': 1403, 'childhood': 1404, 'shop': 1405, 'remot': 1406, 'theatr': 1407, 'disgust': 1408, 'pilot': 1409, 'paid': 1410, 'funniest': 1411, 'convers': 1412, 'fell': 1413, 'trick': 1414, 'castl': 1415, 'rob': 1416, 'establish': 1417, 'disast': 1418, 'gangster': 1419, 'mine': 1420, 'suicid': 1421, 'heaven': 1422, 'ident': 1423, 'disappear': 1424, 'decis': 1425, 'heroin': 1426, 'singer': 1427, 'tend': 1428, 'mask': 1429, 'forgotten': 1430, 'brian': 1431, 'partner': 1432, 'alan': 1433, 'desert': 1434, 'recogn': 1435, 'thoroughli': 1436, 'sky': 1437, 'p': 1438, 'stuck': 1439, 'ms': 1440, 'replac': 1441, 'accur': 1442, 'market': 1443, 'seemingli': 1444, 'danni': 1445, 'commentari': 1446, 'andi': 1447, 'clue': 1448, 'uncl': 1449, 'eddi': 1450, 'jackson': 1451, 'devil': 1452, 'therefor': 1453, 'that': 1454, 'refus': 1455, 'pair': 1456, 'accid': 1457, 'fate': 1458, 'river': 1459, 'fault': 1460, 'ed': 1461, 'unit': 1462, 'tune': 1463, 'afraid': 1464, 'stephen': 1465, 'clean': 1466, 'russian': 1467, 'hidden': 1468, 'convey': 1469, 'quick': 1470, 'readi': 1471, 'test': 1472, 'instanc': 1473, 'irrit': 1474, 'captain': 1475, 'european': 1476, 'daniel': 1477, 'frustrat': 1478, 'insan': 1479, 'food': 1480, 'rescu': 1481, 'wed': 1482, 'chines': 1483, '1950': 1484, 'angri': 1485, 'dirti': 1486, 'lock': 1487, 'joy': 1488, 'steven': 1489, 'price': 1490, 'bland': 1491, 'cage': 1492, 'anymor': 1493, 'rang': 1494, 'wooden': 1495, 'rush': 1496, 'news': 1497, 'n': 1498, 'jason': 1499, '12': 1500, 'worri': 1501, 'board': 1502, 'led': 1503, 'twenti': 1504, 'martial': 1505, 'cgi': 1506, 'transform': 1507, 'symbol': 1508, 'hunter': 1509, 'sentiment': 1510, 'invent': 1511, 'x': 1512, 'onto': 1513, 'johnni': 1514, 'piti': 1515, 'process': 1516, 'attitud': 1517, 'explan': 1518, 'owner': 1519, 'awar': 1520, 'aim': 1521, 'energi': 1522, 'floor': 1523, 'favor': 1524, 'necessari': 1525, 'target': 1526, 'religi': 1527, 'opposit': 1528, 'window': 1529, 'insight': 1530, 'chick': 1531, 'blind': 1532, 'movement': 1533, 'comparison': 1534, 'deepli': 1535, 'mountain': 1536, 'possess': 1537, 'research': 1538, 'comed': 1539, 'rain': 1540, 'grand': 1541, 'whatsoev': 1542, 'bank': 1543, 'shadow': 1544, 'mid': 1545, 'began': 1546, 'parodi': 1547, 'princ': 1548, 'taylor': 1549, 'weapon': 1550, 'friendship': 1551, 'credibl': 1552, 'pre': 1553, 'dougla': 1554, 'teach': 1555, 'flesh': 1556, 'terror': 1557, 'protect': 1558, 'hint': 1559, 'bloodi': 1560, 'marvel': 1561, 'anybodi': 1562, 'drunk': 1563, 'load': 1564, 'superman': 1565, 'leader': 1566, 'watchabl': 1567, 'accord': 1568, 'brown': 1569, 'freddi': 1570, 'tim': 1571, 'jeff': 1572, 'appropri': 1573, 'seat': 1574, 'hitler': 1575, 'villag': 1576, 'keaton': 1577, 'charg': 1578, 'unknown': 1579, 'knock': 1580, 'unnecessari': 1581, 'enemi': 1582, 'media': 1583, 'empti': 1584, 'england': 1585, 'strength': 1586, 'dare': 1587, 'utter': 1588, 'craft': 1589, 'wave': 1590, 'perspect': 1591, 'buck': 1592, 'nativ': 1593, 'contrast': 1594, 'ford': 1595, 'kiss': 1596, 'correct': 1597, 'anywher': 1598, 'magnific': 1599, 'distract': 1600, 'nazi': 1601, 'soap': 1602, 'knowledg': 1603, 'speed': 1604, 'chill': 1605, 'breath': 1606, 'mission': 1607, '1980': 1608, 'ice': 1609, 'fred': 1610, 'jr': 1611, 'crowd': 1612, 'moon': 1613, 'joan': 1614, 'frighten': 1615, 'kate': 1616, 'soft': 1617, '000': 1618, 'nick': 1619, 'dick': 1620, 'dan': 1621, 'hundr': 1622, 'dozen': 1623, 'somebodi': 1624, 'simon': 1625, 'radio': 1626, 'academi': 1627, 'andrew': 1628, 'shakespear': 1629, 'thousand': 1630, 'loss': 1631, 'quot': 1632, 'vehicl': 1633, 'sum': 1634, 'root': 1635, 'account': 1636, '1970': 1637, 'leg': 1638, 'behavior': 1639, 'convent': 1640, 'regular': 1641, 'gold': 1642, 'pretenti': 1643, 'demand': 1644, 'compet': 1645, 'worker': 1646, 'lynch': 1647, 'stretch': 1648, 'explos': 1649, 'japan': 1650, 'interpret': 1651, 'privat': 1652, 'notabl': 1653, 'candi': 1654, 'debut': 1655, 'constant': 1656, 'tarzan': 1657, 'sea': 1658, 'spi': 1659, 'revolv': 1660, 'translat': 1661, 'prais': 1662, 'failur': 1663, 'threaten': 1664, 'ass': 1665, 'sat': 1666, 'franc': 1667, 'technolog': 1668, 'jesu': 1669, 'quiet': 1670, 'punch': 1671, 'kevin': 1672, 'met': 1673, 'aid': 1674, 'toy': 1675, 'higher': 1676, 'interact': 1677, 'abandon': 1678, 'vh': 1679, 'mike': 1680, 'command': 1681, 'separ': 1682, 'bet': 1683, 'confront': 1684, 'techniqu': 1685, 'belong': 1686, 'stunt': 1687, 'servic': 1688, 'recal': 1689, 'gotten': 1690, 'site': 1691, 'foot': 1692, 'cabl': 1693, 'freak': 1694, 'bug': 1695, 'bright': 1696, 'capabl': 1697, 'jimmi': 1698, 'african': 1699, 'fu': 1700, 'fat': 1701, 'presid': 1702, 'clark': 1703, 'boat': 1704, 'succeed': 1705, 'stock': 1706, 'structur': 1707, 'gene': 1708, 'spanish': 1709, 'paper': 1710, 'kidnap': 1711, 'whilst': 1712, 'factor': 1713, 'belief': 1714, 'tree': 1715, 'realism': 1716, 'complic': 1717, 'bob': 1718, 'attend': 1719, 'educ': 1720, 'realis': 1721, 'witti': 1722, 'finest': 1723, 'assist': 1724, 'broken': 1725, 'santa': 1726, 'depart': 1727, 'v': 1728, 'observ': 1729, 'up': 1730, 'determin': 1731, 'smoke': 1732, 'hat': 1733, 'domin': 1734, 'lewi': 1735, 'rubbish': 1736, 'oper': 1737, 'routin': 1738, 'fame': 1739, 'hook': 1740, 'lone': 1741, 'safe': 1742, 'kinda': 1743, 'advanc': 1744, 'foreign': 1745, 'morgan': 1746, 'rank': 1747, 'numer': 1748, 'shape': 1749, 'civil': 1750, 'werewolf': 1751, 'washington': 1752, 'shallow': 1753, 'rose': 1754, 'vs': 1755, 'gari': 1756, 'morn': 1757, 'ordinari': 1758, 'winner': 1759, 'accomplish': 1760, 'kong': 1761, 'whenev': 1762, 'virtual': 1763, 'peac': 1764, 'grab': 1765, 'offens': 1766, 'h': 1767, 'luck': 1768, 'unfunni': 1769, 'activ': 1770, 'welcom': 1771, 'contriv': 1772, 'patient': 1773, 'bigger': 1774, 'complain': 1775, 'con': 1776, 'dimension': 1777, 'trek': 1778, 'pretend': 1779, 'wake': 1780, 'eric': 1781, 'flash': 1782, 'code': 1783, 'dri': 1784, 'cain': 1785, 'lesbian': 1786, 'statu': 1787, 'corrupt': 1788, 'guard': 1789, 'manipul': 1790, 'dancer': 1791, 'albert': 1792, 'gain': 1793, 'sourc': 1794, 'signific': 1795, 'context': 1796, 'speech': 1797, 'awkward': 1798, 'clip': 1799, '13': 1800, 'anthoni': 1801, 'corni': 1802, 'psycho': 1803, 'sean': 1804, 'curiou': 1805, 'advic': 1806, 'reli': 1807, 'w': 1808, 'theatric': 1809, 'priest': 1810, 'religion': 1811, 'flow': 1812, 'addict': 1813, 'skin': 1814, 'jennif': 1815, 'howard': 1816, 'specif': 1817, 'secur': 1818, 'asian': 1819, 'organ': 1820, 'core': 1821, 'comfort': 1822, 'golden': 1823, 'promot': 1824, 'luke': 1825, 'cash': 1826, 'lucki': 1827, 'cheat': 1828, 'lower': 1829, 'associ': 1830, 'dislik': 1831, 'frankli': 1832, 'degre': 1833, 'frequent': 1834, 'balanc': 1835, 'spell': 1836, 'regret': 1837, 'devic': 1838, 'wing': 1839, 'contribut': 1840, 'sake': 1841, 'forgiv': 1842, 'print': 1843, 'lake': 1844, 'mass': 1845, 'betti': 1846, 'thoma': 1847, 'crack': 1848, 'unexpect': 1849, 'gordon': 1850, 'amateur': 1851, 'construct': 1852, 'invit': 1853, 'categori': 1854, 'depend': 1855, 'grown': 1856, 'unfold': 1857, 'condit': 1858, 'matur': 1859, 'intellectu': 1860, 'walter': 1861, 'grew': 1862, 'honor': 1863, 'anna': 1864, 'veteran': 1865, 'mirror': 1866, 'spectacular': 1867, 'sole': 1868, 'sudden': 1869, 'meanwhil': 1870, 'overli': 1871, 'gift': 1872, 'grip': 1873, 'liner': 1874, 'freedom': 1875, 'experienc': 1876, 'demonstr': 1877, 'card': 1878, 'robin': 1879, 'oliv': 1880, 'sheriff': 1881, 'circumst': 1882, 'section': 1883, 'theori': 1884, 'colour': 1885, 'drew': 1886, 'unabl': 1887, 'brilliantli': 1888, 'subtitl': 1889, 'crappi': 1890, 'altern': 1891, 'path': 1892, 'pile': 1893, 'parker': 1894, 'sheer': 1895, 'cook': 1896, 'matt': 1897, 'laughter': 1898, 'treatment': 1899, 'accident': 1900, 'sinatra': 1901, 'hall': 1902, 'wander': 1903, 'defin': 1904, 'lawyer': 1905, 'relief': 1906, 'dragon': 1907, 'captiv': 1908, 'hank': 1909, 'halloween': 1910, 'moor': 1911, 'gratuit': 1912, 'cowboy': 1913, 'k': 1914, 'barbara': 1915, 'jacki': 1916, 'unintent': 1917, 'wound': 1918, 'wayn': 1919, 'kung': 1920, 'broadway': 1921, 'statement': 1922, 'spoof': 1923, 'surreal': 1924, 'canadian': 1925, 'winter': 1926, 'fare': 1927, 'treasur': 1928, 'cheer': 1929, 'gonna': 1930, 'fish': 1931, 'compos': 1932, 'woodi': 1933, 'victor': 1934, 'emerg': 1935, 'unrealist': 1936, 'sensit': 1937, 'ran': 1938, 'driven': 1939, 'sympathet': 1940, 'neighbor': 1941, 'menac': 1942, 'overlook': 1943, 'topic': 1944, 'glass': 1945, 'expos': 1946, 'authent': 1947, 'gross': 1948, 'chief': 1949, 'ancient': 1950, 'michel': 1951, 'handsom': 1952, 'pleasant': 1953, 'contemporari': 1954, 'network': 1955, 'built': 1956, 'stranger': 1957, 'nevertheless': 1958, 'cinderella': 1959, 'feet': 1960, 'comedian': 1961, 'russel': 1962, 'consider': 1963, 'letter': 1964, 'endless': 1965, 'gori': 1966, 'blockbust': 1967, 'miser': 1968, 'underr': 1969, 'earn': 1970, 'switch': 1971, 'solv': 1972, 'brook': 1973, 'edward': 1974, 'victoria': 1975, 'virgin': 1976, 'convict': 1977, 'bullet': 1978, 'joseph': 1979, 'scenario': 1980, 'cynic': 1981, 'scale': 1982, '0': 1983, 'chosen': 1984, 'alex': 1985, 'com': 1986, 'outrag': 1987, 'gut': 1988, 'curs': 1989, 'sword': 1990, 'wrap': 1991, 'juli': 1992, 'proper': 1993, 'substanc': 1994, 'uk': 1995, 'driver': 1996, 'screenwrit': 1997, 'monkey': 1998, 'par': 1999, 'remov': 2000, 'court': 2001, 'indic': 2002, 'bird': 2003, 'advertis': 2004, 'grave': 2005, 'roy': 2006, 'inevit': 2007, 'naiv': 2008, 'rental': 2009, 'nanci': 2010, 'consequ': 2011, 'loser': 2012, 'slap': 2013, 'bridg': 2014, 'invis': 2015, 'le': 2016, 'fatal': 2017, 'germani': 2018, 'brave': 2019, 'anger': 2020, 'provok': 2021, 'ador': 2022, 'loui': 2023, 'footbal': 2024, 'anderson': 2025, 'alcohol': 2026, 'chan': 2027, 'stumbl': 2028, 'ryan': 2029, 'professor': 2030, 'willi': 2031, 'sharp': 2032, '1930': 2033, 'bat': 2034, 'australian': 2035, 'assassin': 2036, 'patrick': 2037, 'ape': 2038, 'refresh': 2039, 'cell': 2040, 'strongli': 2041, 'heck': 2042, 'eight': 2043, 'trilog': 2044, 'amateurish': 2045, 'deni': 2046, 'saturday': 2047, 'liber': 2048, 'lousi': 2049, 'sin': 2050, 'san': 2051, 'vagu': 2052, 'justifi': 2053, 'resid': 2054, 'indi': 2055, 'creator': 2056, 'mini': 2057, 'defeat': 2058, 'sympathi': 2059, 'terrifi': 2060, 'reput': 2061, 'tediou': 2062, 'expert': 2063, 'prevent': 2064, 'tabl': 2065, 'endur': 2066, 'task': 2067, 'offend': 2068, 'trial': 2069, 'basebal': 2070, 'rival': 2071, 'imit': 2072, 'employ': 2073, 'che': 2074, 'complaint': 2075, 'dig': 2076, 'max': 2077, 'weekend': 2078, 'europ': 2079, 'fairi': 2080, 'pitch': 2081, 'beach': 2082, 'purchas': 2083, 'risk': 2084, 'format': 2085, 'murphi': 2086, 'nois': 2087, 'hype': 2088, 'bite': 2089, 'tini': 2090, 'harsh': 2091, 'titan': 2092, 'reminisc': 2093, 'glimps': 2094, 'powel': 2095, '14': 2096, 'till': 2097, 'strip': 2098, 'asleep': 2099, 'prime': 2100, 'north': 2101, 'fals': 2102, 'descript': 2103, 'texa': 2104, 'revel': 2105, 'destruct': 2106, 'africa': 2107, 'spin': 2108, 'semi': 2109, 'uninterest': 2110, 'inner': 2111, 'sitcom': 2112, 'excess': 2113, 'arrest': 2114, 'surfac': 2115, 'makeup': 2116, 'dinosaur': 2117, 'massiv': 2118, 'twin': 2119, 'maintain': 2120, 'argu': 2121, 'hitchcock': 2122, 'controversi': 2123, 'reject': 2124, 'expens': 2125, 'kim': 2126, 'ideal': 2127, 'stare': 2128, 'insist': 2129, 'ludicr': 2130, 'melodrama': 2131, 'erot': 2132, 'subplot': 2133, 'ga': 2134, 'nail': 2135, 'columbo': 2136, 'forest': 2137, 'press': 2138, 'ala': 2139, 'host': 2140, 'atroci': 2141, 'supernatur': 2142, 'identifi': 2143, 'cant': 2144, 'presum': 2145, 'dude': 2146, 'notch': 2147, 'crude': 2148, 'method': 2149, 'closer': 2150, 'guest': 2151, 'plagu': 2152, 'character': 2153, 'forgett': 2154, 'landscap': 2155, 'ear': 2156, 'lion': 2157, 'beast': 2158, 'border': 2159, 'foster': 2160, 'princess': 2161, 'birth': 2162, 'urban': 2163, 'damag': 2164, 'aunt': 2165, 'jungl': 2166, 'bound': 2167, 'pacino': 2168, 'accus': 2169, 'previous': 2170, 'storytel': 2171, 'doll': 2172, 'chose': 2173, 'propaganda': 2174, 'jess': 2175, 'thirti': 2176, 'nude': 2177, 'guid': 2178, 'emma': 2179, 'whoever': 2180, '25': 2181, 'mate': 2182, 'warrior': 2183, 'pet': 2184, 'mainstream': 2185, 'deadli': 2186, 'poster': 2187, 'gritti': 2188, 'exact': 2189, 'size': 2190, 'merit': 2191, 'upset': 2192, 'friday': 2193, 'latest': 2194, 'cooper': 2195, 'blend': 2196, 'wilson': 2197, 'citizen': 2198, 'contact': 2199, 'settl': 2200, 'rough': 2201, 'ton': 2202, 'popul': 2203, '1990': 2204, 'corps': 2205, 'contest': 2206, 'buff': 2207, 'sun': 2208, 'warner': 2209, 'widow': 2210, 'select': 2211, 'environ': 2212, 'metal': 2213, 'overcom': 2214, 'rat': 2215, 'alic': 2216, 'mgm': 2217, 'bu': 2218, 'pitt': 2219, 'particip': 2220, 'guilti': 2221, 'link': 2222, 'lift': 2223, 'ted': 2224, 'revolut': 2225, 'johnson': 2226, 'moron': 2227, 'exagger': 2228, '1960': 2229, 'matrix': 2230, 'accompani': 2231, 'corner': 2232, 'afternoon': 2233, 'prostitut': 2234, 'corpor': 2235, 'instal': 2236, 'hood': 2237, 'holm': 2238, 'leagu': 2239, 'doom': 2240, 'clair': 2241, 'multipl': 2242, 'sincer': 2243, 'friendli': 2244, 'string': 2245, 'defend': 2246, 'campi': 2247, 'lugosi': 2248, 'advis': 2249, 'sunday': 2250, 'blah': 2251, 'grim': 2252, 'aka': 2253, 'examin': 2254, 'hip': 2255, 'irish': 2256, 'junk': 2257, 'pro': 2258, 'shut': 2259, 'varieti': 2260, 'icon': 2261, 'rachel': 2262, 'shake': 2263, 'confid': 2264, 'tight': 2265, 'directli': 2266, 'goal': 2267, 'jaw': 2268, 'mexican': 2269, 'denni': 2270, 'medic': 2271, 'attach': 2272, 'sullivan': 2273, 'sentenc': 2274, 'vietnam': 2275, 'legendari': 2276, 'breast': 2277, 'terrorist': 2278, 'courag': 2279, 'duke': 2280, 'truck': 2281, 'bourn': 2282, 'dean': 2283, 'sarah': 2284, 'prior': 2285, 'yell': 2286, 'entri': 2287, 'behav': 2288, 'nose': 2289, 'un': 2290, 'donald': 2291, 'hong': 2292, 'split': 2293, 'proceed': 2294, 'jerk': 2295, 'everywher': 2296, 'swim': 2297, 'crush': 2298, 'unconvinc': 2299, 'confess': 2300, 'lifetim': 2301, 'buri': 2302, 'concentr': 2303, 'forth': 2304, 'gather': 2305, 'stolen': 2306, 'borrow': 2307, 'spite': 2308, 'california': 2309, 'julia': 2310, 'deliveri': 2311, 'lip': 2312, 'turkey': 2313, 'pan': 2314, 'downright': 2315, 'reward': 2316, 'proud': 2317, 'china': 2318, 'flight': 2319, 'hoffman': 2320, 'offici': 2321, 'quest': 2322, 'freeman': 2323, 'worthwhil': 2324, 'inept': 2325, 'fabul': 2326, 'jon': 2327, 'jail': 2328, 'encourag': 2329, 'fade': 2330, 'lazi': 2331, 'sink': 2332, 'betray': 2333, 'notori': 2334, 'sir': 2335, 'survivor': 2336, 'retard': 2337, 'bell': 2338, 'relev': 2339, 'shower': 2340, 'branagh': 2341, 'cousin': 2342, 'susan': 2343, 'imageri': 2344, 'storm': 2345, 'bag': 2346, 'teeth': 2347, 'lisa': 2348, 'hugh': 2349, 'facial': 2350, 'alright': 2351, 'mexico': 2352, 'toler': 2353, 'stab': 2354, 'bride': 2355, 'tremend': 2356, 'summari': 2357, 'trade': 2358, 'finger': 2359, 'quirki': 2360, 'shark': 2361, 'bitter': 2362, 'pose': 2363, 'von': 2364, 'hyster': 2365, 'blown': 2366, 'ha': 2367, 'ned': 2368, 'christ': 2369, 'cruel': 2370, 'ron': 2371, 'afterward': 2372, 'address': 2373, 'scheme': 2374, 'larri': 2375, 'bone': 2376, 'screw': 2377, 'traci': 2378, 'feed': 2379, 'swear': 2380, 'distinct': 2381, 'tour': 2382, 'beg': 2383, 'thumb': 2384, 'pursu': 2385, 'snake': 2386, 'obscur': 2387, 'photo': 2388, 'raw': 2389, 'mechan': 2390, 'stomach': 2391, 'chair': 2392, 'occas': 2393, 'southern': 2394, 'necessarili': 2395, 'hardi': 2396, 'gruesom': 2397, 'holiday': 2398, 'resist': 2399, 'chain': 2400, 'render': 2401, 'sidney': 2402, 'heavili': 2403, 'cabin': 2404, 'argument': 2405, 'understood': 2406, 'indulg': 2407, 'racist': 2408, 'satan': 2409, 'india': 2410, 'philip': 2411, 'integr': 2412, 'pregnant': 2413, 'fourth': 2414, 'forgot': 2415, 'obnoxi': 2416, 'midnight': 2417, 'tongu': 2418, 'belov': 2419, 'stalk': 2420, 'lay': 2421, 'outfit': 2422, 'slapstick': 2423, 'inhabit': 2424, 'deeper': 2425, 'restor': 2426, '17': 2427, 'garden': 2428, 'magazin': 2429, 'carol': 2430, 'ticket': 2431, 'shoe': 2432, 'brad': 2433, 'lincoln': 2434, 'incid': 2435, 'devot': 2436, 'disbelief': 2437, 'anticip': 2438, 'lili': 2439, 'underground': 2440, 'benefit': 2441, 'guarante': 2442, 'sandler': 2443, 'divorc': 2444, 'maria': 2445, 'elizabeth': 2446, 'creation': 2447, 'bbc': 2448, 'princip': 2449, 'amazingli': 2450, 'slave': 2451, 'explod': 2452, 'capit': 2453, 'cring': 2454, 'greater': 2455, 'mildli': 2456, 'halfway': 2457, 'introduct': 2458, 'lesli': 2459, 'funnier': 2460, 'extraordinari': 2461, 'wreck': 2462, 'transfer': 2463, 'advantag': 2464, 'extent': 2465, 'tap': 2466, 'enhanc': 2467, 'punish': 2468, 'text': 2469, 'overwhelm': 2470, 'east': 2471, 'plant': 2472, 'dynam': 2473, 'error': 2474, 'horrif': 2475, 'lane': 2476, 'lo': 2477, 'preview': 2478, 'deliber': 2479, 'jessica': 2480, 'vacat': 2481, 'vincent': 2482, 'miller': 2483, '2000': 2484, 'appli': 2485, 'sophist': 2486, 'basi': 2487, 'homosexu': 2488, 'miscast': 2489, 'ensu': 2490, 'extend': 2491, 'mansion': 2492, 'elev': 2493, 'sleazi': 2494, 'spoken': 2495, 'uncomfort': 2496, 'measur': 2497, 'via': 2498, 'reed': 2499, 'steel': 2500, 'bollywood': 2501, 'daili': 2502, 'fix': 2503, 'cathol': 2504, 'overact': 2505, 'hippi': 2506, 'assign': 2507, 'alter': 2508, 'melt': 2509, 'beer': 2510, 'blair': 2511, 'breathtak': 2512, 'savag': 2513, 'goofi': 2514, 'mous': 2515, 'dentist': 2516, 'conceiv': 2517, 'stanley': 2518, 'succe': 2519, 'carpent': 2520, 'burt': 2521, 'oppos': 2522, 'nowaday': 2523, 'inspector': 2524, 'sacrific': 2525, 'properli': 2526, 'everyday': 2527, 'subsequ': 2528, 'neck': 2529, 'laura': 2530, 'massacr': 2531, 'block': 2532, 'circl': 2533, 'seagal': 2534, 'christi': 2535, 'portrait': 2536, 'access': 2537, 'grey': 2538, 'pool': 2539, 'lesser': 2540, 'fallen': 2541, 'concert': 2542, 'mob': 2543, 'fay': 2544, 'react': 2545, 'relax': 2546, 'usa': 2547, 'isol': 2548, 'sinist': 2549, 'jewish': 2550, 'chees': 2551, 'competit': 2552, 'jake': 2553, 'nonetheless': 2554, 'nine': 2555, 'ironi': 2556, 'spiritu': 2557, 'lyric': 2558, 'stink': 2559, 'chop': 2560, 'immens': 2561, 'appal': 2562, 'creep': 2563, 'suitabl': 2564, '2006': 2565, 'shirt': 2566, 'showcas': 2567, 'spring': 2568, 'user': 2569, 'nut': 2570, 'retir': 2571, 'franchis': 2572, 'needless': 2573, 'adopt': 2574, 'sold': 2575, 'navi': 2576, 'luci': 2577, 'reduc': 2578, 'rage': 2579, 'bath': 2580, 'bulli': 2581, 'per': 2582, 'zone': 2583, 'digit': 2584, 'uninspir': 2585, 'asham': 2586, 'nurs': 2587, 'stanwyck': 2588, 'jay': 2589, 'laid': 2590, 'amongst': 2591, 'illustr': 2592, 'sutherland': 2593, 'oddli': 2594, 'upper': 2595, 'broadcast': 2596, '2001': 2597, '1940': 2598, 'baker': 2599, 'throat': 2600, 'fulfil': 2601, 'aspir': 2602, 'brando': 2603, 'stylish': 2604, 'disguis': 2605, 'pound': 2606, 'neighborhood': 2607, 'wanna': 2608, 'em': 2609, '18': 2610, 'impli': 2611, 'pride': 2612, 'endear': 2613, 'thief': 2614, 'nobl': 2615, 'wwii': 2616, 'prop': 2617, 'tens': 2618, '16': 2619, 'shoulder': 2620, 'shift': 2621, 'cinematograph': 2622, 'bo': 2623, 'dinner': 2624, 'coher': 2625, 'rochest': 2626, 'albeit': 2627, 'dawn': 2628, 'bett': 2629, 'diseas': 2630, 'distribut': 2631, 'wash': 2632, 'knife': 2633, 'snow': 2634, 'matthau': 2635, 'forti': 2636, 'rebel': 2637, 'poignant': 2638, 'surf': 2639, 'shout': 2640, 'function': 2641, 'contract': 2642, 'silenc': 2643, 'internet': 2644, 'cancel': 2645, 'widmark': 2646, 'duti': 2647, 'reunion': 2648, 'derek': 2649, 'instinct': 2650, 'eeri': 2651, 'height': 2652, 'proof': 2653, 'heat': 2654, 'silver': 2655, 'mindless': 2656, 'cannib': 2657, 'henc': 2658, 'chuck': 2659, 'horrend': 2660, 'elvira': 2661, 'mill': 2662, 'spielberg': 2663, 'incoher': 2664, 'greatli': 2665, 'repetit': 2666, 'etern': 2667, 'torn': 2668, 'innov': 2669, 'musician': 2670, 'glori': 2671, 'alik': 2672, 'premier': 2673, 'pie': 2674, 'absorb': 2675, 'neat': 2676, 'elvi': 2677, 'horrifi': 2678, 'announc': 2679, 'nelson': 2680, 'blank': 2681, 'itali': 2682, 'diamond': 2683, 'homag': 2684, 'wealthi': 2685, 'britain': 2686, 'crisi': 2687, 'precis': 2688, 'burton': 2689, 'infam': 2690, 'fbi': 2691, 'trite': 2692, 'lovabl': 2693, 'racism': 2694, 'redempt': 2695, 'bang': 2696, 'wilder': 2697, 'dedic': 2698, 'hammer': 2699, 'happili': 2700, 'flop': 2701, 'chaplin': 2702, 'pat': 2703, 'parallel': 2704, 'ensembl': 2705, 'resolut': 2706, 'helen': 2707, 'streisand': 2708, 'conclud': 2709, 'broke': 2710, 'mar': 2711, 'oil': 2712, 'plastic': 2713, 'disagre': 2714, 'factori': 2715, 'cube': 2716, 'st': 2717, 'triumph': 2718, 'carter': 2719, 'own': 2720, 'weight': 2721, 'bush': 2722, 'fighter': 2723, 'row': 2724, 'chuckl': 2725, 'march': 2726, 'rocket': 2727, 'climb': 2728, 'vega': 2729, 'sensibl': 2730, 'dane': 2731, 'spare': 2732, 'wherea': 2733, 'meaning': 2734, 'luca': 2735, 'unforgett': 2736, 'dump': 2737, 'lust': 2738, 'thug': 2739, 'enorm': 2740, 'boot': 2741, 'kurt': 2742, 'mst3k': 2743, 'threat': 2744, 'fifti': 2745, 'adequ': 2746, 'difficulti': 2747, 'engin': 2748, 'bobbi': 2749, 'stress': 2750, 'caricatur': 2751, 'dear': 2752, 'rap': 2753, 'butt': 2754, 'brand': 2755, 'karloff': 2756, 'arnold': 2757, 'swing': 2758, 'hamlet': 2759, 'arrog': 2760, 'ego': 2761, 'barri': 2762, 'elabor': 2763, 'homeless': 2764, 'journalist': 2765, 'flynn': 2766, 'secretari': 2767, 'fest': 2768, 'ralph': 2769, 'polish': 2770, 'resort': 2771, 'float': 2772, 'puppet': 2773, 'conspiraci': 2774, 'induc': 2775, 'fanci': 2776, 'simpson': 2777, 'grate': 2778, 'unbear': 2779, 'tool': 2780, 'arrang': 2781, 'spike': 2782, 'tribut': 2783, 'exercis': 2784, 'choreograph': 2785, 'cruis': 2786, 'guilt': 2787, 'pig': 2788, 'muppet': 2789, 'boll': 2790, 'basement': 2791, 'phillip': 2792, 'file': 2793, 'editor': 2794, '24': 2795, 'babe': 2796, 'stan': 2797, 'tower': 2798, 'slip': 2799, 'puzzl': 2800, 'layer': 2801, 'toilet': 2802, 'medium': 2803, 'document': 2804, 'ham': 2805, 'korean': 2806, 'item': 2807, 'ward': 2808, 'fianc': 2809, 'scarecrow': 2810, 'doc': 2811, 'philosoph': 2812, 'territori': 2813, 'slaughter': 2814, 'portion': 2815, 'larger': 2816, 'orient': 2817, 'librari': 2818, 'transit': 2819, 'inexplic': 2820, 'assur': 2821, 'minim': 2822, 'glover': 2823, 'persona': 2824, 'superfici': 2825, 'spark': 2826, 'denzel': 2827, 'catherin': 2828, 'boredom': 2829, 'sneak': 2830, 'owe': 2831, 'financi': 2832, 'jeremi': 2833, 'pg': 2834, 'dorothi': 2835, 'shi': 2836, 'wolf': 2837, 'jet': 2838, 'curti': 2839, 'ban': 2840, 'walken': 2841, 'multi': 2842, 'whale': 2843, 'profound': 2844, 'eleph': 2845, 'backdrop': 2846, 'metaphor': 2847, 'ambigu': 2848, 'hudson': 2849, 'cusack': 2850, 'ultra': 2851, 'implaus': 2852, 'elsewher': 2853, 'birthday': 2854, 'union': 2855, 'viru': 2856, 'hack': 2857, '2005': 2858, 'notion': 2859, 'rave': 2860, 'gadget': 2861, 'stiff': 2862, 'superhero': 2863, 'distanc': 2864, 'eastwood': 2865, 'deriv': 2866, 'slight': 2867, '1st': 2868, 'disc': 2869, 'hawk': 2870, 'urg': 2871, 'pad': 2872, 'poison': 2873, 'reader': 2874, 'canada': 2875, 'bibl': 2876, 'newspap': 2877, 'afford': 2878, 'eva': 2879, 'lloyd': 2880, 'squar': 2881, 'essenc': 2882, 'drown': 2883, 'montag': 2884, 'health': 2885, 'spread': 2886, 'heston': 2887, 'sadist': 2888, 'huh': 2889, 'button': 2890, 'restaur': 2891, 'cure': 2892, 'charisma': 2893, 'skit': 2894, 'godfath': 2895, 'invest': 2896, 'gradual': 2897, 'fetch': 2898, 'companion': 2899, 'lab': 2900, 'estat': 2901, 'dealt': 2902, 'peak': 2903, 'maniac': 2904, 'scoobi': 2905, 'muslim': 2906, 'subtleti': 2907, 'kane': 2908, 'alli': 2909, 'countless': 2910, 'ritter': 2911, 'cup': 2912, 'tea': 2913, 'servant': 2914, 'miik': 2915, 'gothic': 2916, 'heroic': 2917, 'charismat': 2918, 'elect': 2919, 'briefli': 2920, 'iii': 2921, 'electr': 2922, 'salli': 2923, 'reel': 2924, 'admittedli': 2925, 'nuanc': 2926, 'neil': 2927, 'cole': 2928, 'grandmoth': 2929, 'tender': 2930, 'resourc': 2931, 'ingredi': 2932, 'bud': 2933, 'toss': 2934, 'wannab': 2935, 'dawson': 2936, 'pauli': 2937, 'gate': 2938, 'carrey': 2939, 'shall': 2940, 'stronger': 2941, 'label': 2942, 'poverti': 2943, 'pit': 2944, 'punk': 2945, 'stood': 2946, 'mafia': 2947, 'mild': 2948, 'reev': 2949, 'kubrick': 2950, 'cox': 2951, 'ian': 2952, 'useless': 2953, 'updat': 2954, 'smash': 2955, 'burst': 2956, 'outcom': 2957, 'fond': 2958, 'assault': 2959, 'terri': 2960, 'easier': 2961, 'cardboard': 2962, 'smooth': 2963, 'tag': 2964, 'bakshi': 2965, 'astair': 2966, 'divers': 2967, 'coincid': 2968, 'fist': 2969, 'sketch': 2970, 'melodramat': 2971, 'samurai': 2972, 'vari': 2973, 'qualifi': 2974, 'vulner': 2975, 'exchang': 2976, 'increasingli': 2977, 'resolv': 2978, 'rex': 2979, '2002': 2980, 'luckili': 2981, 'blast': 2982, 'brillianc': 2983, 'tame': 2984, 'insert': 2985, 'reynold': 2986, 'templ': 2987, 'conveni': 2988, 'be': 2989, 'suspend': 2990, 'scratch': 2991, 'ambiti': 2992, 'farm': 2993, 'coach': 2994, 'strictli': 2995, 'hamilton': 2996, 'walker': 2997, 'pin': 2998, 'fisher': 2999, 'jami': 3000, 'matthew': 3001, 'meat': 3002, 'gotta': 3003, 'seventi': 3004, 'nuclear': 3005, 'soprano': 3006, 'struck': 3007, 'ninja': 3008, 'monk': 3009, 'closet': 3010, 'instantli': 3011, 'grasp': 3012, 'joey': 3013, 'discoveri': 3014, 'clock': 3015, 'kudo': 3016, 'butcher': 3017, 'worthless': 3018, 'timeless': 3019, 'empir': 3020, 'revers': 3021, 'recreat': 3022, 'spooki': 3023, 'convolut': 3024, 'brosnan': 3025, 'cave': 3026, 'eccentr': 3027, 'eighti': 3028, 'declar': 3029, 'mitchel': 3030, 'sidekick': 3031, 'partli': 3032, 'pal': 3033, 'fifteen': 3034, 'cliff': 3035, 'inconsist': 3036, 'bleak': 3037, 'clown': 3038, 'gray': 3039, 'communist': 3040, 'wipe': 3041, 'sloppi': 3042, 'selfish': 3043, 'importantli': 3044, 'norman': 3045, 'evok': 3046, 'miracl': 3047, 'seller': 3048, 'websit': 3049, '45': 3050, 'farc': 3051, 'piano': 3052, 'debat': 3053, 'aforement': 3054, 'enthusiast': 3055, 'superbl': 3056, 'australia': 3057, 'destin': 3058, 'seed': 3059, 'cheek': 3060, 'lifestyl': 3061, 'stoog': 3062, 'chew': 3063, 'psychiatrist': 3064, 'flawless': 3065, 'ho': 3066, 'kitchen': 3067, 'regardless': 3068, 'dire': 3069, 'anni': 3070, 'wick': 3071, 'bash': 3072, 'abc': 3073, 'slice': 3074, 'emili': 3075, 'drivel': 3076, 'directori': 3077, 'pressur': 3078, 'dash': 3079, 'splatter': 3080, 'soviet': 3081, 'wrestl': 3082, 'akshay': 3083, 'incompet': 3084, 'beaten': 3085, 'curios': 3086, 'cameron': 3087, 'helicopt': 3088, 'lou': 3089, 'suppli': 3090, 'chapter': 3091, 'dave': 3092, 'pleasantli': 3093, 'flower': 3094, 'cia': 3095, 'artifici': 3096, 'duo': 3097, 'seduc': 3098, 'boil': 3099, 'prize': 3100, 'judi': 3101, 'cagney': 3102, 'distant': 3103, 'ken': 3104, 'recov': 3105, 'glow': 3106, 'increas': 3107, 'doo': 3108, 'mann': 3109, 'blob': 3110, 'jar': 3111, 'panic': 3112, 'laurel': 3113, 'combat': 3114, 'francisco': 3115, 'favour': 3116, 'perri': 3117, 'craven': 3118, 'splendid': 3119, 'glenn': 3120, 'eleg': 3121, 'drunken': 3122, 'ranger': 3123, 'hop': 3124, 'ellen': 3125, 'goldberg': 3126, 'psychot': 3127, 'web': 3128, 'turner': 3129, 'craig': 3130, 'rid': 3131, 'falk': 3132, 'graduat': 3133, 'modesti': 3134, '20th': 3135, 'philosophi': 3136, 'flip': 3137, 'wizard': 3138, 'alexand': 3139, 'ruth': 3140, 'shortli': 3141, 'greek': 3142, 'min': 3143, 'gandhi': 3144, 'fx': 3145, 'hatr': 3146, 'slightest': 3147, 'plausibl': 3148, 'gentl': 3149, 'dracula': 3150, 'jealou': 3151, 'lend': 3152, 'we': 3153, 'unpleas': 3154, 'legal': 3155, 'preciou': 3156, 'tall': 3157, 'knight': 3158, 'felix': 3159, 'ocean': 3160, 'manhattan': 3161, 'futurist': 3162, 'holi': 3163, 'harm': 3164, 'fund': 3165, 'overdon': 3166, 'tank': 3167, 'forbidden': 3168, 'reviv': 3169, 'digniti': 3170, 'mock': 3171, 'thread': 3172, 'explicit': 3173, 'bless': 3174, 'nod': 3175, 'childish': 3176, 'ami': 3177, 'giallo': 3178, 'scientif': 3179, 'awaken': 3180, 'yesterday': 3181, 'broad': 3182, 'unwatch': 3183, 'thick': 3184, '99': 3185, '2004': 3186, 'repeatedli': 3187, 'verhoeven': 3188, 'eve': 3189, 'margaret': 3190, 'awe': 3191, 'elderli': 3192, 'torment': 3193, 'nerv': 3194, 'pirat': 3195, 'fever': 3196, 'mel': 3197, 'romero': 3198, 'publish': 3199, 'automat': 3200, 'acclaim': 3201, 'absenc': 3202, 'politician': 3203, 'timothi': 3204, 'lean': 3205, 'uniform': 3206, 'custom': 3207, 'rivet': 3208, 'ah': 3209, 'bin': 3210, 'royal': 3211, 'griffith': 3212, 'ambit': 3213, 'launch': 3214, 'roman': 3215, 'eas': 3216, 'stiller': 3217, 'kay': 3218, 'transport': 3219, 'phrase': 3220, 'tomato': 3221, 'warren': 3222, 'wallac': 3223, 'foul': 3224, 'termin': 3225, 'stinker': 3226, 'antic': 3227, 'gabriel': 3228, 'homicid': 3229, 'crook': 3230, 'pierc': 3231, 'darker': 3232, 'bathroom': 3233, 'sunshin': 3234, 'pulp': 3235, 'purpl': 3236, 'choreographi': 3237, 'horrid': 3238, 'brazil': 3239, 'contrari': 3240, 'kenneth': 3241, 'juvenil': 3242, 'donna': 3243, 'revolutionari': 3244, 'coloni': 3245, 'pray': 3246, 'evolv': 3247, 'ought': 3248, 'packag': 3249, 'q': 3250, 'awak': 3251, 'saint': 3252, 'eyr': 3253, '2003': 3254, 'viciou': 3255, 'li': 3256, 'karen': 3257, 'rambo': 3258, 'hollow': 3259, 'sixti': 3260, 'marin': 3261, 'prom': 3262, 'album': 3263, 'beatti': 3264, 'dose': 3265, 'stole': 3266, 'conserv': 3267, 'twelv': 3268, 'candid': 3269, 'defi': 3270, 'option': 3271, 'nerd': 3272, 'overr': 3273, 'boast': 3274, 'ireland': 3275, 'blade': 3276, 'mummi': 3277, 'kapoor': 3278, 'ramon': 3279, 'mildr': 3280, 'detract': 3281, 'jazz': 3282, 'protest': 3283, 'kirk': 3284, 'fulci': 3285, 'trio': 3286, 'natali': 3287, 'funer': 3288, 'global': 3289, 'collabor': 3290, 'confirm': 3291, 'flame': 3292, 'astonish': 3293, 'altman': 3294, 'audio': 3295, 'bull': 3296, 'blake': 3297, 'whip': 3298, 'yellow': 3299, 'spit': 3300, 'delici': 3301, 'mystic': 3302, 'leap': 3303, 'tommi': 3304, 'enterpris': 3305, 'shade': 3306, 'nicholson': 3307, 'bottl': 3308, 'racial': 3309, 'destini': 3310, 'neo': 3311, 'vivid': 3312, 'merci': 3313, 'adolesc': 3314, 'reunit': 3315, 'harder': 3316, 'visibl': 3317, 'pseudo': 3318, 'meaningless': 3319, 'bedroom': 3320, 'threw': 3321, 'popcorn': 3322, 'staff': 3323, 'todd': 3324, 'inherit': 3325, 'altogeth': 3326, 'fonda': 3327, 'enchant': 3328, 'swedish': 3329, 'fanat': 3330, 'synopsi': 3331, 'await': 3332, 'roommat': 3333, 'wire': 3334, 'leonard': 3335, 'uneven': 3336, 'voight': 3337, 'kennedi': 3338, 'edi': 3339, 'ruthless': 3340, 'moodi': 3341, 'lemmon': 3342, 'reserv': 3343, 'bust': 3344, 'atlanti': 3345, 'suspici': 3346, 'madonna': 3347, 'crocodil': 3348, 'befriend': 3349, 'tip': 3350, 'jew': 3351, 'decor': 3352, 'lawrenc': 3353, 'respond': 3354, 'exhibit': 3355, 'bold': 3356, 'incident': 3357, '2007': 3358, 'clint': 3359, 'bradi': 3360, 'dimens': 3361, 'garner': 3362, 'audit': 3363, 'chao': 3364, 'clumsi': 3365, 'voyag': 3366, 'unsettl': 3367, 'rural': 3368, 'carl': 3369, 'abysm': 3370, 'centr': 3371, 'palma': 3372, 'holli': 3373, 'ventur': 3374, 'bargain': 3375, 'acknowledg': 3376, 'cd': 3377, 'neglect': 3378, 'humili': 3379, 'nearbi': 3380, 'trail': 3381, '2nd': 3382, 'timon': 3383, 'echo': 3384, 'cuba': 3385, 'versu': 3386, 'ant': 3387, 'elimin': 3388, 'characterist': 3389, 'poetic': 3390, 'immigr': 3391, 'troop': 3392, 'lit': 3393, 'imperson': 3394, 'wealth': 3395, 'daddi': 3396, 'hart': 3397, 'tiger': 3398, 'cari': 3399, 'mall': 3400, 'paus': 3401, 'jeffrey': 3402, 'saga': 3403, 'domest': 3404, 'infect': 3405, 'mickey': 3406, 'solo': 3407, 'prejudic': 3408, 'celluloid': 3409, 'mistaken': 3410, 'homer': 3411, 'marshal': 3412, 'repuls': 3413, 'pun': 3414, 'collaps': 3415, 'assembl': 3416, 'apolog': 3417, 'coat': 3418, 'equip': 3419, 'olivi': 3420, 'promin': 3421, 'pant': 3422, 'interrupt': 3423, 'leon': 3424, 'inan': 3425, 'cake': 3426, 'hbo': 3427, 'gear': 3428, '1996': 3429, 'milk': 3430, 'undoubtedli': 3431, 'sore': 3432, 'chest': 3433, 'harvey': 3434, 'inappropri': 3435, 'coffe': 3436, 'ginger': 3437, 'tribe': 3438, 'florida': 3439, 'maggi': 3440, 'pot': 3441, 'exot': 3442, 'trace': 3443, 'instant': 3444, 'humbl': 3445, 'primari': 3446, 'colleagu': 3447, 'airplan': 3448, 'institut': 3449, 'highest': 3450, 'colonel': 3451, 'consum': 3452, 'aveng': 3453, 'jenni': 3454, 'retain': 3455, 'brooklyn': 3456, 'furthermor': 3457, 'vulgar': 3458, 'pen': 3459, 'devast': 3460, 'solut': 3461, 'embrac': 3462, 'polanski': 3463, 'sale': 3464, 'seduct': 3465, 'linda': 3466, 'smaller': 3467, 'cope': 3468, '1999': 3469, 'dian': 3470, 'dutch': 3471, 'gender': 3472, 'descend': 3473, 'wive': 3474, 'ya': 3475, '3rd': 3476, 'godzilla': 3477, 'illog': 3478, 'principl': 3479, 'poke': 3480, 'disabl': 3481, 'bowl': 3482, 'strain': 3483, 'outer': 3484, 'rick': 3485, 'devoid': 3486, 'lol': 3487, 'predecessor': 3488, 'bubbl': 3489, 'glamor': 3490, 'blatant': 3491, 'dud': 3492, 'primarili': 3493, 'yard': 3494, 'dive': 3495, 'mixtur': 3496, 'cue': 3497, 'scope': 3498, 'rabbit': 3499, 'beneath': 3500, 'vast': 3501, 'secondli': 3502, 'inferior': 3503, 'hal': 3504, 'gloriou': 3505, 'gundam': 3506, 'alert': 3507, 'shelf': 3508, 'grinch': 3509, 'trademark': 3510, 'myer': 3511, 'countrysid': 3512, 'breed': 3513, 'aggress': 3514, 'museum': 3515, 'arab': 3516, 'senseless': 3517, 'et': 3518, 'disjoint': 3519, 'pearl': 3520, 'invas': 3521, 'domino': 3522, 'april': 3523, 'talki': 3524, 'alfr': 3525, 'streep': 3526, 'garbo': 3527, 'simplist': 3528, 'z': 3529, 'casual': 3530, 'shirley': 3531, 'hideou': 3532, 'obtain': 3533, 'stir': 3534, 'mayor': 3535, 'stack': 3536, 'maci': 3537, 'illeg': 3538, 'defens': 3539, 'disgrac': 3540, 'uwe': 3541, 'hopeless': 3542, 'boom': 3543, 'unhappi': 3544, 'experiment': 3545, 'rendit': 3546, 'stellar': 3547, 'hardcor': 3548, 'robberi': 3549, 'vanish': 3550, 'mail': 3551, 'sh': 3552, 'slide': 3553, 'applaud': 3554, 'acid': 3555, 'khan': 3556, 'loyal': 3557, 'robinson': 3558, 'oz': 3559, 'soccer': 3560, 'fri': 3561, 'dismiss': 3562, 'craze': 3563, 'counter': 3564, 'diana': 3565, 'emphasi': 3566, 'rifl': 3567, 'dicken': 3568, 'grandfath': 3569, 'recruit': 3570, 'declin': 3571, 'incomprehens': 3572, 'blew': 3573, 'tempt': 3574, 'psychic': 3575, 'scroog': 3576, 'wont': 3577, 'span': 3578, 'tenant': 3579, 'spider': 3580, 'hartley': 3581, 'topless': 3582, 'amanda': 3583, 'berlin': 3584, 'revolt': 3585, 'wet': 3586, 'shaw': 3587, 'trashi': 3588, 'intim': 3589, 'sibl': 3590, 'faster': 3591, 'bitch': 3592, 'ration': 3593, 'justin': 3594, 'parad': 3595, 'riot': 3596, 'ethnic': 3597, 'shed': 3598, 'goer': 3599, 'woo': 3600, 'porno': 3601, 'resurrect': 3602, 'niro': 3603, 'lumet': 3604, 'sympath': 3605, 'slick': 3606, 'ballet': 3607, 'nephew': 3608, 'honesti': 3609, '00': 3610, 'partial': 3611, 'hopper': 3612, 'steam': 3613, 'dealer': 3614, 'ensur': 3615, 'eager': 3616, 'commend': 3617, 'gap': 3618, 'weakest': 3619, 'enlighten': 3620, 'wendi': 3621, 'jonathan': 3622, 'farmer': 3623, 'immort': 3624, 'wheel': 3625, 'lena': 3626, 'unreal': 3627, 'biographi': 3628, 'choru': 3629, 'feminist': 3630, 'hesit': 3631, 'patriot': 3632, 'rider': 3633, 'worm': 3634, 'mario': 3635, 'region': 3636, 'andr': 3637, 'sappi': 3638, 'util': 3639, 'composit': 3640, 'mutant': 3641, 'vice': 3642, 'charlott': 3643, 'victori': 3644, 'repress': 3645, 'psychopath': 3646, 'safeti': 3647, 'franco': 3648, 'kingdom': 3649, 'properti': 3650, 'wore': 3651, 'similarli': 3652, 'confin': 3653, 'nostalg': 3654, 'blunt': 3655, 'leo': 3656, 'owen': 3657, 'hung': 3658, 'morri': 3659, 'skull': 3660, 'prequel': 3661, 'snap': 3662, 'sandra': 3663, 'macarthur': 3664, 'thru': 3665, 'snl': 3666, 'cg': 3667, 'bonu': 3668, 'deed': 3669, 'compens': 3670, 'kyle': 3671, 'bumbl': 3672, 'recycl': 3673, 'dust': 3674, 'rocki': 3675, 'repli': 3676, 'latin': 3677, 'rambl': 3678, 'despair': 3679, 'bergman': 3680, 'emperor': 3681, 'drum': 3682, 'strand': 3683, 'drain': 3684, 'montana': 3685, 'bow': 3686, 'campbel': 3687, 'acquir': 3688, 'exit': 3689, 'valuabl': 3690, 'hyde': 3691, 'speci': 3692, 'whoopi': 3693, 'tail': 3694, 'rope': 3695, 'pattern': 3696, '1972': 3697, 'miseri': 3698, 'nervou': 3699, 'tad': 3700, 'dalton': 3701, 'del': 3702, 'compass': 3703, 'heartbreak': 3704, 'farrel': 3705, 'mistress': 3706, 'romp': 3707, 'tonight': 3708, 'pour': 3709, 'rapist': 3710, 'gimmick': 3711, 'wacki': 3712, 'downhil': 3713, 'gal': 3714, 'percept': 3715, '35': 3716, 'slug': 3717, 'rotten': 3718, 'airport': 3719, 'chess': 3720, 'orson': 3721, 'radic': 3722, 'oppress': 3723, 'bleed': 3724, 'carradin': 3725, 'da': 3726, 'olli': 3727, 'contempl': 3728, 'roth': 3729, 'martian': 3730, 'preach': 3731, 'programm': 3732, 'dazzl': 3733, 'attorney': 3734, 'arc': 3735, 'shelley': 3736, 'pervert': 3737, 'pervers': 3738, 'belt': 3739, 'arguabl': 3740, 'taught': 3741, 'pursuit': 3742, 'champion': 3743, 'stilt': 3744, 'melodi': 3745, 'slash': 3746, 'unpredict': 3747, 'heal': 3748, 'mislead': 3749, 'banal': 3750, 'tooth': 3751, 'tackl': 3752, 'edgar': 3753, 'paltrow': 3754, '1983': 3755, 'tiresom': 3756, 'sensat': 3757, 'chicken': 3758, 'orang': 3759, 'uplift': 3760, 'cleverli': 3761, 'duval': 3762, 'bela': 3763, 'dixon': 3764, 'gambl': 3765, 'plight': 3766, 'graham': 3767, 'closest': 3768, 'rubi': 3769, 'maid': 3770, 'vengeanc': 3771, 'mesmer': 3772, 'conneri': 3773, 'marti': 3774, 'raymond': 3775, 'virginia': 3776, 'vocal': 3777, 'employe': 3778, 'passeng': 3779, 'franki': 3780, 'poem': 3781, 'swallow': 3782, 'extens': 3783, 'suffic': 3784, 'bay': 3785, 'quarter': 3786, 'monologu': 3787, 'profan': 3788, 'habit': 3789, 'giggl': 3790, 'paranoia': 3791, 'volum': 3792, 'engross': 3793, 'inject': 3794, 'iran': 3795, 'calm': 3796, 'mute': 3797, 'lundgren': 3798, 'outing': 3799, 'numb': 3800, 'abraham': 3801, 'climact': 3802, 'pokemon': 3803, '1968': 3804, 'amitabh': 3805, 'scottish': 3806, 'convincingli': 3807, 'sirk': 3808, 'crystal': 3809, 'tube': 3810, 'secretli': 3811, 'clone': 3812, 'whine': 3813, 'yawn': 3814, 'gerard': 3815, 'meander': 3816, 'backward': 3817, 'im': 3818, 'septemb': 3819, 'ethan': 3820, 'abort': 3821, 'grotesqu': 3822, 'underst': 3823, 'taxi': 3824, 'dispos': 3825, 'surpass': 3826, 'fed': 3827, 'plod': 3828, 'poetri': 3829, 'lowest': 3830, 'profess': 3831, 'expand': 3832, 'trend': 3833, 'linger': 3834, 'austen': 3835, 'spock': 3836, 'chicago': 3837, 'bend': 3838, 'nichola': 3839, 'richardson': 3840, 'junior': 3841, 'earl': 3842, 'franci': 3843, 'frankenstein': 3844, 'muddl': 3845, 'spoke': 3846, 'simplic': 3847, 'dysfunct': 3848, 'econom': 3849, 'literatur': 3850, 'cannon': 3851, 'nostalgia': 3852, 'compliment': 3853, 'sue': 3854, 'lure': 3855, 'stallon': 3856, 'catchi': 3857, 'tourist': 3858, 'der': 3859, 'myth': 3860, 'descent': 3861, 'household': 3862, 'rubber': 3863, 'eugen': 3864, 'waitress': 3865, 'rant': 3866, 'instrument': 3867, 'hum': 3868, 'mundan': 3869, 'greedi': 3870, 'occupi': 3871, 'phoni': 3872, 'louis': 3873, 'molli': 3874, 'dement': 3875, 'recognit': 3876, 'equival': 3877, 'irrelev': 3878, 'recognis': 3879, 'bacal': 3880, 'mankind': 3881, 'coast': 3882, 'eaten': 3883, 'flee': 3884, 'omen': 3885, 'mortal': 3886, 'firstli': 3887, 'duck': 3888, 'stale': 3889, 'dictat': 3890, 'insur': 3891, 'map': 3892, 'furi': 3893, 'sissi': 3894, 'alongsid': 3895, 'june': 3896, 'phantom': 3897, 'cent': 3898, 'damon': 3899, 'crucial': 3900, 'carel': 3901, 'hello': 3902, 'lang': 3903, 'deaf': 3904, 'randi': 3905, 'distinguish': 3906, 'heel': 3907, 'freez': 3908, 'lengthi': 3909, 'reign': 3910, 'dreari': 3911, 'cyborg': 3912, 'twilight': 3913, 'ashley': 3914, 'bike': 3915, 'damm': 3916, 'grayson': 3917, 'rooney': 3918, '1973': 3919, 'blackmail': 3920, 'rude': 3921, 'labor': 3922, 'loyalti': 3923, 'onlin': 3924, 'newli': 3925, 'wisdom': 3926, 'likewis': 3927, 'antwon': 3928, 'drake': 3929, 'bump': 3930, 'buffalo': 3931, 'biko': 3932, 'daisi': 3933, 'vein': 3934, 'unorigin': 3935, 'butler': 3936, 'pink': 3937, 'exposur': 3938, 'tunnel': 3939, 'boxer': 3940, 'analysi': 3941, 'baddi': 3942, 'basketbal': 3943, 'attribut': 3944, 'worn': 3945, 'chronicl': 3946, 'inher': 3947, 'incorpor': 3948, 'proce': 3949, 'interior': 3950, 'barrymor': 3951, 'ridden': 3952, 'sailor': 3953, 'provoc': 3954, 'emphas': 3955, 'approv': 3956, 'nineti': 3957, 'keith': 3958, 'startl': 3959, 'prey': 3960, 'fleet': 3961, 'undeni': 3962, 'condemn': 3963, 'elm': 3964, 'meg': 3965, 'predat': 3966, 'walsh': 3967, 'substitut': 3968, 'degrad': 3969, 'bunni': 3970, 'barrel': 3971, 'simmon': 3972, 'belushi': 3973, 'hypnot': 3974, 'er': 3975, 'nicol': 3976, 'unrel': 3977, 'robbin': 3978, 'meyer': 3979, 'underli': 3980, 'drift': 3981, 'improvis': 3982, 'millionair': 3983, 'mighti': 3984, 'mormon': 3985, 'indiffer': 3986, 'stalker': 3987, 'julian': 3988, 'carla': 3989, 'othello': 3990, 'nyc': 3991, 'greed': 3992, 'mtv': 3993, 'lampoon': 3994, '3d': 3995, 'warmth': 3996, 'edgi': 3997, 'novak': 3998, 'dolph': 3999, 'palac': 4000, 'alarm': 4001, 'shove': 4002, 'agenda': 4003, 'vital': 4004, 'priceless': 4005, 'firm': 4006, 'unawar': 4007, 'errol': 4008, 'roof': 4009, 'exquisit': 4010, 'disord': 4011, 'alison': 4012, 'rukh': 4013, 'watson': 4014, 'enthusiasm': 4015, 'reid': 4016, 'marion': 4017, 'hay': 4018, 'randomli': 4019, 'thompson': 4020, 'what': 4021, 'iraq': 4022, 'session': 4023, 'zizek': 4024, 'ponder': 4025, 'coup': 4026, 'unleash': 4027, 'crown': 4028, 'glanc': 4029, 'testament': 4030, 'campaign': 4031, 'orlean': 4032, 'showdown': 4033, 'minimum': 4034, 'gestur': 4035, 'pamela': 4036, 'sergeant': 4037, 'spain': 4038, '1933': 4039, 'distort': 4040, 'eastern': 4041, 'peril': 4042, 'petti': 4043, 'israel': 4044, 'angela': 4045, 'nun': 4046, 'drip': 4047, 'peck': 4048, 'beatl': 4049, 'preserv': 4050, 'simultan': 4051, 'cassidi': 4052, 'profit': 4053, '13th': 4054, 'valentin': 4055, 'championship': 4056, 'reson': 4057, 'represent': 4058, 'buster': 4059, 'kurosawa': 4060, 'brenda': 4061, 'jan': 4062, 'quinn': 4063, 'empathi': 4064, 'regist': 4065, 'stroke': 4066, 'bro': 4067, 'rout': 4068, 'cream': 4069, 'contradict': 4070, 'unimagin': 4071, 'mon': 4072, 'han': 4073, 'perpetu': 4074, 'travesti': 4075, 'shootout': 4076, 'exposit': 4077, 'crawl': 4078, 'climat': 4079, 'stake': 4080, '1984': 4081, 'cooki': 4082, 'miyazaki': 4083, 'scotland': 4084, 'restrain': 4085, 'sabrina': 4086, 'gentleman': 4087, 'valley': 4088, 'realm': 4089, 'fido': 4090, 'calib': 4091, 'crow': 4092, 'wig': 4093, 'din': 4094, 'ustinov': 4095, 'abomin': 4096, 'perceiv': 4097, 'passabl': 4098, 'cloud': 4099, 'unseen': 4100, 'delic': 4101, 'josh': 4102, 'pole': 4103, 'dana': 4104, 'geek': 4105, 'pretens': 4106, 'painter': 4107, 'warrant': 4108, 'monoton': 4109, 'businessman': 4110, 'femm': 4111, 'crawford': 4112, 'compromis': 4113, 'wax': 4114, 'baldwin': 4115, 'derang': 4116, 'absent': 4117, 'stargat': 4118, 'shaki': 4119, 'fuller': 4120, 'meryl': 4121, 'greg': 4122, 'traumat': 4123, 'ross': 4124, 'unsatisfi': 4125, 'mclaglen': 4126, '1997': 4127, 'shoddi': 4128, 'tacki': 4129, 'demis': 4130, 'sucker': 4131, 'censor': 4132, 'sammi': 4133, 'spacey': 4134, '1987': 4135, 'distress': 4136, 'darren': 4137, 'soderbergh': 4138, 'fog': 4139, 'dee': 4140, 'exclus': 4141, 'valid': 4142, 'antonioni': 4143, 'deceas': 4144, 'uncov': 4145, 'expedit': 4146, 'tarantino': 4147, 'nathan': 4148, 'reluct': 4149, 'click': 4150, 'clash': 4151, 'tech': 4152, 'deniro': 4153, 'fenc': 4154, 'primit': 4155, 'verbal': 4156, 'correctli': 4157, 'wholli': 4158, 'polici': 4159, 'judgment': 4160, 'accuraci': 4161, 'norm': 4162, 'kumar': 4163, 'unravel': 4164, 'jewel': 4165, 'furiou': 4166, 'seal': 4167, 'anchor': 4168, 'sid': 4169, '1993': 4170, 'austin': 4171, 'sustain': 4172, 'fought': 4173, 'seldom': 4174, 'sunni': 4175, 'fabric': 4176, 'sand': 4177, 'slam': 4178, 'hallucin': 4179, '2008': 4180, 'tax': 4181, 'darn': 4182, '1971': 4183, '1995': 4184, 'trait': 4185, 'enforc': 4186, 'patienc': 4187, 'mode': 4188, 'sheet': 4189, 'clerk': 4190, 'temper': 4191, 'alec': 4192, 'bake': 4193, 'roller': 4194, 'fart': 4195, '3000': 4196, 'nicola': 4197, 'shanghai': 4198, 'behold': 4199, 'murray': 4200, 'vanc': 4201, 'ritual': 4202, 'malon': 4203, 'pocket': 4204, 'logan': 4205, 'wretch': 4206, 'crippl': 4207, 'dreck': 4208, 'joel': 4209, 'conduct': 4210, 'debt': 4211, 'unfair': 4212, 'wang': 4213, 'tactic': 4214, 'helpless': 4215, 'stark': 4216, 'exhaust': 4217, 'preposter': 4218, 'rita': 4219, 'critiqu': 4220, 'preston': 4221, 'robber': 4222, 'penni': 4223, 'grief': 4224, 'schedul': 4225, 'outlin': 4226, 'pete': 4227, 'shell': 4228, 'scriptwrit': 4229, 'squad': 4230, 'technicolor': 4231, 'phil': 4232, 'legaci': 4233, 'fundament': 4234, 'divid': 4235, 'sweep': 4236, 'bias': 4237, 'clau': 4238, 'conscious': 4239, 'isabel': 4240, 'runner': 4241, 'canyon': 4242, 'soup': 4243, 'stuart': 4244, 'guitar': 4245, 'despis': 4246, 'bridget': 4247, 'connor': 4248, 'cigarett': 4249, 'palanc': 4250, 'delv': 4251, 'jodi': 4252, 'agenc': 4253, 'propos': 4254, 'implic': 4255, 'alley': 4256, 'alicia': 4257, 'inabl': 4258, 'liberti': 4259, 'flair': 4260, 'downey': 4261, 'culmin': 4262, 'unexpectedli': 4263, 'invad': 4264, 'drove': 4265, 'restrict': 4266, 'jacket': 4267, 'passag': 4268, 'rear': 4269, 'boyl': 4270, 'vomit': 4271, 'marc': 4272, 'kansa': 4273, 'lacklust': 4274, 'bloom': 4275, 'rehash': 4276, 'russia': 4277, 'sugar': 4278, 'sentinel': 4279, 'consciou': 4280, 'newman': 4281, 'gregori': 4282, 'sniper': 4283, 'lush': 4284, '22': 4285, 'wrench': 4286, 'feat': 4287, 'karl': 4288, 'vet': 4289, 'pale': 4290, 'arrow': 4291, 'behaviour': 4292, 'rampag': 4293, 'tripe': 4294, 'rod': 4295, '1936': 4296, 'rehears': 4297, 'awhil': 4298, 'asylum': 4299, 'chainsaw': 4300, 'horn': 4301, 'bacon': 4302, 'improb': 4303, 'cap': 4304, 'ladder': 4305, 'delet': 4306, 'mccoy': 4307, 'aesthet': 4308, 'tendenc': 4309, 'foxx': 4310, 'yeti': 4311, 'kolchak': 4312, 'sharon': 4313, 'suffici': 4314, 'thunderbird': 4315, 'hulk': 4316, 'coaster': 4317, 'hackney': 4318, 'paradis': 4319, 'filler': 4320, 'conscienc': 4321, 'stream': 4322, 'sung': 4323, 'wagner': 4324, 'prank': 4325, 'rhythm': 4326, 'fright': 4327, 'minu': 4328, 'elit': 4329, 'financ': 4330, 'globe': 4331, 'lurk': 4332, '1988': 4333, 'hungri': 4334, 'suspicion': 4335, '1920': 4336, 'amazon': 4337, '19th': 4338, 'aristocrat': 4339, 'el': 4340, 'loneli': 4341, 'visitor': 4342, 'tomorrow': 4343, 'weav': 4344, 'spice': 4345, '1978': 4346, 'newcom': 4347, 'wildli': 4348, 'basing': 4349, 'underneath': 4350, 'shortcom': 4351, 'rumor': 4352, 'scoop': 4353, 'tasteless': 4354, 'paramount': 4355, 'paxton': 4356, '1989': 4357, 'heist': 4358, 'hopkin': 4359, 'recogniz': 4360, 'atroc': 4361, 'worship': 4362, 'standout': 4363, 'teas': 4364, 'smell': 4365, 'immers': 4366, 'counterpart': 4367, 'bread': 4368, 'chavez': 4369, 'posey': 4370, 'literari': 4371, 'tierney': 4372, 'beverli': 4373, 'rub': 4374, 'iv': 4375, 'curli': 4376, 'lectur': 4377, 'brit': 4378, 'choppi': 4379, 'ingeni': 4380, '75': 4381, 'dirt': 4382, 'secondari': 4383, 'penn': 4384, 'ram': 4385, 'grudg': 4386, 'straightforward': 4387, 'abrupt': 4388, 'quietli': 4389, 'chamberlain': 4390, 'springer': 4391, 'entranc': 4392, 'couch': 4393, 'naughti': 4394, 'leigh': 4395, 'impos': 4396, 'cancer': 4397, 'en': 4398, '1939': 4399, 'minist': 4400, 'inmat': 4401, 'wwe': 4402, 'bernard': 4403, 'heartfelt': 4404, 'laurenc': 4405, 'policeman': 4406, 'missil': 4407, 'injuri': 4408, 'skeptic': 4409, 'transcend': 4410, 'sublim': 4411, 'variat': 4412, 'clan': 4413, 'duel': 4414, 'morbid': 4415, 'convert': 4416, 'enthral': 4417, 'misguid': 4418, 'quaid': 4419, '1986': 4420, 'sassi': 4421, 'watcher': 4422, 'net': 4423, 'entitl': 4424, 'moreov': 4425, 'lindsay': 4426, 'esther': 4427, 'nemesi': 4428, 'attenborough': 4429, 'yearn': 4430, 'cattl': 4431, 'ace': 4432, 'ratso': 4433, 'nolan': 4434, 'geni': 4435, 'hopelessli': 4436, 'youngest': 4437, 'tyler': 4438, 'grin': 4439, 'facil': 4440, 'graini': 4441, 'reliabl': 4442, 'moder': 4443, 'uncut': 4444, 'enabl': 4445, 'diari': 4446, 'buzz': 4447, 'characteris': 4448, '1979': 4449, 'bye': 4450, 'hk': 4451, 'cruelti': 4452, 'setup': 4453, 'dont': 4454, 'out': 4455, 'rosemari': 4456, 'kitti': 4457, 'artsi': 4458, 'unexplain': 4459, 'mytholog': 4460, 'carlito': 4461, 'steadi': 4462, 'spiral': 4463, 'brood': 4464, 'poe': 4465, 'bean': 4466, 'obstacl': 4467, 'egg': 4468, 'vader': 4469, 'kidman': 4470, 'puppi': 4471, 'fuel': 4472, 'christin': 4473, 'decept': 4474, 'athlet': 4475, 'hammi': 4476, 'heap': 4477, 'sweat': 4478, 'patricia': 4479, 'niec': 4480, 'spontan': 4481, 'baffl': 4482, 'preming': 4483, 'bewar': 4484, 'bounc': 4485, 'effici': 4486, 'acquaint': 4487, 'disastr': 4488, 'despic': 4489, 'oblig': 4490, 'gillian': 4491, 'underworld': 4492, 'clueless': 4493, 'narrow': 4494, 'gina': 4495, 'exterior': 4496, 'brendan': 4497, 'hain': 4498, 'kline': 4499, 'weather': 4500, '1969': 4501, 'bronson': 4502, 'martha': 4503, 'outlaw': 4504, 'uh': 4505, 'lester': 4506, 'suprem': 4507, 'loi': 4508, 'astound': 4509, 'enlist': 4510, 'mayhem': 4511, 'loath': 4512, 'injur': 4513, 'analyz': 4514, 'scar': 4515, 'trigger': 4516, 'sleepwalk': 4517, 'shatter': 4518, 'rome': 4519, 'housewif': 4520, 'biker': 4521, 'preachi': 4522, 'headach': 4523, 'sooner': 4524, 'mermaid': 4525, 'virtu': 4526, '19': 4527, 'viewpoint': 4528, 'dilemma': 4529, 'angst': 4530, 'goof': 4531, 'harmless': 4532, 'insipid': 4533, 'candl': 4534, 'circu': 4535, '73': 4536, 'tick': 4537, 'taboo': 4538, 'dandi': 4539, 'hepburn': 4540, 'fontain': 4541, 'renaiss': 4542, 'macho': 4543, 'idol': 4544, 'amor': 4545, 'slimi': 4546, 'dismal': 4547, 'claustrophob': 4548, 'stair': 4549, 'whore': 4550, 'foolish': 4551, 'oldest': 4552, 'phenomenon': 4553, 'hostag': 4554, 'intric': 4555, 'contempt': 4556, 'tripl': 4557, 'bent': 4558, 'redund': 4559, 'dish': 4560, 'stimul': 4561, 'hooker': 4562, 'overlong': 4563, 'filth': 4564, 'camcord': 4565, 'fluff': 4566, 'guin': 4567, 'ebert': 4568, 'hokey': 4569, 'scorses': 4570, 'salt': 4571, 'immatur': 4572, 'gere': 4573, 'spade': 4574, 'zoom': 4575, 'glorifi': 4576, 'sox': 4577, 'ariel': 4578, 'corbett': 4579, 'surgeri': 4580, 'steer': 4581, 'cassavet': 4582, 'boston': 4583, 'shield': 4584, '1976': 4585, 'cush': 4586, 'down': 4587, '1981': 4588, 'nolt': 4589, 'muscl': 4590, 'alvin': 4591, 'mount': 4592, 'schlock': 4593, 'cow': 4594, 'mutual': 4595, 'shred': 4596, 'antagonist': 4597, 'assert': 4598, 'strongest': 4599, 'flashi': 4600, 'spree': 4601, 'gabl': 4602, 'proport': 4603, 'dwarf': 4604, 'beard': 4605, 'remad': 4606, 'naschi': 4607, 'trivia': 4608, 'obligatori': 4609, 'astronaut': 4610, 'fascist': 4611, 'margin': 4612, 'perman': 4613, 'corman': 4614, 'flag': 4615, 'frantic': 4616, 'harold': 4617, 'faint': 4618, 'gasp': 4619, 'cohen': 4620, 'widescreen': 4621, 'flirt': 4622, 'joker': 4623, 'messi': 4624, 'keen': 4625, 'preced': 4626, 'rhyme': 4627, 'transplant': 4628, 'radiat': 4629, 'spinal': 4630, 'conquer': 4631, 'zane': 4632, 'someday': 4633, 'claud': 4634, 'off': 4635, '95': 4636, 'repris': 4637, 'resum': 4638, 'instruct': 4639, 'triangl': 4640, 'departur': 4641, 'scandal': 4642, 'barn': 4643, 'bitten': 4644, 'wield': 4645, '1945': 4646, 'brush': 4647, 'archiv': 4648, 'info': 4649, 'divin': 4650, 'deer': 4651, 'inflict': 4652, 'strive': 4653, 'bachelor': 4654, 'ritchi': 4655, 'sensual': 4656, '28': 4657, 'vaniti': 4658, 'discern': 4659, 'www': 4660, 'persuad': 4661, 'neurot': 4662, 'fishburn': 4663, 'mol': 4664, 'flock': 4665, 'interestingli': 4666, 'mobil': 4667, 'danish': 4668, 'hara': 4669, 'raj': 4670, 'boob': 4671, 'carey': 4672, 'aborigin': 4673, 'submit': 4674, 'casino': 4675, 'recit': 4676, 'undermin': 4677, 'loretta': 4678, 'prophet': 4679, 'artwork': 4680, 'cycl': 4681, 'vibrant': 4682, 'harrison': 4683, 'dim': 4684, 'proclaim': 4685, 'cliffhang': 4686, 'banter': 4687, 'hilar': 4688, 'axe': 4689, 'earnest': 4690, 'senior': 4691, 'melissa': 4692, 'carlo': 4693, 'hug': 4694, 'cher': 4695, 'pacif': 4696, 'dylan': 4697, 'cb': 4698, 'clad': 4699, 'helm': 4700, 'hapless': 4701, 'wendigo': 4702, 'mobster': 4703, 'neill': 4704, 'dame': 4705, 'jade': 4706, 'frontier': 4707, 'luka': 4708, 'pixar': 4709, 'heartwarm': 4710, 'bate': 4711, 'rot': 4712, 'biblic': 4713, 'traffic': 4714, 'parson': 4715, 'timberlak': 4716, 'ish': 4717, 'miracul': 4718, 'anton': 4719, 'fragil': 4720, 'europa': 4721, 'kathryn': 4722, 'colin': 4723, 'pickford': 4724, 'nope': 4725, 'antholog': 4726, 'cerebr': 4727, 'toronto': 4728, 'redneck': 4729, 'vile': 4730, 'illus': 4731, 'lui': 4732, 'jo': 4733, 'legitim': 4734, 'razor': 4735, 'pc': 4736, 'misfortun': 4737, 'blatantli': 4738, 'foil': 4739, 'shepherd': 4740, 'rooki': 4741, 'mason': 4742, 'token': 4743, 'electron': 4744, 'bikini': 4745, 'aris': 4746, 'choke': 4747, 'seedi': 4748, 'akin': 4749, 'holocaust': 4750, 'flavor': 4751, 'isra': 4752, 'http': 4753, 'milo': 4754, 'alexandr': 4755, 'sicken': 4756, 'static': 4757, 'northern': 4758, 'jordan': 4759, 'lucil': 4760, 'bondag': 4761, 'eli': 4762, 'marlon': 4763, 'winchest': 4764, 'breakfast': 4765, 'orphan': 4766, 'venom': 4767, 'articl': 4768, 'wardrob': 4769, 'feast': 4770, 'uma': 4771, 'trier': 4772, 'estrang': 4773, 'vanessa': 4774, 'mathieu': 4775, 'huston': 4776, 'peer': 4777, 'clinic': 4778, 'cartoonish': 4779, 'abund': 4780, 'howl': 4781, 'deem': 4782, 'ideolog': 4783, 'feminin': 4784, 'charlton': 4785, 'boyer': 4786, 'shorter': 4787, 'swept': 4788, 'smack': 4789, 'styliz': 4790, 'affleck': 4791, 'leather': 4792, 'glare': 4793, 'disregard': 4794, 'comprehend': 4795, 'tack': 4796, 'nightclub': 4797, 'fifth': 4798, 'dudley': 4799, 'audrey': 4800, 'frog': 4801, 'retriev': 4802, 'highway': 4803, 'knightley': 4804, 'oppon': 4805, 'outdat': 4806, 'psych': 4807, 'ceremoni': 4808, 'gilbert': 4809, 'wrestler': 4810, 'gunga': 4811, 'linear': 4812, 'magician': 4813, 'turd': 4814, 'lifeless': 4815, 'durat': 4816, 'toe': 4817, 'newer': 4818, 'potter': 4819, 'snatch': 4820, 'spawn': 4821, 'boo': 4822, 'senat': 4823, 'greet': 4824, 'deliver': 4825, 'btw': 4826, 'cemeteri': 4827, 'sleaz': 4828, 'bogu': 4829, 'moe': 4830, 'breakdown': 4831, 'energet': 4832, 'summar': 4833, 'phenomen': 4834, 'evolut': 4835, 'whack': 4836, 'spine': 4837, 'chip': 4838, 'lavish': 4839, 'lighter': 4840, 'goldsworthi': 4841, '4th': 4842, 'uniformli': 4843, 'mitch': 4844, 'bastard': 4845, '1991': 4846, 'collector': 4847, 'client': 4848, 'tara': 4849, 'corn': 4850, 'einstein': 4851, 'braveheart': 4852, 'compris': 4853, 'monument': 4854, '1994': 4855, 'cuban': 4856, 'plate': 4857, 'salman': 4858, 'conrad': 4859, 'constitut': 4860, 'historian': 4861, 'kent': 4862, 'lex': 4863, 'neatli': 4864, 'nina': 4865, 'embark': 4866, 'undead': 4867, 'outright': 4868, 'jedi': 4869, 'spectacl': 4870, 'kazan': 4871, '1974': 4872, 'creek': 4873, 'bulk': 4874, 'judd': 4875, 'firmli': 4876, 'cecil': 4877, 'signal': 4878, 'ol': 4879, 'gilliam': 4880, 'fluid': 4881, 'armstrong': 4882, 'undertak': 4883, 'trauma': 4884, 'occup': 4885, 'liu': 4886, 'jare': 4887, 'replay': 4888, 'jam': 4889, 'clara': 4890, 'belli': 4891, 'healthi': 4892, 'inaccuraci': 4893, 'eleven': 4894, 'ie': 4895, 'luxuri': 4896, 'sorrow': 4897, '1977': 4898, 'alleg': 4899, 'pronounc': 4900, 'mcqueen': 4901, 'wtf': 4902, 'capot': 4903, 'appl': 4904, 'bori': 4905, 'randolph': 4906, 'jule': 4907, 'evelyn': 4908, 'rosario': 4909, 'conan': 4910, 'miami': 4911, 'mum': 4912, 'id': 4913, 'groan': 4914, 'palm': 4915, 'pepper': 4916, 'forgiven': 4917, 'lauren': 4918, 'genet': 4919, 'pioneer': 4920, 'galaxi': 4921, 'congratul': 4922, 'propheci': 4923, 'unsuspect': 4924, 'unattract': 4925, 'fruit': 4926, 'kiddi': 4927, 'lanc': 4928, 'poker': 4929, 'comprehens': 4930, 'abound': 4931, 'walt': 4932, 'knee': 4933, 'cape': 4934, 'roar': 4935, 'spray': 4936, 'paula': 4937, 'vain': 4938, 'vignett': 4939, 'blur': 4940, 'tokyo': 4941, 'inaccur': 4942, 'bsg': 4943, 'meal': 4944, '1985': 4945, 'ash': 4946, 'inclus': 4947, 'decapit': 4948, 'sidewalk': 4949, 'bait': 4950, 'porter': 4951, 'subtli': 4952, 'miniseri': 4953, 'relentless': 4954, 'carmen': 4955, 'antonio': 4956, 'basket': 4957, 'sacrif': 4958, 'truman': 4959, 'aussi': 4960, 'curtain': 4961, 'comb': 4962, 'goldblum': 4963, 'dubiou': 4964, 'verg': 4965, 'handicap': 4966, 'asset': 4967, 'cypher': 4968, 'rapidli': 4969, 'growth': 4970, 'masterson': 4971, 'vastli': 4972, 'ingrid': 4973, 'victorian': 4974, 'sparkl': 4975, 'hackman': 4976, 'weari': 4977, 'substanti': 4978, 'mice': 4979, 'jill': 4980, 'optimist': 4981, 'weaker': 4982, 'evan': 4983, 'motorcycl': 4984, 'assort': 4985, 'omin': 4986, 'turtl': 4987, 'incorrect': 4988, 'epitom': 4989, 'hostil': 4990, 'ghetto': 4991, 'reincarn': 4992, 'sophi': 4993, 'modest': 4994, 'bach': 4995, 'scariest': 4996, 'frontal': 4997, 'monti': 4998, 'playboy': 4999}\n"
     ]
    }
   ],
   "source": [
    "word_dict = build_dict(train_X)\n",
    "print(word_dict)"
   ]
  },
  {
   "cell_type": "markdown",
   "metadata": {},
   "source": [
    "**Question:** What are the five most frequently appearing (tokenized) words in the training set? Does it makes sense that these words appear frequently in the training set?"
   ]
  },
  {
   "cell_type": "markdown",
   "metadata": {},
   "source": [
    "**Answer:** movi, film, one, like, time"
   ]
  },
  {
   "cell_type": "code",
   "execution_count": 18,
   "metadata": {},
   "outputs": [
    {
     "name": "stdout",
     "output_type": "stream",
     "text": [
      "<class 'dict'>\n"
     ]
    },
    {
     "data": {
      "text/plain": [
       "['movi', 'film', 'one', 'like', 'time']"
      ]
     },
     "execution_count": 18,
     "metadata": {},
     "output_type": "execute_result"
    }
   ],
   "source": [
    "# TODO: Use this space to determine the five most frequently appearing words in the training set.\n",
    "#print(take(5, word_dict))\n",
    "#TODO revisit this\n",
    "#word_count = {}\n",
    "#for sentns in train_X:\n",
    " #   for wrd in sentns:\n",
    "  #      word_count[wrd] = word_count.get(wrd, 0) +1    \n",
    "   # sorted_dict = sorted(word_count.items(), key=lambda x: x[1], reverse=True)\n",
    "#print(sorted_dict[0:5])\n",
    "#TODO may not be right solution, dict has no ordering \n",
    "print(type(word_dict))\n",
    "list(word_dict)[0:5]"
   ]
  },
  {
   "cell_type": "markdown",
   "metadata": {},
   "source": [
    "### Save `word_dict`\n",
    "\n",
    "Later on when we construct an endpoint which processes a submitted review we will need to make use of the `word_dict` which we have created. As such, we will save it to a file now for future use."
   ]
  },
  {
   "cell_type": "code",
   "execution_count": 19,
   "metadata": {},
   "outputs": [],
   "source": [
    "data_dir = '../data/pytorch' # The folder we will use for storing data\n",
    "if not os.path.exists(data_dir): # Make sure that the folder exists\n",
    "    os.makedirs(data_dir)"
   ]
  },
  {
   "cell_type": "code",
   "execution_count": 20,
   "metadata": {},
   "outputs": [],
   "source": [
    "with open(os.path.join(data_dir, 'word_dict.pkl'), \"wb\") as f:\n",
    "    pickle.dump(word_dict, f)"
   ]
  },
  {
   "cell_type": "markdown",
   "metadata": {},
   "source": [
    "### Transform the reviews\n",
    "\n",
    "Now that we have our word dictionary which allows us to transform the words appearing in the reviews into integers, it is time to make use of it and convert our reviews to their integer sequence representation, making sure to pad or truncate to a fixed length, which in our case is `500`."
   ]
  },
  {
   "cell_type": "code",
   "execution_count": 21,
   "metadata": {},
   "outputs": [],
   "source": [
    "def convert_and_pad(word_dict, sentence, pad=500):\n",
    "    NOWORD = 0 # We will use 0 to represent the 'no word' category\n",
    "    INFREQ = 1 # and we use 1 to represent the infrequent words, i.e., words not appearing in word_dict\n",
    "    \n",
    "    working_sentence = [NOWORD] * pad\n",
    "    \n",
    "    for word_index, word in enumerate(sentence[:pad]):\n",
    "        if word in word_dict:\n",
    "            working_sentence[word_index] = word_dict[word]\n",
    "        else:\n",
    "            working_sentence[word_index] = INFREQ\n",
    "            \n",
    "    return working_sentence, min(len(sentence), pad)\n",
    "\n",
    "def convert_and_pad_data(word_dict, data, pad=500):\n",
    "    result = []\n",
    "    lengths = []\n",
    "    \n",
    "    for sentence in data:\n",
    "        converted, leng = convert_and_pad(word_dict, sentence, pad)\n",
    "        result.append(converted)\n",
    "        lengths.append(leng)\n",
    "        \n",
    "    return np.array(result), np.array(lengths)"
   ]
  },
  {
   "cell_type": "code",
   "execution_count": 22,
   "metadata": {},
   "outputs": [],
   "source": [
    "train_X, train_X_len = convert_and_pad_data(word_dict, train_X)\n",
    "test_X, test_X_len = convert_and_pad_data(word_dict, test_X)"
   ]
  },
  {
   "cell_type": "markdown",
   "metadata": {},
   "source": [
    "As a quick check to make sure that things are working as intended, check to see what one of the reviews in the training set looks like after having been processeed. Does this look reasonable? What is the length of a review in the training set?"
   ]
  },
  {
   "cell_type": "code",
   "execution_count": 26,
   "metadata": {},
   "outputs": [
    {
     "name": "stdout",
     "output_type": "stream",
     "text": [
      "63\n",
      "[ 634  555    2  447  788   17  447  179   17 1258    4  788  570 1832\n",
      "  291 1533    1   38  141   93 1211   62   10  312  269    5  201    1\n",
      "  234 1032   13 1084   17 1102   36 1187   12  266    2   63  749  135\n",
      "  723  835    1    4  723    1 1338    1   46  560   18  620   21 1489\n",
      " 2534   48 1806  439  170  267  521    0    0    0    0    0    0    0\n",
      "    0    0    0    0    0    0    0    0    0    0    0    0    0    0\n",
      "    0    0    0    0    0    0    0    0    0    0    0    0    0    0\n",
      "    0    0    0    0    0    0    0    0    0    0    0    0    0    0\n",
      "    0    0    0    0    0    0    0    0    0    0    0    0    0    0\n",
      "    0    0    0    0    0    0    0    0    0    0    0    0    0    0\n",
      "    0    0    0    0    0    0    0    0    0    0    0    0    0    0\n",
      "    0    0    0    0    0    0    0    0    0    0    0    0    0    0\n",
      "    0    0    0    0    0    0    0    0    0    0    0    0    0    0\n",
      "    0    0    0    0    0    0    0    0    0    0    0    0    0    0\n",
      "    0    0    0    0    0    0    0    0    0    0    0    0    0    0\n",
      "    0    0    0    0    0    0    0    0    0    0    0    0    0    0\n",
      "    0    0    0    0    0    0    0    0    0    0    0    0    0    0\n",
      "    0    0    0    0    0    0    0    0    0    0    0    0    0    0\n",
      "    0    0    0    0    0    0    0    0    0    0    0    0    0    0\n",
      "    0    0    0    0    0    0    0    0    0    0    0    0    0    0\n",
      "    0    0    0    0    0    0    0    0    0    0    0    0    0    0\n",
      "    0    0    0    0    0    0    0    0    0    0    0    0    0    0\n",
      "    0    0    0    0    0    0    0    0    0    0    0    0    0    0\n",
      "    0    0    0    0    0    0    0    0    0    0    0    0    0    0\n",
      "    0    0    0    0    0    0    0    0    0    0    0    0    0    0\n",
      "    0    0    0    0    0    0    0    0    0    0    0    0    0    0\n",
      "    0    0    0    0    0    0    0    0    0    0    0    0    0    0\n",
      "    0    0    0    0    0    0    0    0    0    0    0    0    0    0\n",
      "    0    0    0    0    0    0    0    0    0    0    0    0    0    0\n",
      "    0    0    0    0    0    0    0    0    0    0    0    0    0    0\n",
      "    0    0    0    0    0    0    0    0    0    0    0    0    0    0\n",
      "    0    0    0    0    0    0    0    0    0    0    0    0    0    0\n",
      "    0    0    0    0    0    0    0    0    0    0    0    0    0    0\n",
      "    0    0    0    0    0    0    0    0    0    0    0    0    0    0\n",
      "    0    0    0    0    0    0    0    0    0    0    0    0    0    0\n",
      "    0    0    0    0    0    0    0    0    0    0]\n",
      "train length--- [157 120  70 ...  54 309 214]\n",
      "test length--- [169  52  65 ...  48 214 406]\n"
     ]
    }
   ],
   "source": [
    "# Use this cell to examine one of the processed reviews to make sure everything is working as intended.\n",
    "print(train_X_len[10])\n",
    "print(train_X[10])\n"
   ]
  },
  {
   "cell_type": "markdown",
   "metadata": {},
   "source": [
    "**Question:** In the cells above we use the `preprocess_data` and `convert_and_pad_data` methods to process both the training and testing set. Why or why not might this be a problem?"
   ]
  },
  {
   "cell_type": "markdown",
   "metadata": {},
   "source": [
    "**Answer:** :TODO"
   ]
  },
  {
   "cell_type": "markdown",
   "metadata": {},
   "source": [
    "## Step 3: Upload the data to S3\n",
    "\n",
    "As in the XGBoost notebook, we will need to upload the training dataset to S3 in order for our training code to access it. For now we will save it locally and we will upload to S3 later on.\n",
    "\n",
    "### Save the processed training dataset locally\n",
    "\n",
    "It is important to note the format of the data that we are saving as we will need to know it when we write the training code. In our case, each row of the dataset has the form `label`, `length`, `review[500]` where `review[500]` is a sequence of `500` integers representing the words in the review."
   ]
  },
  {
   "cell_type": "code",
   "execution_count": 27,
   "metadata": {},
   "outputs": [],
   "source": [
    "import pandas as pd\n",
    "    \n",
    "pd.concat([pd.DataFrame(train_y), pd.DataFrame(train_X_len), pd.DataFrame(train_X)], axis=1) \\\n",
    "        .to_csv(os.path.join(data_dir, 'train.csv'), header=False, index=False)"
   ]
  },
  {
   "cell_type": "markdown",
   "metadata": {},
   "source": [
    "### Uploading the training data\n",
    "\n",
    "\n",
    "Next, we need to upload the training data to the SageMaker default S3 bucket so that we can provide access to it while training our model."
   ]
  },
  {
   "cell_type": "code",
   "execution_count": 28,
   "metadata": {},
   "outputs": [],
   "source": [
    "import sagemaker\n",
    "\n",
    "sagemaker_session = sagemaker.Session()\n",
    "\n",
    "bucket = sagemaker_session.default_bucket()\n",
    "prefix = 'sagemaker/sentiment_rnn'\n",
    "\n",
    "role = sagemaker.get_execution_role()"
   ]
  },
  {
   "cell_type": "code",
   "execution_count": 29,
   "metadata": {},
   "outputs": [],
   "source": [
    "input_data = sagemaker_session.upload_data(path=data_dir, bucket=bucket, key_prefix=prefix)\n"
   ]
  },
  {
   "cell_type": "code",
   "execution_count": 30,
   "metadata": {},
   "outputs": [
    {
     "data": {
      "text/plain": [
       "str"
      ]
     },
     "execution_count": 30,
     "metadata": {},
     "output_type": "execute_result"
    }
   ],
   "source": [
    "type(input_data)"
   ]
  },
  {
   "cell_type": "markdown",
   "metadata": {},
   "source": [
    "**NOTE:** The cell above uploads the entire contents of our data directory. This includes the `word_dict.pkl` file. This is fortunate as we will need this later on when we create an endpoint that accepts an arbitrary review. For now, we will just take note of the fact that it resides in the data directory (and so also in the S3 training bucket) and that we will need to make sure it gets saved in the model directory."
   ]
  },
  {
   "cell_type": "markdown",
   "metadata": {},
   "source": [
    "## Step 4: Build and Train the PyTorch Model\n",
    "\n",
    "In the XGBoost notebook we discussed what a model is in the SageMaker framework. In particular, a model comprises three objects\n",
    "\n",
    " - Model Artifacts,\n",
    " - Training Code, and\n",
    " - Inference Code,\n",
    " \n",
    "each of which interact with one another. In the XGBoost example we used training and inference code that was provided by Amazon. Here we will still be using containers provided by Amazon with the added benefit of being able to include our own custom code.\n",
    "\n",
    "We will start by implementing our own neural network in PyTorch along with a training script. For the purposes of this project we have provided the necessary model object in the `model.py` file, inside of the `train` folder. You can see the provided implementation by running the cell below."
   ]
  },
  {
   "cell_type": "code",
   "execution_count": 80,
   "metadata": {},
   "outputs": [
    {
     "name": "stdout",
     "output_type": "stream",
     "text": [
      "\u001b[34mimport\u001b[39;49;00m \u001b[04m\u001b[36mtorch.nn\u001b[39;49;00m \u001b[34mas\u001b[39;49;00m \u001b[04m\u001b[36mnn\u001b[39;49;00m\r\n",
      "\r\n",
      "\u001b[34mclass\u001b[39;49;00m \u001b[04m\u001b[32mLSTMClassifier\u001b[39;49;00m(nn.Module):\r\n",
      "    \u001b[33m\"\"\"\u001b[39;49;00m\r\n",
      "\u001b[33m    This is the simple RNN model we will be using to perform Sentiment Analysis.\u001b[39;49;00m\r\n",
      "\u001b[33m    \"\"\"\u001b[39;49;00m\r\n",
      "\r\n",
      "    \u001b[34mdef\u001b[39;49;00m \u001b[32m__init__\u001b[39;49;00m(\u001b[36mself\u001b[39;49;00m, embedding_dim, hidden_dim, vocab_size):\r\n",
      "        \u001b[33m\"\"\"\u001b[39;49;00m\r\n",
      "\u001b[33m        Initialize the model by settingg up the various layers.\u001b[39;49;00m\r\n",
      "\u001b[33m        \"\"\"\u001b[39;49;00m\r\n",
      "        \u001b[36msuper\u001b[39;49;00m(LSTMClassifier, \u001b[36mself\u001b[39;49;00m).\u001b[32m__init__\u001b[39;49;00m()\r\n",
      "\r\n",
      "        \u001b[36mself\u001b[39;49;00m.embedding = nn.Embedding(vocab_size, embedding_dim, padding_idx=\u001b[34m0\u001b[39;49;00m)\r\n",
      "        \u001b[36mself\u001b[39;49;00m.lstm = nn.LSTM(embedding_dim, hidden_dim)\r\n",
      "        \u001b[36mself\u001b[39;49;00m.dense = nn.Linear(in_features=hidden_dim, out_features=\u001b[34m1\u001b[39;49;00m)\r\n",
      "        \u001b[36mself\u001b[39;49;00m.sig = nn.Sigmoid()\r\n",
      "        \r\n",
      "        \u001b[36mself\u001b[39;49;00m.word_dict = \u001b[36mNone\u001b[39;49;00m\r\n",
      "\r\n",
      "    \u001b[34mdef\u001b[39;49;00m \u001b[32mforward\u001b[39;49;00m(\u001b[36mself\u001b[39;49;00m, x):\r\n",
      "        \u001b[33m\"\"\"\u001b[39;49;00m\r\n",
      "\u001b[33m        Perform a forward pass of our model on some input.\u001b[39;49;00m\r\n",
      "\u001b[33m        \"\"\"\u001b[39;49;00m\r\n",
      "        x = x.t()\r\n",
      "        lengths = x[\u001b[34m0\u001b[39;49;00m,:]\r\n",
      "        reviews = x[\u001b[34m1\u001b[39;49;00m:,:]\r\n",
      "        embeds = \u001b[36mself\u001b[39;49;00m.embedding(reviews)\r\n",
      "        lstm_out, _ = \u001b[36mself\u001b[39;49;00m.lstm(embeds)\r\n",
      "        out = \u001b[36mself\u001b[39;49;00m.dense(lstm_out)\r\n",
      "        out = out[lengths - \u001b[34m1\u001b[39;49;00m, \u001b[36mrange\u001b[39;49;00m(\u001b[36mlen\u001b[39;49;00m(lengths))]\r\n",
      "        \u001b[34mreturn\u001b[39;49;00m \u001b[36mself\u001b[39;49;00m.sig(out.squeeze())\r\n"
     ]
    }
   ],
   "source": [
    "!pygmentize train/model.py"
   ]
  },
  {
   "cell_type": "markdown",
   "metadata": {},
   "source": [
    "The important takeaway from the implementation provided is that there are three parameters that we may wish to tweak to improve the performance of our model. These are the embedding dimension, the hidden dimension and the size of the vocabulary. We will likely want to make these parameters configurable in the training script so that if we wish to modify them we do not need to modify the script itself. We will see how to do this later on. To start we will write some of the training code in the notebook so that we can more easily diagnose any issues that arise.\n",
    "\n",
    "First we will load a small portion of the training data set to use as a sample. It would be very time consuming to try and train the model completely in the notebook as we do not have access to a gpu and the compute instance that we are using is not particularly powerful. However, we can work on a small bit of the data to get a feel for how our training script is behaving."
   ]
  },
  {
   "cell_type": "code",
   "execution_count": 31,
   "metadata": {},
   "outputs": [],
   "source": [
    "import torch\n",
    "import torch.utils.data\n",
    "\n",
    "# Read in only the first 250 rows\n",
    "train_sample = pd.read_csv(os.path.join(data_dir, 'train.csv'), header=None, names=None, nrows=250)\n",
    "\n",
    "# Turn the input pandas dataframe into tensors\n",
    "train_sample_y = torch.from_numpy(train_sample[[0]].values).float().squeeze()\n",
    "train_sample_X = torch.from_numpy(train_sample.drop([0], axis=1).values).long()\n",
    "\n",
    "# Build the dataset\n",
    "train_sample_ds = torch.utils.data.TensorDataset(train_sample_X, train_sample_y)\n",
    "# Build the dataloader\n",
    "train_sample_dl = torch.utils.data.DataLoader(train_sample_ds, batch_size=50)"
   ]
  },
  {
   "cell_type": "markdown",
   "metadata": {},
   "source": [
    "### (TODO) (DONE) Writing the training method\n",
    "\n",
    "Next we need to write the training code itself. This should be very similar to training methods that you have written before to train PyTorch models. We will leave any difficult aspects such as model saving / loading and parameter loading until a little later."
   ]
  },
  {
   "cell_type": "code",
   "execution_count": 32,
   "metadata": {},
   "outputs": [],
   "source": [
    "def train(model, train_loader, epochs, optimizer, loss_fn, device):\n",
    "    for epoch in range(1, epochs + 1):\n",
    "        model.train()\n",
    "        total_loss = 0\n",
    "        for batch in train_loader:         \n",
    "            batch_X, batch_y = batch\n",
    "            \n",
    "            batch_X = batch_X.to(device)\n",
    "            batch_y = batch_y.to(device)\n",
    "            \n",
    "            # TODO: Complete this train method to train the model provided.\n",
    "            optimizer.zero_grad()\n",
    "            outputs = model.forward(batch_X)\n",
    "            loss = loss_fn(outputs, batch_y)\n",
    "            loss.backward()  \n",
    "            optimizer.step()\n",
    "            \n",
    "            total_loss += loss.data.item()\n",
    "        if(epoch % 5 == 0):\n",
    "            print(\"Epoch: {}, BCELoss: {}\".format(epoch, total_loss / len(train_loader)))"
   ]
  },
  {
   "cell_type": "markdown",
   "metadata": {},
   "source": [
    "Supposing we have the training method above, we will test that it is working by writing a bit of code in the notebook that executes our training method on the small sample training set that we loaded earlier. The reason for doing this in the notebook is so that we have an opportunity to fix any errors that arise early when they are easier to diagnose."
   ]
  },
  {
   "cell_type": "code",
   "execution_count": 33,
   "metadata": {},
   "outputs": [
    {
     "name": "stdout",
     "output_type": "stream",
     "text": [
      "Epoch: 5, BCELoss: 0.6507640242576599\n",
      "Epoch: 10, BCELoss: 0.46127285361289977\n",
      "Epoch: 15, BCELoss: 0.25541133880615235\n",
      "Epoch: 20, BCELoss: 0.16969053000211715\n"
     ]
    }
   ],
   "source": [
    "import torch.optim as optim\n",
    "from train.model import LSTMClassifier\n",
    "\n",
    "device = torch.device(\"cuda\" if torch.cuda.is_available() else \"cpu\")\n",
    "model = LSTMClassifier(32, 100, 5000).to(device)\n",
    "optimizer = optim.Adam(model.parameters())\n",
    "loss_fn = torch.nn.BCELoss()\n",
    "\n",
    "train(model, train_sample_dl, 20, optimizer, loss_fn, device)"
   ]
  },
  {
   "cell_type": "markdown",
   "metadata": {},
   "source": [
    "In order to construct a PyTorch model using SageMaker we must provide SageMaker with a training script. We may optionally include a directory which will be copied to the container and from which our training code will be run. When the training container is executed it will check the uploaded directory (if there is one) for a `requirements.txt` file and install any required Python libraries, after which the training script will be run."
   ]
  },
  {
   "cell_type": "markdown",
   "metadata": {},
   "source": [
    "### (TODO) Training the model\n",
    "\n",
    "When a PyTorch model is constructed in SageMaker, an entry point must be specified. This is the Python file which will be executed when the model is trained. Inside of the `train` directory is a file called `train.py` which has been provided and which contains most of the necessary code to train our model. The only thing that is missing is the implementation of the `train()` method which you wrote earlier in this notebook.\n",
    "\n",
    "**TODO**: Copy the `train()` method written above and paste it into the `train/train.py` file where required.\n",
    "\n",
    "The way that SageMaker passes hyperparameters to the training script is by way of arguments. These arguments can then be parsed and used in the training script. To see how this is done take a look at the provided `train/train.py` file."
   ]
  },
  {
   "cell_type": "code",
   "execution_count": 68,
   "metadata": {},
   "outputs": [],
   "source": [
    "from sagemaker.pytorch import PyTorch\n",
    "\n",
    "estimator = PyTorch(entry_point=\"train.py\",\n",
    "                    source_dir=\"train\",\n",
    "                    role=role,\n",
    "                    framework_version='0.4.0',\n",
    "                    train_instance_count=1,\n",
    "                    train_instance_type='ml.m5.xlarge',\n",
    "                    hyperparameters={\n",
    "                        'epochs': 10,\n",
    "                        'hidden_dim': 200,\n",
    "                    })"
   ]
  },
  {
   "cell_type": "code",
   "execution_count": null,
   "metadata": {},
   "outputs": [
    {
     "name": "stdout",
     "output_type": "stream",
     "text": [
      "2019-09-17 11:19:31 Starting - Starting the training job...\n",
      "2019-09-17 11:19:51 Starting - Launching requested ML instances......\n",
      "2019-09-17 11:20:50 Starting - Preparing the instances for training......\n",
      "2019-09-17 11:22:00 Downloading - Downloading input data\n",
      "2019-09-17 11:22:00 Training - Downloading the training image..\n",
      "\u001b[31mbash: cannot set terminal process group (-1): Inappropriate ioctl for device\u001b[0m\n",
      "\u001b[31mbash: no job control in this shell\u001b[0m\n",
      "\u001b[31m2019-09-17 11:22:13,680 sagemaker-containers INFO     Imported framework sagemaker_pytorch_container.training\u001b[0m\n",
      "\u001b[31m2019-09-17 11:22:13,683 sagemaker-containers INFO     No GPUs detected (normal if no gpus installed)\u001b[0m\n",
      "\u001b[31m2019-09-17 11:22:13,695 sagemaker_pytorch_container.training INFO     Block until all host DNS lookups succeed.\u001b[0m\n",
      "\u001b[31m2019-09-17 11:22:16,708 sagemaker_pytorch_container.training INFO     Invoking user training script.\u001b[0m\n",
      "\u001b[31m2019-09-17 11:22:16,937 sagemaker-containers INFO     Module train does not provide a setup.py. \u001b[0m\n",
      "\u001b[31mGenerating setup.py\u001b[0m\n",
      "\u001b[31m2019-09-17 11:22:16,938 sagemaker-containers INFO     Generating setup.cfg\u001b[0m\n",
      "\u001b[31m2019-09-17 11:22:16,938 sagemaker-containers INFO     Generating MANIFEST.in\u001b[0m\n",
      "\u001b[31m2019-09-17 11:22:16,938 sagemaker-containers INFO     Installing module with the following command:\u001b[0m\n",
      "\u001b[31m/usr/bin/python -m pip install -U . -r requirements.txt\u001b[0m\n",
      "\n",
      "2019-09-17 11:22:13 Training - Training image download completed. Training in progress.\u001b[31mProcessing /opt/ml/code\u001b[0m\n",
      "\u001b[31mCollecting pandas (from -r requirements.txt (line 1))\u001b[0m\n",
      "\u001b[31m  Downloading https://files.pythonhosted.org/packages/74/24/0cdbf8907e1e3bc5a8da03345c23cbed7044330bb8f73bb12e711a640a00/pandas-0.24.2-cp35-cp35m-manylinux1_x86_64.whl (10.0MB)\u001b[0m\n",
      "\u001b[31mCollecting numpy (from -r requirements.txt (line 2))\n",
      "  Downloading https://files.pythonhosted.org/packages/9b/21/2b18339d24a2f73dcefb2f10f48aff6182e16da83e3a612684443c6cfb29/numpy-1.17.2-cp35-cp35m-manylinux1_x86_64.whl (20.1MB)\u001b[0m\n",
      "\u001b[31mCollecting nltk (from -r requirements.txt (line 3))\n",
      "  Downloading https://files.pythonhosted.org/packages/f6/1d/d925cfb4f324ede997f6d47bea4d9babba51b49e87a767c170b77005889d/nltk-3.4.5.zip (1.5MB)\u001b[0m\n",
      "\u001b[31mCollecting beautifulsoup4 (from -r requirements.txt (line 4))\n",
      "  Downloading https://files.pythonhosted.org/packages/1a/b7/34eec2fe5a49718944e215fde81288eec1fa04638aa3fb57c1c6cd0f98c3/beautifulsoup4-4.8.0-py3-none-any.whl (97kB)\u001b[0m\n",
      "\u001b[31mCollecting html5lib (from -r requirements.txt (line 5))\n",
      "  Downloading https://files.pythonhosted.org/packages/a5/62/bbd2be0e7943ec8504b517e62bab011b4946e1258842bc159e5dfde15b96/html5lib-1.0.1-py2.py3-none-any.whl (117kB)\u001b[0m\n",
      "\u001b[31mRequirement already satisfied, skipping upgrade: python-dateutil>=2.5.0 in /usr/local/lib/python3.5/dist-packages (from pandas->-r requirements.txt (line 1)) (2.7.5)\u001b[0m\n",
      "\u001b[31mCollecting pytz>=2011k (from pandas->-r requirements.txt (line 1))\n",
      "  Downloading https://files.pythonhosted.org/packages/87/76/46d697698a143e05f77bec5a526bf4e56a0be61d63425b68f4ba553b51f2/pytz-2019.2-py2.py3-none-any.whl (508kB)\u001b[0m\n",
      "\u001b[31mRequirement already satisfied, skipping upgrade: six in /usr/local/lib/python3.5/dist-packages (from nltk->-r requirements.txt (line 3)) (1.11.0)\u001b[0m\n",
      "\u001b[31mCollecting soupsieve>=1.2 (from beautifulsoup4->-r requirements.txt (line 4))\n",
      "  Downloading https://files.pythonhosted.org/packages/0b/44/0474f2207fdd601bb25787671c81076333d2c80e6f97e92790f8887cf682/soupsieve-1.9.3-py2.py3-none-any.whl\u001b[0m\n",
      "\u001b[31mCollecting webencodings (from html5lib->-r requirements.txt (line 5))\n",
      "  Downloading https://files.pythonhosted.org/packages/f4/24/2a3e3df732393fed8b3ebf2ec078f05546de641fe1b667ee316ec1dcf3b7/webencodings-0.5.1-py2.py3-none-any.whl\u001b[0m\n",
      "\u001b[31mBuilding wheels for collected packages: nltk, train\n",
      "  Running setup.py bdist_wheel for nltk: started\u001b[0m\n",
      "\u001b[31m  Running setup.py bdist_wheel for nltk: finished with status 'done'\n",
      "  Stored in directory: /root/.cache/pip/wheels/96/86/f6/68ab24c23f207c0077381a5e3904b2815136b879538a24b483\n",
      "  Running setup.py bdist_wheel for train: started\n",
      "  Running setup.py bdist_wheel for train: finished with status 'done'\n",
      "  Stored in directory: /tmp/pip-ephem-wheel-cache-1a7fkv2a/wheels/35/24/16/37574d11bf9bde50616c67372a334f94fa8356bc7164af8ca3\u001b[0m\n",
      "\u001b[31mSuccessfully built nltk train\u001b[0m\n",
      "\u001b[31mInstalling collected packages: pytz, numpy, pandas, nltk, soupsieve, beautifulsoup4, webencodings, html5lib, train\n",
      "  Found existing installation: numpy 1.15.4\n",
      "    Uninstalling numpy-1.15.4:\u001b[0m\n",
      "\u001b[31m      Successfully uninstalled numpy-1.15.4\u001b[0m\n",
      "\u001b[31mSuccessfully installed beautifulsoup4-4.8.0 html5lib-1.0.1 nltk-3.4.5 numpy-1.17.2 pandas-0.24.2 pytz-2019.2 soupsieve-1.9.3 train-1.0.0 webencodings-0.5.1\u001b[0m\n",
      "\u001b[31mYou are using pip version 18.1, however version 19.2.3 is available.\u001b[0m\n",
      "\u001b[31mYou should consider upgrading via the 'pip install --upgrade pip' command.\u001b[0m\n",
      "\u001b[31m2019-09-17 11:22:28,635 sagemaker-containers INFO     No GPUs detected (normal if no gpus installed)\u001b[0m\n",
      "\u001b[31m2019-09-17 11:22:28,648 sagemaker-containers INFO     Invoking user script\n",
      "\u001b[0m\n",
      "\u001b[31mTraining Env:\n",
      "\u001b[0m\n",
      "\u001b[31m{\n",
      "    \"output_dir\": \"/opt/ml/output\",\n",
      "    \"user_entry_point\": \"train.py\",\n",
      "    \"module_name\": \"train\",\n",
      "    \"hosts\": [\n",
      "        \"algo-1\"\n",
      "    ],\n",
      "    \"channel_input_dirs\": {\n",
      "        \"training\": \"/opt/ml/input/data/training\"\n",
      "    },\n",
      "    \"framework_module\": \"sagemaker_pytorch_container.training:main\",\n",
      "    \"num_gpus\": 0,\n",
      "    \"model_dir\": \"/opt/ml/model\",\n",
      "    \"current_host\": \"algo-1\",\n",
      "    \"additional_framework_parameters\": {},\n",
      "    \"job_name\": \"sagemaker-pytorch-2019-09-17-11-19-29-993\",\n",
      "    \"resource_config\": {\n",
      "        \"current_host\": \"algo-1\",\n",
      "        \"hosts\": [\n",
      "            \"algo-1\"\n",
      "        ],\n",
      "        \"network_interface_name\": \"eth0\"\n",
      "    },\n",
      "    \"output_data_dir\": \"/opt/ml/output/data\",\n",
      "    \"input_data_config\": {\n",
      "        \"training\": {\n",
      "            \"RecordWrapperType\": \"None\",\n",
      "            \"TrainingInputMode\": \"File\",\n",
      "            \"S3DistributionType\": \"FullyReplicated\"\n",
      "        }\n",
      "    },\n",
      "    \"network_interface_name\": \"eth0\",\n",
      "    \"input_dir\": \"/opt/ml/input\",\n",
      "    \"output_intermediate_dir\": \"/opt/ml/output/intermediate\",\n",
      "    \"num_cpus\": 4,\n",
      "    \"input_config_dir\": \"/opt/ml/input/config\",\n",
      "    \"hyperparameters\": {\n",
      "        \"epochs\": 10,\n",
      "        \"hidden_dim\": 200\n",
      "    },\n",
      "    \"module_dir\": \"s3://sagemaker-ap-south-1-491650329002/sagemaker-pytorch-2019-09-17-11-19-29-993/source/sourcedir.tar.gz\",\n",
      "    \"log_level\": 20\u001b[0m\n",
      "\u001b[31m}\n",
      "\u001b[0m\n",
      "\u001b[31mEnvironment variables:\n",
      "\u001b[0m\n",
      "\u001b[31mSM_MODULE_NAME=train\u001b[0m\n",
      "\u001b[31mSM_RESOURCE_CONFIG={\"current_host\":\"algo-1\",\"hosts\":[\"algo-1\"],\"network_interface_name\":\"eth0\"}\u001b[0m\n",
      "\u001b[31mSM_CHANNEL_TRAINING=/opt/ml/input/data/training\u001b[0m\n",
      "\u001b[31mSM_NETWORK_INTERFACE_NAME=eth0\u001b[0m\n",
      "\u001b[31mSM_FRAMEWORK_PARAMS={}\u001b[0m\n",
      "\u001b[31mSM_INPUT_CONFIG_DIR=/opt/ml/input/config\u001b[0m\n",
      "\u001b[31mSM_CHANNELS=[\"training\"]\u001b[0m\n",
      "\u001b[31mSM_MODULE_DIR=s3://sagemaker-ap-south-1-491650329002/sagemaker-pytorch-2019-09-17-11-19-29-993/source/sourcedir.tar.gz\u001b[0m\n",
      "\u001b[31mSM_CURRENT_HOST=algo-1\u001b[0m\n",
      "\u001b[31mPYTHONPATH=/usr/local/bin:/usr/lib/python35.zip:/usr/lib/python3.5:/usr/lib/python3.5/plat-x86_64-linux-gnu:/usr/lib/python3.5/lib-dynload:/usr/local/lib/python3.5/dist-packages:/usr/lib/python3/dist-packages\u001b[0m\n",
      "\u001b[31mSM_OUTPUT_DIR=/opt/ml/output\u001b[0m\n",
      "\u001b[31mSM_USER_ARGS=[\"--epochs\",\"10\",\"--hidden_dim\",\"200\"]\u001b[0m\n",
      "\u001b[31mSM_NUM_GPUS=0\u001b[0m\n",
      "\u001b[31mSM_OUTPUT_INTERMEDIATE_DIR=/opt/ml/output/intermediate\u001b[0m\n",
      "\u001b[31mSM_USER_ENTRY_POINT=train.py\u001b[0m\n",
      "\u001b[31mSM_MODEL_DIR=/opt/ml/model\u001b[0m\n",
      "\u001b[31mSM_HP_HIDDEN_DIM=200\u001b[0m\n",
      "\u001b[31mSM_NUM_CPUS=4\u001b[0m\n",
      "\u001b[31mSM_INPUT_DIR=/opt/ml/input\u001b[0m\n",
      "\u001b[31mSM_HPS={\"epochs\":10,\"hidden_dim\":200}\u001b[0m\n",
      "\u001b[31mSM_HOSTS=[\"algo-1\"]\u001b[0m\n",
      "\u001b[31mSM_TRAINING_ENV={\"additional_framework_parameters\":{},\"channel_input_dirs\":{\"training\":\"/opt/ml/input/data/training\"},\"current_host\":\"algo-1\",\"framework_module\":\"sagemaker_pytorch_container.training:main\",\"hosts\":[\"algo-1\"],\"hyperparameters\":{\"epochs\":10,\"hidden_dim\":200},\"input_config_dir\":\"/opt/ml/input/config\",\"input_data_config\":{\"training\":{\"RecordWrapperType\":\"None\",\"S3DistributionType\":\"FullyReplicated\",\"TrainingInputMode\":\"File\"}},\"input_dir\":\"/opt/ml/input\",\"job_name\":\"sagemaker-pytorch-2019-09-17-11-19-29-993\",\"log_level\":20,\"model_dir\":\"/opt/ml/model\",\"module_dir\":\"s3://sagemaker-ap-south-1-491650329002/sagemaker-pytorch-2019-09-17-11-19-29-993/source/sourcedir.tar.gz\",\"module_name\":\"train\",\"network_interface_name\":\"eth0\",\"num_cpus\":4,\"num_gpus\":0,\"output_data_dir\":\"/opt/ml/output/data\",\"output_dir\":\"/opt/ml/output\",\"output_intermediate_dir\":\"/opt/ml/output/intermediate\",\"resource_config\":{\"current_host\":\"algo-1\",\"hosts\":[\"algo-1\"],\"network_interface_name\":\"eth0\"},\"user_entry_point\":\"train.py\"}\u001b[0m\n",
      "\u001b[31mSM_INPUT_DATA_CONFIG={\"training\":{\"RecordWrapperType\":\"None\",\"S3DistributionType\":\"FullyReplicated\",\"TrainingInputMode\":\"File\"}}\u001b[0m\n",
      "\u001b[31mSM_FRAMEWORK_MODULE=sagemaker_pytorch_container.training:main\u001b[0m\n",
      "\u001b[31mSM_LOG_LEVEL=20\u001b[0m\n",
      "\u001b[31mSM_OUTPUT_DATA_DIR=/opt/ml/output/data\u001b[0m\n",
      "\u001b[31mSM_HP_EPOCHS=10\n",
      "\u001b[0m\n",
      "\u001b[31mInvoking script with the following command:\n",
      "\u001b[0m\n",
      "\u001b[31m/usr/bin/python -m train --epochs 10 --hidden_dim 200\n",
      "\n",
      "\u001b[0m\n",
      "\u001b[31mUsing device cpu.\u001b[0m\n",
      "\u001b[31mGet train data loader.\u001b[0m\n",
      "\u001b[31mModel loaded with embedding_dim 32, hidden_dim 200, vocab_size 5000.\u001b[0m\n"
     ]
    }
   ],
   "source": [
    "estimator.fit({'training': input_data})"
   ]
  },
  {
   "cell_type": "code",
   "execution_count": 71,
   "metadata": {},
   "outputs": [
    {
     "data": {
      "text/plain": [
       "'s3://sagemaker-ap-south-1-491650329002/sagemaker-pytorch-2019-09-17-11-19-29-993/output/model.tar.gz'"
      ]
     },
     "execution_count": 71,
     "metadata": {},
     "output_type": "execute_result"
    }
   ],
   "source": [
    "estimator.model_data"
   ]
  },
  {
   "cell_type": "markdown",
   "metadata": {},
   "source": [
    "## Step 5: Testing the model\n",
    "\n",
    "As mentioned at the top of this notebook, we will be testing this model by first deploying it and then sending the testing data to the deployed endpoint. We will do this so that we can make sure that the deployed model is working correctly.\n",
    "\n",
    "## Step 6: Deploy the model for testing\n",
    "\n",
    "Now that we have trained our model, we would like to test it to see how it performs. Currently our model takes input of the form `review_length, review[500]` where `review[500]` is a sequence of `500` integers which describe the words present in the review, encoded using `word_dict`. Fortunately for us, SageMaker provides built-in inference code for models with simple inputs such as this.\n",
    "\n",
    "There is one thing that we need to provide, however, and that is a function which loads the saved model. This function must be called `model_fn()` and takes as its only parameter a path to the directory where the model artifacts are stored. This function must also be present in the python file which we specified as the entry point. In our case the model loading function has been provided and so no changes need to be made.\n",
    "\n",
    "**NOTE**: When the built-in inference code is run it must import the `model_fn()` method from the `train.py` file. This is why the training code is wrapped in a main guard ( ie, `if __name__ == '__main__':` )\n",
    "\n",
    "Since we don't need to change anything in the code that was uploaded during training, we can simply deploy the current model as-is.\n",
    "\n",
    "**NOTE:** When deploying a model you are asking SageMaker to launch an compute instance that will wait for data to be sent to it. As a result, this compute instance will continue to run until *you* shut it down. This is important to know since the cost of a deployed endpoint depends on how long it has been running for.\n",
    "\n",
    "In other words **If you are no longer using a deployed endpoint, shut it down!**\n",
    "\n",
    "**TODO:** Deploy the trained model."
   ]
  },
  {
   "cell_type": "code",
   "execution_count": 97,
   "metadata": {},
   "outputs": [
    {
     "name": "stderr",
     "output_type": "stream",
     "text": [
      "Using already existing model: sagemaker-pytorch-2019-09-17-11-19-29-993\n"
     ]
    },
    {
     "name": "stdout",
     "output_type": "stream",
     "text": [
      "-------------------------------------------------------------------------------------!"
     ]
    }
   ],
   "source": [
    "# TODO: Deploy the trained model\n",
    "from sagemaker.predictor import csv_serializer\n",
    "\n",
    "predictor = estimator.deploy(initial_instance_count=1, instance_type='ml.m4.xlarge')\n",
    "predictor.content_type = 'text/csv'\n",
    "predictor.serializer = csv_serializer"
   ]
  },
  {
   "cell_type": "markdown",
   "metadata": {},
   "source": [
    "## Step 7 - Use the model for testing\n",
    "\n",
    "Once deployed, we can read in the test data and send it off to our deployed model to get some results. Once we collect all of the results we can determine how accurate our model is."
   ]
  },
  {
   "cell_type": "code",
   "execution_count": 101,
   "metadata": {},
   "outputs": [
    {
     "name": "stdout",
     "output_type": "stream",
     "text": [
      "         0    0    0    0    0    0    0    0    0    0     0\n",
      "0      169  169  169  169  169  169  169  169  169  169    79\n",
      "1       52   52   52   52   52   52   52   52   52   52   434\n",
      "2       65   65   65   65   65   65   65   65   65   65    36\n",
      "3      134  134  134  134  134  134  134  134  134  134    80\n",
      "4      122  122  122  122  122  122  122  122  122  122     2\n",
      "5      115  115  115  115  115  115  115  115  115  115   606\n",
      "6      316  316  316  316  316  316  316  316  316  316     1\n",
      "7       61   61   61   61   61   61   61   61   61   61    41\n",
      "8      186  186  186  186  186  186  186  186  186  186   779\n",
      "9       72   72   72   72   72   72   72   72   72   72   531\n",
      "10      61   61   61   61   61   61   61   61   61   61   188\n",
      "11     200  200  200  200  200  200  200  200  200  200     3\n",
      "12     237  237  237  237  237  237  237  237  237  237   216\n",
      "13      56   56   56   56   56   56   56   56   56   56     2\n",
      "14      56   56   56   56   56   56   56   56   56   56    82\n",
      "15     194  194  194  194  194  194  194  194  194  194  1556\n",
      "16      20   20   20   20   20   20   20   20   20   20     3\n",
      "17      56   56   56   56   56   56   56   56   56   56    79\n",
      "18     140  140  140  140  140  140  140  140  140  140  3026\n",
      "19     290  290  290  290  290  290  290  290  290  290  2295\n",
      "20      99   99   99   99   99   99   99   99   99   99    16\n",
      "21     124  124  124  124  124  124  124  124  124  124  4316\n",
      "22      65   65   65   65   65   65   65   65   65   65    29\n",
      "23      61   61   61   61   61   61   61   61   61   61    51\n",
      "24      70   70   70   70   70   70   70   70   70   70   317\n",
      "25      61   61   61   61   61   61   61   61   61   61   136\n",
      "26      51   51   51   51   51   51   51   51   51   51    61\n",
      "27      64   64   64   64   64   64   64   64   64   64     2\n",
      "28      89   89   89   89   89   89   89   89   89   89  2239\n",
      "29     344  344  344  344  344  344  344  344  344  344  1019\n",
      "...    ...  ...  ...  ...  ...  ...  ...  ...  ...  ...   ...\n",
      "24970   80   80   80   80   80   80   80   80   80   80    29\n",
      "24971   52   52   52   52   52   52   52   52   52   52     4\n",
      "24972  101  101  101  101  101  101  101  101  101  101     1\n",
      "24973  129  129  129  129  129  129  129  129  129  129   488\n",
      "24974   76   76   76   76   76   76   76   76   76   76    30\n",
      "24975   90   90   90   90   90   90   90   90   90   90    12\n",
      "24976   38   38   38   38   38   38   38   38   38   38   768\n",
      "24977   60   60   60   60   60   60   60   60   60   60     2\n",
      "24978   85   85   85   85   85   85   85   85   85   85     2\n",
      "24979  314  314  314  314  314  314  314  314  314  314   658\n",
      "24980   80   80   80   80   80   80   80   80   80   80     1\n",
      "24981  152  152  152  152  152  152  152  152  152  152  1408\n",
      "24982  318  318  318  318  318  318  318  318  318  318   393\n",
      "24983   71   71   71   71   71   71   71   71   71   71   188\n",
      "24984  101  101  101  101  101  101  101  101  101  101  1800\n",
      "24985   85   85   85   85   85   85   85   85   85   85    51\n",
      "24986  113  113  113  113  113  113  113  113  113  113   364\n",
      "24987   36   36   36   36   36   36   36   36   36   36  1291\n",
      "24988   66   66   66   66   66   66   66   66   66   66    74\n",
      "24989   35   35   35   35   35   35   35   35   35   35  1002\n",
      "24990  139  139  139  139  139  139  139  139  139  139   155\n",
      "24991   89   89   89   89   89   89   89   89   89   89     5\n",
      "24992  123  123  123  123  123  123  123  123  123  123    24\n",
      "24993  153  153  153  153  153  153  153  153  153  153     4\n",
      "24994  136  136  136  136  136  136  136  136  136  136     5\n",
      "24995  199  199  199  199  199  199  199  199  199  199   317\n",
      "24996  104  104  104  104  104  104  104  104  104  104   431\n",
      "24997   48   48   48   48   48   48   48   48   48   48   589\n",
      "24998  214  214  214  214  214  214  214  214  214  214   689\n",
      "24999  406  406  406  406  406  406  406  406  406  406     1\n",
      "\n",
      "[25000 rows x 11 columns]\n"
     ]
    }
   ],
   "source": [
    "test_X = pd.concat([pd.DataFrame(test_X_len), pd.DataFrame(test_X)], axis=1)\n",
    "print(test_X[0])"
   ]
  },
  {
   "cell_type": "code",
   "execution_count": 102,
   "metadata": {},
   "outputs": [],
   "source": [
    "# We split the data into chunks and send each chunk seperately, accumulating the results.\n",
    "\n",
    "def predict(data, rows=512):\n",
    "    split_array = np.array_split(data, int(data.shape[0] / float(rows) + 1))\n",
    "    predictions = np.array([])\n",
    "    for array in split_array:\n",
    "        predictions = np.append(predictions, predictor.predict(array))\n",
    "    \n",
    "    return predictions"
   ]
  },
  {
   "cell_type": "code",
   "execution_count": 103,
   "metadata": {},
   "outputs": [],
   "source": [
    "predictions = predict(test_X.values)\n",
    "predictions = [round(num) for num in predictions]"
   ]
  },
  {
   "cell_type": "code",
   "execution_count": 104,
   "metadata": {},
   "outputs": [
    {
     "data": {
      "text/plain": [
       "0.77856"
      ]
     },
     "execution_count": 104,
     "metadata": {},
     "output_type": "execute_result"
    }
   ],
   "source": [
    "from sklearn.metrics import accuracy_score\n",
    "accuracy_score(test_y, predictions)"
   ]
  },
  {
   "cell_type": "markdown",
   "metadata": {},
   "source": [
    "**Question:** How does this model compare to the XGBoost model you created earlier? Why might these two models perform differently on this dataset? Which do *you* think is better for sentiment analysis?"
   ]
  },
  {
   "cell_type": "markdown",
   "metadata": {},
   "source": [
    "**Answer:** XGBoost uses words as independent features and no importance is given to the position and ordering of the words. sentence  has meaning from the order of words and RNNs are better at finding meaning from current input and the previous inputs.\n"
   ]
  },
  {
   "cell_type": "markdown",
   "metadata": {},
   "source": [
    "### (TODO) More testing\n",
    "\n",
    "We now have a trained model which has been deployed and which we can send processed reviews to and which returns the predicted sentiment. However, ultimately we would like to be able to send our model an unprocessed review. That is, we would like to send the review itself as a string. For example, suppose we wish to send the following review to our model."
   ]
  },
  {
   "cell_type": "code",
   "execution_count": 105,
   "metadata": {},
   "outputs": [],
   "source": [
    "test_review = 'The simplest pleasures in life are the best, and this film is one of them. Combining a rather basic storyline of love and adventure this movie transcends the usual weekend fair with wit and unmitigated charm.'"
   ]
  },
  {
   "cell_type": "markdown",
   "metadata": {},
   "source": [
    "The question we now need to answer is, how do we send this review to our model?\n",
    "\n",
    "Recall in the first section of this notebook we did a bunch of data processing to the IMDb dataset. In particular, we did two specific things to the provided reviews.\n",
    " - Removed any html tags and stemmed the input\n",
    " - Encoded the review as a sequence of integers using `word_dict`\n",
    " \n",
    "In order process the review we will need to repeat these two steps.\n",
    "\n",
    "**TODO**: Using the `review_to_words` and `convert_and_pad` methods from section one, convert `test_review` into a numpy array `test_data` suitable to send to our model. Remember that our model expects input of the form `review_length, review[500]`."
   ]
  },
  {
   "cell_type": "code",
   "execution_count": 106,
   "metadata": {},
   "outputs": [
    {
     "name": "stdout",
     "output_type": "stream",
     "text": [
      "<class 'pandas.core.frame.DataFrame'>\n"
     ]
    }
   ],
   "source": [
    "# TODO: Convert test_review into a form usable by the model and save the results in test_data\n",
    "test_words = review_to_words(test_review)\n",
    "test_data, test_data_len = convert_and_pad_data(word_dict, [test_words])\n",
    "#create  dataframe\n",
    "test_data = pd.concat([pd.DataFrame(test_data_len), pd.DataFrame(test_data)], axis=1)\n",
    "print(type(test_data))\n",
    "#strip headers\n",
    "test_data = test_data.values\n",
    "#print(test_data)\n"
   ]
  },
  {
   "cell_type": "markdown",
   "metadata": {},
   "source": [
    "Now that we have processed the review, we can send the resulting array to our model to predict the sentiment of the review."
   ]
  },
  {
   "cell_type": "code",
   "execution_count": 107,
   "metadata": {},
   "outputs": [
    {
     "data": {
      "text/plain": [
       "0.92709464"
      ]
     },
     "execution_count": 107,
     "metadata": {},
     "output_type": "execute_result"
    }
   ],
   "source": [
    "#github says pass list to this method \n",
    "predictor.predict([test_data, test_data, test_data])[0]"
   ]
  },
  {
   "cell_type": "markdown",
   "metadata": {},
   "source": [
    "Since the return value of our model is close to `1`, we can be certain that the review we submitted is positive."
   ]
  },
  {
   "cell_type": "markdown",
   "metadata": {},
   "source": [
    "### Delete the endpoint\n",
    "\n",
    "Of course, just like in the XGBoost notebook, once we've deployed an endpoint it continues to run until we tell it to shut down. Since we are done using our endpoint for now, we can delete it."
   ]
  },
  {
   "cell_type": "code",
   "execution_count": 108,
   "metadata": {},
   "outputs": [],
   "source": [
    "estimator.delete_endpoint()"
   ]
  },
  {
   "cell_type": "markdown",
   "metadata": {},
   "source": [
    "## Step 6 (again) - Deploy the model for the web app\n",
    "\n",
    "Now that we know that our model is working, it's time to create some custom inference code so that we can send the model a review which has not been processed and have it determine the sentiment of the review.\n",
    "\n",
    "As we saw above, by default the estimator which we created, when deployed, will use the entry script and directory which we provided when creating the model. However, since we now wish to accept a string as input and our model expects a processed review, we need to write some custom inference code.\n",
    "\n",
    "We will store the code that we write in the `serve` directory. Provided in this directory is the `model.py` file that we used to construct our model, a `utils.py` file which contains the `review_to_words` and `convert_and_pad` pre-processing functions which we used during the initial data processing, and `predict.py`, the file which will contain our custom inference code. Note also that `requirements.txt` is present which will tell SageMaker what Python libraries are required by our custom inference code.\n",
    "\n",
    "When deploying a PyTorch model in SageMaker, you are expected to provide four functions which the SageMaker inference container will use.\n",
    " - `model_fn`: This function is the same function that we used in the training script and it tells SageMaker how to load our model.\n",
    " - `input_fn`: This function receives the raw serialized input that has been sent to the model's endpoint and its job is to de-serialize and make the input available for the inference code.\n",
    " - `output_fn`: This function takes the output of the inference code and its job is to serialize this output and return it to the caller of the model's endpoint.\n",
    " - `predict_fn`: The heart of the inference script, this is where the actual prediction is done and is the function which you will need to complete.\n",
    "\n",
    "For the simple website that we are constructing during this project, the `input_fn` and `output_fn` methods are relatively straightforward. We only require being able to accept a string as input and we expect to return a single value as output. You might imagine though that in a more complex application the input or output may be image data or some other binary data which would require some effort to serialize.\n",
    "\n",
    "### (TODO) Writing inference code\n",
    "\n",
    "Before writing our custom inference code, we will begin by taking a look at the code which has been provided."
   ]
  },
  {
   "cell_type": "code",
   "execution_count": 116,
   "metadata": {},
   "outputs": [
    {
     "name": "stdout",
     "output_type": "stream",
     "text": [
      "\u001b[34mimport\u001b[39;49;00m \u001b[04m\u001b[36margparse\u001b[39;49;00m\r\n",
      "\u001b[34mimport\u001b[39;49;00m \u001b[04m\u001b[36mjson\u001b[39;49;00m\r\n",
      "\u001b[34mimport\u001b[39;49;00m \u001b[04m\u001b[36mos\u001b[39;49;00m\r\n",
      "\u001b[34mimport\u001b[39;49;00m \u001b[04m\u001b[36mpickle\u001b[39;49;00m\r\n",
      "\u001b[34mimport\u001b[39;49;00m \u001b[04m\u001b[36msys\u001b[39;49;00m\r\n",
      "\u001b[34mimport\u001b[39;49;00m \u001b[04m\u001b[36msagemaker_containers\u001b[39;49;00m\r\n",
      "\u001b[34mimport\u001b[39;49;00m \u001b[04m\u001b[36mpandas\u001b[39;49;00m \u001b[34mas\u001b[39;49;00m \u001b[04m\u001b[36mpd\u001b[39;49;00m\r\n",
      "\u001b[34mimport\u001b[39;49;00m \u001b[04m\u001b[36mnumpy\u001b[39;49;00m \u001b[34mas\u001b[39;49;00m \u001b[04m\u001b[36mnp\u001b[39;49;00m\r\n",
      "\u001b[34mimport\u001b[39;49;00m \u001b[04m\u001b[36mtorch\u001b[39;49;00m\r\n",
      "\u001b[34mimport\u001b[39;49;00m \u001b[04m\u001b[36mtorch.nn\u001b[39;49;00m \u001b[34mas\u001b[39;49;00m \u001b[04m\u001b[36mnn\u001b[39;49;00m\r\n",
      "\u001b[34mimport\u001b[39;49;00m \u001b[04m\u001b[36mtorch.optim\u001b[39;49;00m \u001b[34mas\u001b[39;49;00m \u001b[04m\u001b[36moptim\u001b[39;49;00m\r\n",
      "\u001b[34mimport\u001b[39;49;00m \u001b[04m\u001b[36mtorch.utils.data\u001b[39;49;00m\r\n",
      "\r\n",
      "\u001b[34mfrom\u001b[39;49;00m \u001b[04m\u001b[36mmodel\u001b[39;49;00m \u001b[34mimport\u001b[39;49;00m LSTMClassifier\r\n",
      "\r\n",
      "\u001b[34mfrom\u001b[39;49;00m \u001b[04m\u001b[36mutils\u001b[39;49;00m \u001b[34mimport\u001b[39;49;00m review_to_words, convert_and_pad\r\n",
      "\r\n",
      "\u001b[34mdef\u001b[39;49;00m \u001b[32mmodel_fn\u001b[39;49;00m(model_dir):\r\n",
      "    \u001b[33m\"\"\"Load the PyTorch model from the `model_dir` directory.\"\"\"\u001b[39;49;00m\r\n",
      "    \u001b[34mprint\u001b[39;49;00m(\u001b[33m\"\u001b[39;49;00m\u001b[33mLoading model.\u001b[39;49;00m\u001b[33m\"\u001b[39;49;00m)\r\n",
      "\r\n",
      "    \u001b[37m# First, load the parameters used to create the model.\u001b[39;49;00m\r\n",
      "    model_info = {}\r\n",
      "    model_info_path = os.path.join(model_dir, \u001b[33m'\u001b[39;49;00m\u001b[33mmodel_info.pth\u001b[39;49;00m\u001b[33m'\u001b[39;49;00m)\r\n",
      "    \u001b[34mwith\u001b[39;49;00m \u001b[36mopen\u001b[39;49;00m(model_info_path, \u001b[33m'\u001b[39;49;00m\u001b[33mrb\u001b[39;49;00m\u001b[33m'\u001b[39;49;00m) \u001b[34mas\u001b[39;49;00m f:\r\n",
      "        model_info = torch.load(f)\r\n",
      "\r\n",
      "    \u001b[34mprint\u001b[39;49;00m(\u001b[33m\"\u001b[39;49;00m\u001b[33mmodel_info: {}\u001b[39;49;00m\u001b[33m\"\u001b[39;49;00m.format(model_info))\r\n",
      "\r\n",
      "    \u001b[37m# Determine the device and construct the model.\u001b[39;49;00m\r\n",
      "    device = torch.device(\u001b[33m\"\u001b[39;49;00m\u001b[33mcuda\u001b[39;49;00m\u001b[33m\"\u001b[39;49;00m \u001b[34mif\u001b[39;49;00m torch.cuda.is_available() \u001b[34melse\u001b[39;49;00m \u001b[33m\"\u001b[39;49;00m\u001b[33mcpu\u001b[39;49;00m\u001b[33m\"\u001b[39;49;00m)\r\n",
      "    model = LSTMClassifier(model_info[\u001b[33m'\u001b[39;49;00m\u001b[33membedding_dim\u001b[39;49;00m\u001b[33m'\u001b[39;49;00m], model_info[\u001b[33m'\u001b[39;49;00m\u001b[33mhidden_dim\u001b[39;49;00m\u001b[33m'\u001b[39;49;00m], model_info[\u001b[33m'\u001b[39;49;00m\u001b[33mvocab_size\u001b[39;49;00m\u001b[33m'\u001b[39;49;00m])\r\n",
      "\r\n",
      "    \u001b[37m# Load the store model parameters.\u001b[39;49;00m\r\n",
      "    model_path = os.path.join(model_dir, \u001b[33m'\u001b[39;49;00m\u001b[33mmodel.pth\u001b[39;49;00m\u001b[33m'\u001b[39;49;00m)\r\n",
      "    \u001b[34mwith\u001b[39;49;00m \u001b[36mopen\u001b[39;49;00m(model_path, \u001b[33m'\u001b[39;49;00m\u001b[33mrb\u001b[39;49;00m\u001b[33m'\u001b[39;49;00m) \u001b[34mas\u001b[39;49;00m f:\r\n",
      "        model.load_state_dict(torch.load(f))\r\n",
      "\r\n",
      "    \u001b[37m# Load the saved word_dict.\u001b[39;49;00m\r\n",
      "    word_dict_path = os.path.join(model_dir, \u001b[33m'\u001b[39;49;00m\u001b[33mword_dict.pkl\u001b[39;49;00m\u001b[33m'\u001b[39;49;00m)\r\n",
      "    \u001b[34mwith\u001b[39;49;00m \u001b[36mopen\u001b[39;49;00m(word_dict_path, \u001b[33m'\u001b[39;49;00m\u001b[33mrb\u001b[39;49;00m\u001b[33m'\u001b[39;49;00m) \u001b[34mas\u001b[39;49;00m f:\r\n",
      "        model.word_dict = pickle.load(f)\r\n",
      "\r\n",
      "    model.to(device).eval()\r\n",
      "\r\n",
      "    \u001b[34mprint\u001b[39;49;00m(\u001b[33m\"\u001b[39;49;00m\u001b[33mDone loading model.\u001b[39;49;00m\u001b[33m\"\u001b[39;49;00m)\r\n",
      "    \u001b[34mreturn\u001b[39;49;00m model\r\n",
      "\r\n",
      "\u001b[34mdef\u001b[39;49;00m \u001b[32minput_fn\u001b[39;49;00m(serialized_input_data, content_type):\r\n",
      "    \u001b[34mprint\u001b[39;49;00m(\u001b[33m'\u001b[39;49;00m\u001b[33mDeserializing the input data.\u001b[39;49;00m\u001b[33m'\u001b[39;49;00m)\r\n",
      "    \u001b[34mif\u001b[39;49;00m content_type == \u001b[33m'\u001b[39;49;00m\u001b[33mtext/plain\u001b[39;49;00m\u001b[33m'\u001b[39;49;00m:\r\n",
      "        data = serialized_input_data.decode(\u001b[33m'\u001b[39;49;00m\u001b[33mutf-8\u001b[39;49;00m\u001b[33m'\u001b[39;49;00m)\r\n",
      "        \u001b[34mreturn\u001b[39;49;00m data\r\n",
      "    \u001b[34mraise\u001b[39;49;00m \u001b[36mException\u001b[39;49;00m(\u001b[33m'\u001b[39;49;00m\u001b[33mRequested unsupported ContentType in content_type: \u001b[39;49;00m\u001b[33m'\u001b[39;49;00m + content_type)\r\n",
      "\r\n",
      "\u001b[34mdef\u001b[39;49;00m \u001b[32moutput_fn\u001b[39;49;00m(prediction_output, accept):\r\n",
      "    \u001b[34mprint\u001b[39;49;00m(\u001b[33m'\u001b[39;49;00m\u001b[33mSerializing the generated output.\u001b[39;49;00m\u001b[33m'\u001b[39;49;00m)\r\n",
      "    \u001b[34mreturn\u001b[39;49;00m \u001b[36mstr\u001b[39;49;00m(prediction_output)\r\n",
      "\r\n",
      "\u001b[34mdef\u001b[39;49;00m \u001b[32mpredict_fn\u001b[39;49;00m(input_data, model):\r\n",
      "    \u001b[34mprint\u001b[39;49;00m(\u001b[33m'\u001b[39;49;00m\u001b[33mInferring sentiment of input data.\u001b[39;49;00m\u001b[33m'\u001b[39;49;00m)\r\n",
      "\r\n",
      "    device = torch.device(\u001b[33m\"\u001b[39;49;00m\u001b[33mcuda\u001b[39;49;00m\u001b[33m\"\u001b[39;49;00m \u001b[34mif\u001b[39;49;00m torch.cuda.is_available() \u001b[34melse\u001b[39;49;00m \u001b[33m\"\u001b[39;49;00m\u001b[33mcpu\u001b[39;49;00m\u001b[33m\"\u001b[39;49;00m)\r\n",
      "\r\n",
      "    \u001b[34mif\u001b[39;49;00m model.word_dict \u001b[35mis\u001b[39;49;00m \u001b[36mNone\u001b[39;49;00m:\r\n",
      "        \u001b[34mraise\u001b[39;49;00m \u001b[36mException\u001b[39;49;00m(\u001b[33m'\u001b[39;49;00m\u001b[33mModel has not been loaded properly, no word_dict.\u001b[39;49;00m\u001b[33m'\u001b[39;49;00m)\r\n",
      "\r\n",
      "    \u001b[37m# TODO: Process input_data so that it is ready to be sent to our model.\u001b[39;49;00m\r\n",
      "    \u001b[37m#       You should produce two variables:\u001b[39;49;00m\r\n",
      "    \u001b[37m#         data_X   - A sequence of length 500 which represents the converted review\u001b[39;49;00m\r\n",
      "    \u001b[37m#         data_len - The length of the review\u001b[39;49;00m\r\n",
      "\r\n",
      "    input_words = review_to_words(input_data)\r\n",
      "    data_X, data_len = convert_and_pad(model.word_dict, input_words)\r\n",
      "\r\n",
      "    \u001b[37m# Using data_X and data_len we construct an appropriate input tensor. Remember\u001b[39;49;00m\r\n",
      "    \u001b[37m# that our model expects input data of the form 'len, review[500]'.\u001b[39;49;00m\r\n",
      "    data_pack = np.hstack((data_len, data_X))\r\n",
      "    data_pack = data_pack.reshape(\u001b[34m1\u001b[39;49;00m, -\u001b[34m1\u001b[39;49;00m)\r\n",
      "\r\n",
      "    data = torch.from_numpy(data_pack)\r\n",
      "    data = data.to(device)\r\n",
      "\r\n",
      "    \u001b[37m# Make sure to put the model into evaluation mode\u001b[39;49;00m\r\n",
      "    model.eval()\r\n",
      "\r\n",
      "    \u001b[37m# TODO: Compute the result of applying the model to the input data. The variable `result` should\u001b[39;49;00m\r\n",
      "    \u001b[37m#       be a numpy array which contains a single integer which is either 1 or 0\u001b[39;49;00m\r\n",
      "\r\n",
      "    output = model.forward(data)\r\n",
      "\r\n",
      "\r\n",
      "    \u001b[37m# Move the result to cpu (this is a must if GPU was used)\u001b[39;49;00m\r\n",
      "    output = output.to(\u001b[33m'\u001b[39;49;00m\u001b[33mcpu\u001b[39;49;00m\u001b[33m'\u001b[39;49;00m)\r\n",
      "    result = np.round(output.data.numpy())\r\n",
      "    \u001b[34mreturn\u001b[39;49;00m \u001b[36mint\u001b[39;49;00m(result)\r\n"
     ]
    }
   ],
   "source": [
    "!pygmentize serve/predict.py"
   ]
  },
  {
   "cell_type": "markdown",
   "metadata": {},
   "source": [
    "As mentioned earlier, the `model_fn` method is the same as the one provided in the training code and the `input_fn` and `output_fn` methods are very simple and your task will be to complete the `predict_fn` method. Make sure that you save the completed file as `predict.py` in the `serve` directory.\n",
    "\n",
    "**TODO**: Complete the `predict_fn()` method in the `serve/predict.py` file."
   ]
  },
  {
   "cell_type": "markdown",
   "metadata": {},
   "source": [
    "### Deploying the model\n",
    "\n",
    "Now that the custom inference code has been written, we will create and deploy our model. To begin with, we need to construct a new PyTorchModel object which points to the model artifacts created during training and also points to the inference code that we wish to use. Then we can call the deploy method to launch the deployment container.\n",
    "\n",
    "**NOTE**: The default behaviour for a deployed PyTorch model is to assume that any input passed to the predictor is a `numpy` array. In our case we want to send a string so we need to construct a simple wrapper around the `RealTimePredictor` class to accomodate simple strings. In a more complicated situation you may want to provide a serialization object, for example if you wanted to sent image data."
   ]
  },
  {
   "cell_type": "code",
   "execution_count": 117,
   "metadata": {},
   "outputs": [
    {
     "data": {
      "text/plain": [
       "sagemaker.pytorch.estimator.PyTorch"
      ]
     },
     "execution_count": 117,
     "metadata": {},
     "output_type": "execute_result"
    }
   ],
   "source": [
    "type(estimator)"
   ]
  },
  {
   "cell_type": "code",
   "execution_count": 111,
   "metadata": {},
   "outputs": [
    {
     "name": "stdout",
     "output_type": "stream",
     "text": [
      "-------------------------------------------------------------------------------------!"
     ]
    }
   ],
   "source": [
    "from sagemaker.predictor import RealTimePredictor\n",
    "from sagemaker.pytorch import PyTorchModel\n",
    "\n",
    "class StringPredictor(RealTimePredictor):\n",
    "    def __init__(self, endpoint_name, sagemaker_session):\n",
    "        super(StringPredictor, self).__init__(endpoint_name, sagemaker_session, content_type='text/plain')\n",
    "\n",
    "model = PyTorchModel(model_data=estimator.model_data,\n",
    "                     role = role,\n",
    "                     framework_version='0.4.0',\n",
    "                     entry_point='predict.py',\n",
    "                     source_dir='serve',\n",
    "                     predictor_cls=StringPredictor)\n",
    "predictor = model.deploy(initial_instance_count=1, instance_type='ml.m4.xlarge')"
   ]
  },
  {
   "cell_type": "markdown",
   "metadata": {},
   "source": [
    "### Testing the model\n",
    "\n",
    "Now that we have deployed our model with the custom inference code, we should test to see if everything is working. Here we test our model by loading the first `250` positive and negative reviews and send them to the endpoint, then collect the results. The reason for only sending some of the data is that the amount of time it takes for our model to process the input and then perform inference is quite long and so testing the entire data set would be prohibitive."
   ]
  },
  {
   "cell_type": "code",
   "execution_count": 112,
   "metadata": {},
   "outputs": [],
   "source": [
    "import glob\n",
    "\n",
    "def test_reviews(data_dir='../data/aclImdb', stop=250):\n",
    "    \n",
    "    results = []\n",
    "    ground = []\n",
    "    \n",
    "    # We make sure to test both positive and negative reviews    \n",
    "    for sentiment in ['pos', 'neg']:\n",
    "        \n",
    "        path = os.path.join(data_dir, 'test', sentiment, '*.txt')\n",
    "        files = glob.glob(path)\n",
    "        \n",
    "        files_read = 0\n",
    "        \n",
    "        print('Starting ', sentiment, ' files')\n",
    "        \n",
    "        # Iterate through the files and send them to the predictor\n",
    "        for f in files:\n",
    "            with open(f) as review:\n",
    "                # First, we store the ground truth (was the review positive or negative)\n",
    "                if sentiment == 'pos':\n",
    "                    ground.append(1)\n",
    "                else:\n",
    "                    ground.append(0)\n",
    "                # Read in the review and convert to 'utf-8' for transmission via HTTP\n",
    "                review_input = review.read().encode('utf-8')\n",
    "                # Send the review to the predictor and store the results\n",
    "                results.append(int(predictor.predict(review_input)))\n",
    "                \n",
    "            # Sending reviews to our endpoint one at a time takes a while so we\n",
    "            # only send a small number of reviews\n",
    "            files_read += 1\n",
    "            if files_read == stop:\n",
    "                break\n",
    "            \n",
    "    return ground, results"
   ]
  },
  {
   "cell_type": "code",
   "execution_count": 118,
   "metadata": {},
   "outputs": [
    {
     "name": "stdout",
     "output_type": "stream",
     "text": [
      "Starting  pos  files\n",
      "Starting  neg  files\n"
     ]
    }
   ],
   "source": [
    "ground, results = test_reviews()"
   ]
  },
  {
   "cell_type": "code",
   "execution_count": 119,
   "metadata": {},
   "outputs": [
    {
     "data": {
      "text/plain": [
       "0.808"
      ]
     },
     "execution_count": 119,
     "metadata": {},
     "output_type": "execute_result"
    }
   ],
   "source": [
    "from sklearn.metrics import accuracy_score\n",
    "accuracy_score(ground, results)"
   ]
  },
  {
   "cell_type": "markdown",
   "metadata": {},
   "source": [
    "As an additional test, we can try sending the `test_review` that we looked at earlier."
   ]
  },
  {
   "cell_type": "code",
   "execution_count": 120,
   "metadata": {},
   "outputs": [
    {
     "data": {
      "text/plain": [
       "b'1'"
      ]
     },
     "execution_count": 120,
     "metadata": {},
     "output_type": "execute_result"
    }
   ],
   "source": [
    "predictor.predict(test_review)"
   ]
  },
  {
   "cell_type": "markdown",
   "metadata": {},
   "source": [
    "Now that we know our endpoint is working as expected, we can set up the web page that will interact with it. If you don't have time to finish the project now, make sure to skip down to the end of this notebook and shut down your endpoint. You can deploy it again when you come back."
   ]
  },
  {
   "cell_type": "markdown",
   "metadata": {},
   "source": [
    "## Step 7 (again): Use the model for the web app\n",
    "\n",
    "> **TODO:** This entire section and the next contain tasks for you to complete, mostly using the AWS console.\n",
    "\n",
    "So far we have been accessing our model endpoint by constructing a predictor object which uses the endpoint and then just using the predictor object to perform inference. What if we wanted to create a web app which accessed our model? The way things are set up currently makes that not possible since in order to access a SageMaker endpoint the app would first have to authenticate with AWS using an IAM role which included access to SageMaker endpoints. However, there is an easier way! We just need to use some additional AWS services.\n",
    "\n",
    "<img src=\"Web App Diagram.svg\">\n",
    "\n",
    "The diagram above gives an overview of how the various services will work together. On the far right is the model which we trained above and which is deployed using SageMaker. On the far left is our web app that collects a user's movie review, sends it off and expects a positive or negative sentiment in return.\n",
    "\n",
    "In the middle is where some of the magic happens. We will construct a Lambda function, which you can think of as a straightforward Python function that can be executed whenever a specified event occurs. We will give this function permission to send and recieve data from a SageMaker endpoint.\n",
    "\n",
    "Lastly, the method we will use to execute the Lambda function is a new endpoint that we will create using API Gateway. This endpoint will be a url that listens for data to be sent to it. Once it gets some data it will pass that data on to the Lambda function and then return whatever the Lambda function returns. Essentially it will act as an interface that lets our web app communicate with the Lambda function.\n",
    "\n",
    "### Setting up a Lambda function\n",
    "\n",
    "The first thing we are going to do is set up a Lambda function. This Lambda function will be executed whenever our public API has data sent to it. When it is executed it will receive the data, perform any sort of processing that is required, send the data (the review) to the SageMaker endpoint we've created and then return the result.\n",
    "\n",
    "#### Part A: Create an IAM Role for the Lambda function\n",
    "\n",
    "Since we want the Lambda function to call a SageMaker endpoint, we need to make sure that it has permission to do so. To do this, we will construct a role that we can later give the Lambda function.\n",
    "\n",
    "Using the AWS Console, navigate to the **IAM** page and click on **Roles**. Then, click on **Create role**. Make sure that the **AWS service** is the type of trusted entity selected and choose **Lambda** as the service that will use this role, then click **Next: Permissions**.\n",
    "\n",
    "In the search box type `sagemaker` and select the check box next to the **AmazonSageMakerFullAccess** policy. Then, click on **Next: Review**.\n",
    "\n",
    "Lastly, give this role a name. Make sure you use a name that you will remember later on, for example `LambdaSageMakerRole`. Then, click on **Create role**.\n",
    "\n",
    "#### Part B: Create a Lambda function\n",
    "\n",
    "Now it is time to actually create the Lambda function.\n",
    "\n",
    "Using the AWS Console, navigate to the AWS Lambda page and click on **Create a function**. When you get to the next page, make sure that **Author from scratch** is selected. Now, name your Lambda function, using a name that you will remember later on, for example `sentiment_analysis_func`. Make sure that the **Python 3.6** runtime is selected and then choose the role that you created in the previous part. Then, click on **Create Function**.\n",
    "\n",
    "On the next page you will see some information about the Lambda function you've just created. If you scroll down you should see an editor in which you can write the code that will be executed when your Lambda function is triggered. In our example, we will use the code below. \n",
    "\n",
    "```python\n",
    "# We need to use the low-level library to interact with SageMaker since the SageMaker API\n",
    "# is not available natively through Lambda.\n",
    "import boto3\n",
    "\n",
    "def lambda_handler(event, context):\n",
    "\n",
    "    # The SageMaker runtime is what allows us to invoke the endpoint that we've created.\n",
    "    runtime = boto3.Session().client('sagemaker-runtime')\n",
    "\n",
    "    # Now we use the SageMaker runtime to invoke our endpoint, sending the review we were given\n",
    "    response = runtime.invoke_endpoint(EndpointName = '**ENDPOINT NAME HERE**',    # The name of the endpoint we created\n",
    "                                       ContentType = 'text/plain',                 # The data format that is expected\n",
    "                                       Body = event['body'])                       # The actual review\n",
    "\n",
    "    # The response is an HTTP response whose body contains the result of our inference\n",
    "    result = response['Body'].read().decode('utf-8')\n",
    "\n",
    "    return {\n",
    "        'statusCode' : 200,\n",
    "        'headers' : { 'Content-Type' : 'text/plain', 'Access-Control-Allow-Origin' : '*' },\n",
    "        'body' : result\n",
    "    }\n",
    "```\n",
    "\n",
    "Once you have copy and pasted the code above into the Lambda code editor, replace the `**ENDPOINT NAME HERE**` portion with the name of the endpoint that we deployed earlier. You can determine the name of the endpoint using the code cell below."
   ]
  },
  {
   "cell_type": "code",
   "execution_count": 121,
   "metadata": {},
   "outputs": [
    {
     "data": {
      "text/plain": [
       "'sagemaker-pytorch-2019-09-17-17-18-24-188'"
      ]
     },
     "execution_count": 121,
     "metadata": {},
     "output_type": "execute_result"
    }
   ],
   "source": [
    "predictor.endpoint"
   ]
  },
  {
   "cell_type": "markdown",
   "metadata": {},
   "source": [
    "Once you have added the endpoint name to the Lambda function, click on **Save**. Your Lambda function is now up and running. Next we need to create a way for our web app to execute the Lambda function.\n",
    "\n",
    "### Setting up API Gateway\n",
    "\n",
    "Now that our Lambda function is set up, it is time to create a new API using API Gateway that will trigger the Lambda function we have just created.\n",
    "\n",
    "Using AWS Console, navigate to **Amazon API Gateway** and then click on **Get started**.\n",
    "\n",
    "On the next page, make sure that **New API** is selected and give the new api a name, for example, `sentiment_analysis_api`. Then, click on **Create API**.\n",
    "\n",
    "Now we have created an API, however it doesn't currently do anything. What we want it to do is to trigger the Lambda function that we created earlier.\n",
    "\n",
    "Select the **Actions** dropdown menu and click **Create Method**. A new blank method will be created, select its dropdown menu and select **POST**, then click on the check mark beside it.\n",
    "\n",
    "For the integration point, make sure that **Lambda Function** is selected and click on the **Use Lambda Proxy integration**. This option makes sure that the data that is sent to the API is then sent directly to the Lambda function with no processing. It also means that the return value must be a proper response object as it will also not be processed by API Gateway.\n",
    "\n",
    "Type the name of the Lambda function you created earlier into the **Lambda Function** text entry box and then click on **Save**. Click on **OK** in the pop-up box that then appears, giving permission to API Gateway to invoke the Lambda function you created.\n",
    "\n",
    "The last step in creating the API Gateway is to select the **Actions** dropdown and click on **Deploy API**. You will need to create a new Deployment stage and name it anything you like, for example `prod`.\n",
    "\n",
    "You have now successfully set up a public API to access your SageMaker model. Make sure to copy or write down the URL provided to invoke your newly created public API as this will be needed in the next step. This URL can be found at the top of the page, highlighted in blue next to the text **Invoke URL**."
   ]
  },
  {
   "cell_type": "markdown",
   "metadata": {},
   "source": [
    "## Step 4: Deploying our web app\n",
    "\n",
    "Now that we have a publicly available API, we can start using it in a web app. For our purposes, we have provided a simple static html file which can make use of the public api you created earlier.\n",
    "\n",
    "In the `website` folder there should be a file called `index.html`. Download the file to your computer and open that file up in a text editor of your choice. There should be a line which contains **\\*\\*REPLACE WITH PUBLIC API URL\\*\\***. Replace this string with the url that you wrote down in the last step and then save the file.\n",
    "\n",
    "Now, if you open `index.html` on your local computer, your browser will behave as a local web server and you can use the provided site to interact with your SageMaker model.\n",
    "\n",
    "If you'd like to go further, you can host this html file anywhere you'd like, for example using github or hosting a static site on Amazon's S3. Once you have done this you can share the link with anyone you'd like and have them play with it too!\n",
    "\n",
    "> **Important Note** In order for the web app to communicate with the SageMaker endpoint, the endpoint has to actually be deployed and running. This means that you are paying for it. Make sure that the endpoint is running when you want to use the web app but that you shut it down when you don't need it, otherwise you will end up with a surprisingly large AWS bill.\n",
    "\n",
    "**TODO:** Make sure that you include the edited `index.html` file in your project submission."
   ]
  },
  {
   "cell_type": "markdown",
   "metadata": {},
   "source": [
    "Now that your web app is working, trying playing around with it and see how well it works.\n",
    "\n",
    "**Question**: Give an example of a review that you entered into your web app. What was the predicted sentiment of your example review?"
   ]
  },
  {
   "cell_type": "markdown",
   "metadata": {},
   "source": [
    "**Answer:** \n",
    "**review**dont think the director knows how to make good movies. it was a really bad movie. i wasted  my time and money\n",
    "**Prediction** Review was negtive"
   ]
  },
  {
   "cell_type": "markdown",
   "metadata": {},
   "source": [
    "### Delete the endpoint\n",
    "\n",
    "**Please ignore the error, i deleted end point twice to make sure it is gone**\n",
    "\n",
    "Remember to always shut down your endpoint if you are no longer using it. You are charged for the length of time that the endpoint is running so if you forget and leave it on you could end up with an unexpectedly large bill."
   ]
  },
  {
   "cell_type": "code",
   "execution_count": 123,
   "metadata": {},
   "outputs": [
    {
     "ename": "ClientError",
     "evalue": "An error occurred (ValidationException) when calling the DeleteEndpointConfig operation: Could not find endpoint configuration \"arn:aws:sagemaker:ap-south-1:491650329002:endpoint-config/sagemaker-pytorch-2019-09-17-17-18-24-188\".",
     "output_type": "error",
     "traceback": [
      "\u001b[0;31m---------------------------------------------------------------------------\u001b[0m",
      "\u001b[0;31mClientError\u001b[0m                               Traceback (most recent call last)",
      "\u001b[0;32m<ipython-input-123-9dbbcf45efe1>\u001b[0m in \u001b[0;36m<module>\u001b[0;34m()\u001b[0m\n\u001b[0;32m----> 1\u001b[0;31m \u001b[0mpredictor\u001b[0m\u001b[0;34m.\u001b[0m\u001b[0mdelete_endpoint\u001b[0m\u001b[0;34m(\u001b[0m\u001b[0;34m)\u001b[0m\u001b[0;34m\u001b[0m\u001b[0m\n\u001b[0m",
      "\u001b[0;32m~/anaconda3/envs/pytorch_p36/lib/python3.6/site-packages/sagemaker/predictor.py\u001b[0m in \u001b[0;36mdelete_endpoint\u001b[0;34m(self, delete_endpoint_config)\u001b[0m\n\u001b[1;32m    152\u001b[0m         \"\"\"\n\u001b[1;32m    153\u001b[0m         \u001b[0;32mif\u001b[0m \u001b[0mdelete_endpoint_config\u001b[0m\u001b[0;34m:\u001b[0m\u001b[0;34m\u001b[0m\u001b[0m\n\u001b[0;32m--> 154\u001b[0;31m             \u001b[0mself\u001b[0m\u001b[0;34m.\u001b[0m\u001b[0m_delete_endpoint_config\u001b[0m\u001b[0;34m(\u001b[0m\u001b[0;34m)\u001b[0m\u001b[0;34m\u001b[0m\u001b[0m\n\u001b[0m\u001b[1;32m    155\u001b[0m \u001b[0;34m\u001b[0m\u001b[0m\n\u001b[1;32m    156\u001b[0m         \u001b[0mself\u001b[0m\u001b[0;34m.\u001b[0m\u001b[0msagemaker_session\u001b[0m\u001b[0;34m.\u001b[0m\u001b[0mdelete_endpoint\u001b[0m\u001b[0;34m(\u001b[0m\u001b[0mself\u001b[0m\u001b[0;34m.\u001b[0m\u001b[0mendpoint\u001b[0m\u001b[0;34m)\u001b[0m\u001b[0;34m\u001b[0m\u001b[0m\n",
      "\u001b[0;32m~/anaconda3/envs/pytorch_p36/lib/python3.6/site-packages/sagemaker/predictor.py\u001b[0m in \u001b[0;36m_delete_endpoint_config\u001b[0;34m(self)\u001b[0m\n\u001b[1;32m    138\u001b[0m     \u001b[0;32mdef\u001b[0m \u001b[0m_delete_endpoint_config\u001b[0m\u001b[0;34m(\u001b[0m\u001b[0mself\u001b[0m\u001b[0;34m)\u001b[0m\u001b[0;34m:\u001b[0m\u001b[0;34m\u001b[0m\u001b[0m\n\u001b[1;32m    139\u001b[0m         \u001b[0;34m\"\"\"Delete the Amazon SageMaker endpoint configuration\"\"\"\u001b[0m\u001b[0;34m\u001b[0m\u001b[0m\n\u001b[0;32m--> 140\u001b[0;31m         \u001b[0mself\u001b[0m\u001b[0;34m.\u001b[0m\u001b[0msagemaker_session\u001b[0m\u001b[0;34m.\u001b[0m\u001b[0mdelete_endpoint_config\u001b[0m\u001b[0;34m(\u001b[0m\u001b[0mself\u001b[0m\u001b[0;34m.\u001b[0m\u001b[0m_endpoint_config_name\u001b[0m\u001b[0;34m)\u001b[0m\u001b[0;34m\u001b[0m\u001b[0m\n\u001b[0m\u001b[1;32m    141\u001b[0m \u001b[0;34m\u001b[0m\u001b[0m\n\u001b[1;32m    142\u001b[0m     \u001b[0;32mdef\u001b[0m \u001b[0mdelete_endpoint\u001b[0m\u001b[0;34m(\u001b[0m\u001b[0mself\u001b[0m\u001b[0;34m,\u001b[0m \u001b[0mdelete_endpoint_config\u001b[0m\u001b[0;34m=\u001b[0m\u001b[0;32mTrue\u001b[0m\u001b[0;34m)\u001b[0m\u001b[0;34m:\u001b[0m\u001b[0;34m\u001b[0m\u001b[0m\n",
      "\u001b[0;32m~/anaconda3/envs/pytorch_p36/lib/python3.6/site-packages/sagemaker/session.py\u001b[0m in \u001b[0;36mdelete_endpoint_config\u001b[0;34m(self, endpoint_config_name)\u001b[0m\n\u001b[1;32m    998\u001b[0m         \"\"\"\n\u001b[1;32m    999\u001b[0m         \u001b[0mLOGGER\u001b[0m\u001b[0;34m.\u001b[0m\u001b[0minfo\u001b[0m\u001b[0;34m(\u001b[0m\u001b[0;34m\"Deleting endpoint configuration with name: %s\"\u001b[0m\u001b[0;34m,\u001b[0m \u001b[0mendpoint_config_name\u001b[0m\u001b[0;34m)\u001b[0m\u001b[0;34m\u001b[0m\u001b[0m\n\u001b[0;32m-> 1000\u001b[0;31m         \u001b[0mself\u001b[0m\u001b[0;34m.\u001b[0m\u001b[0msagemaker_client\u001b[0m\u001b[0;34m.\u001b[0m\u001b[0mdelete_endpoint_config\u001b[0m\u001b[0;34m(\u001b[0m\u001b[0mEndpointConfigName\u001b[0m\u001b[0;34m=\u001b[0m\u001b[0mendpoint_config_name\u001b[0m\u001b[0;34m)\u001b[0m\u001b[0;34m\u001b[0m\u001b[0m\n\u001b[0m\u001b[1;32m   1001\u001b[0m \u001b[0;34m\u001b[0m\u001b[0m\n\u001b[1;32m   1002\u001b[0m     \u001b[0;32mdef\u001b[0m \u001b[0mdelete_model\u001b[0m\u001b[0;34m(\u001b[0m\u001b[0mself\u001b[0m\u001b[0;34m,\u001b[0m \u001b[0mmodel_name\u001b[0m\u001b[0;34m)\u001b[0m\u001b[0;34m:\u001b[0m\u001b[0;34m\u001b[0m\u001b[0m\n",
      "\u001b[0;32m~/anaconda3/envs/pytorch_p36/lib/python3.6/site-packages/botocore/client.py\u001b[0m in \u001b[0;36m_api_call\u001b[0;34m(self, *args, **kwargs)\u001b[0m\n\u001b[1;32m    355\u001b[0m                     \"%s() only accepts keyword arguments.\" % py_operation_name)\n\u001b[1;32m    356\u001b[0m             \u001b[0;31m# The \"self\" in this scope is referring to the BaseClient.\u001b[0m\u001b[0;34m\u001b[0m\u001b[0;34m\u001b[0m\u001b[0m\n\u001b[0;32m--> 357\u001b[0;31m             \u001b[0;32mreturn\u001b[0m \u001b[0mself\u001b[0m\u001b[0;34m.\u001b[0m\u001b[0m_make_api_call\u001b[0m\u001b[0;34m(\u001b[0m\u001b[0moperation_name\u001b[0m\u001b[0;34m,\u001b[0m \u001b[0mkwargs\u001b[0m\u001b[0;34m)\u001b[0m\u001b[0;34m\u001b[0m\u001b[0m\n\u001b[0m\u001b[1;32m    358\u001b[0m \u001b[0;34m\u001b[0m\u001b[0m\n\u001b[1;32m    359\u001b[0m         \u001b[0m_api_call\u001b[0m\u001b[0;34m.\u001b[0m\u001b[0m__name__\u001b[0m \u001b[0;34m=\u001b[0m \u001b[0mstr\u001b[0m\u001b[0;34m(\u001b[0m\u001b[0mpy_operation_name\u001b[0m\u001b[0;34m)\u001b[0m\u001b[0;34m\u001b[0m\u001b[0m\n",
      "\u001b[0;32m~/anaconda3/envs/pytorch_p36/lib/python3.6/site-packages/botocore/client.py\u001b[0m in \u001b[0;36m_make_api_call\u001b[0;34m(self, operation_name, api_params)\u001b[0m\n\u001b[1;32m    659\u001b[0m             \u001b[0merror_code\u001b[0m \u001b[0;34m=\u001b[0m \u001b[0mparsed_response\u001b[0m\u001b[0;34m.\u001b[0m\u001b[0mget\u001b[0m\u001b[0;34m(\u001b[0m\u001b[0;34m\"Error\"\u001b[0m\u001b[0;34m,\u001b[0m \u001b[0;34m{\u001b[0m\u001b[0;34m}\u001b[0m\u001b[0;34m)\u001b[0m\u001b[0;34m.\u001b[0m\u001b[0mget\u001b[0m\u001b[0;34m(\u001b[0m\u001b[0;34m\"Code\"\u001b[0m\u001b[0;34m)\u001b[0m\u001b[0;34m\u001b[0m\u001b[0m\n\u001b[1;32m    660\u001b[0m             \u001b[0merror_class\u001b[0m \u001b[0;34m=\u001b[0m \u001b[0mself\u001b[0m\u001b[0;34m.\u001b[0m\u001b[0mexceptions\u001b[0m\u001b[0;34m.\u001b[0m\u001b[0mfrom_code\u001b[0m\u001b[0;34m(\u001b[0m\u001b[0merror_code\u001b[0m\u001b[0;34m)\u001b[0m\u001b[0;34m\u001b[0m\u001b[0m\n\u001b[0;32m--> 661\u001b[0;31m             \u001b[0;32mraise\u001b[0m \u001b[0merror_class\u001b[0m\u001b[0;34m(\u001b[0m\u001b[0mparsed_response\u001b[0m\u001b[0;34m,\u001b[0m \u001b[0moperation_name\u001b[0m\u001b[0;34m)\u001b[0m\u001b[0;34m\u001b[0m\u001b[0m\n\u001b[0m\u001b[1;32m    662\u001b[0m         \u001b[0;32melse\u001b[0m\u001b[0;34m:\u001b[0m\u001b[0;34m\u001b[0m\u001b[0m\n\u001b[1;32m    663\u001b[0m             \u001b[0;32mreturn\u001b[0m \u001b[0mparsed_response\u001b[0m\u001b[0;34m\u001b[0m\u001b[0m\n",
      "\u001b[0;31mClientError\u001b[0m: An error occurred (ValidationException) when calling the DeleteEndpointConfig operation: Could not find endpoint configuration \"arn:aws:sagemaker:ap-south-1:491650329002:endpoint-config/sagemaker-pytorch-2019-09-17-17-18-24-188\"."
     ]
    }
   ],
   "source": [
    "predictor.delete_endpoint()"
   ]
  },
  {
   "cell_type": "code",
   "execution_count": null,
   "metadata": {},
   "outputs": [],
   "source": []
  }
 ],
 "metadata": {
  "kernelspec": {
   "display_name": "conda_pytorch_p36",
   "language": "python",
   "name": "conda_pytorch_p36"
  },
  "language_info": {
   "codemirror_mode": {
    "name": "ipython",
    "version": 3
   },
   "file_extension": ".py",
   "mimetype": "text/x-python",
   "name": "python",
   "nbconvert_exporter": "python",
   "pygments_lexer": "ipython3",
   "version": "3.6.5"
  },
  "widgets": {
   "application/vnd.jupyter.widget-state+json": {
    "state": {},
    "version_major": 2,
    "version_minor": 0
   }
  }
 },
 "nbformat": 4,
 "nbformat_minor": 2
}
